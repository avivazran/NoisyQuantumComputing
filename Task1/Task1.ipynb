{
 "cells": [
  {
   "cell_type": "markdown",
   "metadata": {
    "hideCode": true,
    "hidePrompt": true
   },
   "source": [
    "# Assignment 1\n",
    "___\n",
    "<b>Author: Aviv Azran<b>"
   ]
  },
  {
   "cell_type": "code",
   "execution_count": 2,
   "metadata": {
    "hideCode": true,
    "hidePrompt": true
   },
   "outputs": [
    {
     "data": {
      "image/svg+xml": [
       "<svg class=\"st2\" color-interpolation-filters=\"sRGB\" height=\"2.91707in\" viewBox=\"0 0 1291.68 210.029\" width=\"17.94in\" xml:space=\"preserve\" xmlns=\"http://www.w3.org/2000/svg\" xmlns:ev=\"http://www.w3.org/2001/xml-events\" xmlns:v=\"http://schemas.microsoft.com/visio/2003/SVGExtensions/\" xmlns:xlink=\"http://www.w3.org/1999/xlink\">\n",
       "\t<v:documentProperties v:langID=\"8192\" v:metric=\"true\" v:viewMarkup=\"false\"/>\n",
       "\n",
       "\t<style type=\"text/css\">\n",
       "\t<![CDATA[\n",
       "\t\t.st1 {fill:none;stroke:none;stroke-linecap:round;stroke-linejoin:round;stroke-width:0.75}\n",
       "\t\t.st2 {fill:none;fill-rule:evenodd;font-size:12px;overflow:visible;stroke-linecap:square;stroke-miterlimit:3}\n",
       "\t]]>\n",
       "\t</style>\n",
       "\n",
       "\t<g v:groupContext=\"foregroundPage\" v:index=\"1\" v:mID=\"0\">\n",
       "\t\t<title>Page-1</title>\n",
       "\t\t<v:pageProperties v:drawingScale=\"0.0393701\" v:drawingUnits=\"24\" v:pageScale=\"0.0393701\" v:shadowOffsetX=\"8.50394\" v:shadowOffsetY=\"-8.50394\"/>\n",
       "\t\t<g id=\"shape1-1\" transform=\"translate(0.375,-0.375)\" v:groupContext=\"shape\" v:mID=\"1\">\n",
       "\t\t\t<title>Sheet.1</title>\n",
       "\t\t\t<rect class=\"st1\" height=\"209.279\" v:rectContext=\"foreign\" width=\"1290.93\" x=\"0\" y=\"0.749994\"/>\n",
       "\t\t\t<image height=\"209.279\" preserveAspectRatio=\"none\" width=\"1290.93\" x=\"0\" xlink:href=\"data:image/png;base64,       iVBORw0KGgoAAAANSUhEUgAABrkAAAEXCAYAAAAZeS81AAAAAXNSR0IArs4c6QAAAARnQU1BAACxjwv8YQUAAAAJcEhZcwAADsEAAA7B       AbiRa+0AALUTSURBVHhe7b0/liTF06X9LWK2xSrYQm8ApFdrHWEExDktjIAIEqO8aC0xSksoSGyhv3P7dy5jXMw8PPJPVWb1IzynMtzN       za6ZeWRmhdPF//c//sf/+AwAAAAAAAAAAAAAAADwTHDIBQAAAAAAAAAAAAAAAE8Hh1wAAAAAAAAAAAAAAADwdHDIBQAAAAAAAAAAAAAA       AE8Hh1wAAAAAAAAAAAAAAADwdHDIBQAAAAAAAAAAAAAAAE8Hh1wAAAAAAAAAAAAAAADwdHDIBQAAAAAAAAAAAAAAAE8Hh1wAAAAAAAAA       AAAAAADwdHDIBQAAAAAAAAAAAAAAAE8Hh1wAAAAAAAAAAAAAAADwdHDIBQAAAAAAAAAAAAAAAE8Hh1wAAAAAAAAAAAAAAADwdHDIBQAA       AAAAAAAAAAAAAE8Hh1wAJ/j+++8///nnn59/+umndh4AAAAAAAAAAAAAAF6GU4dcerD/119//YPff//98zfffNPaX8MPP/zwxb9+eqyL       L/LAQXqkq5vrcKwzuXz77bef//jjj3/o2I330ig/aZXmbv61mPopat8fCQ65AAAAAAAAAAAAAAAeg61DLj/Y7w5Kfvvtt7scSvjgqfrV       wYJ0SE/a1UOHesh1dLhTbXcPuXw4kwcdPvh6tAMl6XzUQ67sJwAAAAAAAAAAAAAAwA6Hh1w+uNFhVjcvugOpa9k95BLSVg9xfHClsaN/       dSP/PsDbOeSSr1Wujr17YPYScMgFAAAAAAAAAAAAAABvjcNDrp0Dku5gx//6S4dBPhgy0wFRRTa7h1ypser5+PHjeOBkOx2SicnO7Bz4       CWuXLl3XOGnb5eT1layZc3737t0X37ardbDe6kdo7RlN9qNxYT/VRn48XjWsyDiJxjWfffG4teunbBSz1mLynXXp7Ozz/fv3X+Zlpx44       dvbjyGetYfZXY9WXcaxqW+MexXScyT8AAAAAAAAAAAAAwDOzPORaHYQkeqBeH7L7Af2nT5/+8ZBdr/NhfYcf0Fc7rc0H+Z1Gj9VDii6e       Nf74449/29fDlKTT1JGaVnXMnHxQo5+TTR1TfT3uOHnIJNscO6vJhyma01iNpZ85LvTaPjsyTkdXc2mu/nUtHaL60nj612uNWa/Q6y6G       /Km+tW5eX213fLqG8ldr7vzqWtFpUhztZ78+ijn5BgAAAAAAAAAAAAB4CywPufxgfucheT7893UedthnfdDf4Qf09SG/dMinfNcx+asH       EfWgReN+nYcu0nBkU+liTdi3/FlPl3OXU+Ka1T7odXeAMdVtqtGOJsfP+kw9VuyjnETGmai17PLTfI4J5+i1vs6cu/HJp3P2+K5P13Dq       g9BrjWWMZDcmAAAAAAAAAAAAAMBbZnnIdfSwvZK2vs5DmO6hfof8dIc1GktSX8bQvLRIk22q3l1NOjzIQ4qJamv/3eHDzkFPt35a19Vd       r6fDlR1NPqBJW4/XWKLWto4nWtf1M7Xan//FXerQda4xNfeVrqzR5DN97PoUet3VO2OlluRMHgAAAAAAAAAAAAAAb5WtQy49OO/mK2ce       /uuh/tGBktbpwKOulw75lG+P+bCmPtj3mGN0BzpVQ9rbJsnDiBWd/xrfdDkJ51+p66fDDF1rvPassz2jqfO5Gl/1vpJxVshWNehyrrWu       46LG6Gpaqb4nn5nbrs+pVkJjtnNfpnzEmTwAAAAAAAAAAAAAAN4qW3+usDsISfTgvT5cXx10rA4ljB/k1/XToUgeIHQHBfLjtTv2HdVH       N2/sz3XL60rm5LrVWnbr68GIx0TmNtme0dT5XI07h673lYyzQrbaD12PVvtJ65z7bv/E5DNz2/U51UpUjau+mDN5AAAAAAAAAAAAAAC8       VZaHXEIP2/0AvpsX3YP5PAyorA4ljNadPeRyfOupMeohQz1UmOw7Ms5Eal/5z5y62nh9jZs5mJrnyvaMps7nanzV+0rGmbC/Dx8+tPFU       l8yvzjnHXV2i64NIH7s+p1oJjVX9U2xzJg8AAAAAAAAAAAAAgLfK4SGXH87XA5ZED9v10F0P3z22ehB/9BBfaN3uIZdj+QBBfuU/Y3h9       HjZM9h1al7oqky/l3B3EaNw5eW3W2vnVceno/HWHKc4767ajSdedz9W49U41MpOuStazWyO9XU+sz3WbetOhNZ1d5rbrc6qV0Fjtg3xf       sscAAAAAAAAAAAAAAL4mDg+5hB/s1wfxZjpgWB10TAcIle5Bf3fA0T3wnw4BfNCw42OFc84Di1WdPFfX6LX8VD3yXa+tWXaaq2u7OLav       cRx76tGRps7nanyKl2hdjdORNl2v3I/OLmvkfVVrKRSn6tV8tx+63HZ8TrWyXeqUr6yNfNnfTkzbdDEBAAAAAAAAAAAAAJ6drUMuowfq       emheyYfspjsMMFpzdKDkB/R1vR7WZ3yRGrqDECPbM/YTPrTo9OSBhXFORjqUU3c4YxvNvX///stY1d0djIjpMKXWrs7taJp8TuOr3leq       pkQ6rC37leP6qfqoToprH1M/rc92na195voptyOfU62ExrpeZn3k3z0RRzFdpy4mAAAAAAAAAAAAAMCzc+qQC47xwUIeSMD9mA6kAAAA       AAAAAAAAAADg7cIh1x3wQVf+yxq4DxxyAQAAAAAAAAAAAAB8fXDIBU8Ph1wAAAAAAAAAAAAAAF8fHHLB08MhFwAAAAAAAAAAAADA1weH       XAAAAAAAAAAAAAAAAPB0cMgFAAAAAAAAAAAAAAAATweHXAAAAAAAAAAAAAAAAPB0cMgFAAAAAAAAAAAAAAAATweHXAAAAAAAAAAAAAAA       APB0cMgFAAAAAAAAAAAAAAAATweHXAAAAAAAAAAAAAAAAPB0cMgFAAAAAAAAAAAAAAAATweHXAAAAAAAAAAAAAAAAPB0cMgFAAAAAAAA       AAAAAAAAT8dDH3L99NNPn//444/P3377bTsPL8MPP/zw+c8///z8/ffft/PXIJ/yrV5383Abfvvtt89//fXXF9TPzuYRke7ff//98zff       fNPOV2T7CO8X3tPPUOdn0voS7O437THtNdl38/fmzH3x7LBHAQAAAAAAAABgxelDLh1G3OLBnh7O6SGdH7ybepjy1g+59NDuGfKTztqX       W+IHmBxy3Y/dw5/pnhSv9YD5zMP8Ls973mOuV+7dR3wor/xVh9T0tR4gTPtid7+5nrf4LLyEM/fFs/Cse3T1ncg5PcJ7KQAAAAAAAADA       W2X7kKs+AL/2wZ4eCslPd7Dx66+//n2YovnuQeRb4Vny00O5ex1ywX3xfbtzz06HNq/JtQ/z73mP+QF21usRH8pPmh79AOFeTPviWQ6P       nkXnGZ5tj/r9cvpOZN31/UE5TN99AAAAAAAAAADgMg4PueqDHLPzwHxCD3f04EcPgLr5yvQg8q3wLPnpwdxuz+Cx8P27c89OhzavybUP       8+95j031esSH8pOmR9T6Ekz74lkOj55F5xmeZY/ufieS7vfv3/9r/C32DgAAAAAAAADgNdk+5NJDQb/uHujs4IdVuw/R/SDy3bt3/3io       JB/ylfb2Xx8+TbF2bf0gu9rlwzZd1/mjB1idT6F/xaa1ud72WXfnUPWkFnHm4WCXy48//tjWfJW357rYGrO/LgejfCf/YhXfZJ+7PHZI       PyL3Sz30SG3d3pJWaa52XR0msj6KXR/aK2adF12NjPWf0ZBkTGnUWNUm/10fun2u19KsuVqrbr1tlZ99VS2i9iHrV+Me0dXWOXqvKM+0       q/HNNfugW+sa2CbzrDZntWZdsw+e11r7c12qn4pi25/J/N1bfRbU+DVX59Lp9tx///d//2O98ZopTuZQ8/SYXmssP69yrcm8tWZ6r02s       s/b5TB11+KI4aeOeGdk7r8yh01/11L0lP52N8Xznr/pJfbX+QvZaV21WutJfrcWEY2itX0t/Z9sx1RMAAAAAAAAAAC7j1P+T65IHOpWz       D3dkr4dRWuOHT9aQfvywqj6k8sOs1Ltr6zHZe0xr6jprlK2uJ30dWtvlkWPWcWQr7VWLkFblWnOYkE3WxWPpV+OrvIVed3tFY7LVGudW       Y3qtbTz+4cOHv6+P4mvMuVff8lHz2KGri3XX/Kz706dP/xi3DvlJ2yO7jqk+8pV9cl1qnImuF2fo4mtMOWVf0k50NdFrjYn028XKmqiW       NbZwTaqt5n/++ee/bXaw3uyX65j7oNtHXc67+8Bx6lrnljnbNnt7Rqttq660cz7pb0L20lu1yqfiKJ7H5Mt+betY7mPXVyOftSZ5bRxH       OH7GqWNZC9fSa6d+yDbr67HMvUM6U4+uM8ZOHetcZy9Nnf5q2+WpOddD9l47Yftr9qjGaixpkaa6btLV+TvCeVf/RyhO1hMAAAAAAAAA       AC7nRQ+5tK4+mDvCD53qgyihh1D1YZQfWqXdtbZHD6OOHsrleNL579bKzg8Q67jq6V5ofHpAp/XyKd85Z1Z1UYy6fsovx7Vuys9xOl9H       ++RM/DP7rSP1VhSn1twPVDNn3zdVy6RtR3NXV9HF8ZjWVNsO56qcTBenI2thHL/6kY3iKF61df2qVr1e+U3bmrtQ3zKHaf+cxXpzb9h/       apnyS7vVuHH+nU0XZ8p5V6vjVZ/duNcJva62u9hHrav8d/tANnUv5bXotHf7QuzG6TTqtdbWMSFf1adrnnZC8VN/h+y63lfO1DE1Gteu       1sr60zbHfX2k0xz5TT/Or/a1Q/l3+i/1V3F9dtdcEgMAAAAAAAAAANa82CHXJWv1cEoPo/RQqo77IZUf3uVDrIofKl1iOz34M5Ov3Vy7       9bnW1/ozVvppbdZqbbLXvOzty0wPDyurumhd7cNu3l39cm1qc17Os2M3vuy6/XOGKZZIrb7u+q4x+8l1lax1slorUm/W5Axeu1ND+Z/2       X2qacnRuVWutW7UV6bfTkDaii3MJ9pO98J7OcdfTGqf14mgfOEa9typZi8l+V+sqXq3xLWrr2NWHXjtGtZWe+h7T1bTTXjV7TFwTR68V       R/E8JrLGU2wh/52PJPvbcaaOK3+pd9Kf8TLvI7o+1fH043hHdciaXuuvkjmvsO3UewAAAAAAAAAAuIwXP+Q68wBpepima437IdXqAV1q       PmPraz3c7A67ZOe5DvuZmPKrGvVATjb6KXuP1wd3qTvJenXUmDmXDwl3805dnU4/cHRt9VM+staV3fjOW2NV/xnka6pL5rOqc+21c07d       ZqU165Vkr7qan2FnvW2mOuU+T43G9auxVvWX3+qns83Yddz1vrQ2U79XPaoabVd7X+lqZKYamsx70rSrVfOdRuNYU02O6PzXvnS9FZ3+       tJWW3X2xG6fLc/KZtorR2Qn5X/XVTDovqaNea6zzJzIv+cgYFcdb7a2OyX7lZ5VP1VRretbfCsdyzhOOOfUdAAAAAAAAAAAu58X/XOGZ       hzxnHhpOD6ZS8xlb43h6WFb1rHztMOWnh29+KKfXjqHXttdaj0+6TdarY5VL1XNkm9Qcu4eLOZaxOs7W3THUvzPrxCqWxjTnuq/qfFSH       XY7WZv1S4yVorbV380cxau66nnrs+lU/ej3VP/12tmmTaI0fhJ/th/Vmv1c9qhqv2QdTDU3mPcXa1XoUz0w1mXD8qrXbT11vRae/arWv       1DPti904XZ6Tz7SdYojdOqePa+rY2VUyr5X+StebFZP9yk9q0bXu5dqXrOkZf0cc1U5IizStbAAAAAAAAAAA4HJe9JBLD5XOPEzefWg4       2V1rm/jhmPNf+dphWm8dqpNiWY/H808XCtlND+dWD/XMKhfN1YeEK9ukxu7WpbZrta6Qz3wAesQqlsY0Z395Xal+VnZHHK2tcXR97T0r       VnvLrGw0VzW5D9lj51a15tpKxuw0ZD06XKMju8R6sxerPVw1Tut3OLpPshaT/a7WnftSnM2p65n7obmVneh0VQ2a12v9rOumfbEbp8tz       8pm2k53nFCf1Jqnz2jpO456relf6K11vVkz2Kz9V92Sn61rTXX8519HVuKLxM995AAAAAAAAAADgPC96yCW0ducBmdh9aOiHVr6uTA+4       dmwT558P1TpfO2hdF6/G+fTp0z/mVb9ff/31S/71wZleTw/TFOeo5tN6a9mtYeL1Hz9+/PIz19iX42aNq605E7/ifXNm/65iSXOtS+7L       isZqD87cB8m01rWr+XVjZ9itmfKrtTBeX/VONfV4jaXXZw7Ect9MupJdu8pUG+eRmkVq1HWtzS7ua+YrrKvW96jmR1pX8Spd7An7nOpX       x7NuaZv6bf/LL7+066Z+78bp8tTrrpdpKx+777UTVafX1XqJM3Wc6mHtNS/7rbl3ZM2OmPyu/NR8NN/lIJs6vusv5zqm2gv554ALAAAA       AAAAAOD+3OSQy+PdA77EttNDPh2G+GHU7kND26ZPP8zKh2a7tnrd2dQx1SJ9KQ+NH9Vi9bDNGjP/aVwopvy5fkK+U99Et15jOmjrxnfz       lmbpFdWH6GrgMfnymHzrgbV+6nonvg4DazzZ1jzyesI17zRqzmOKm/vSuAbW5vX5QFUxuvUVx8m1yr3GEJrv7tkOxc16nr2vq63HtH/S       R2rVT12rzlWrXmus9mnSJVuNa95jrnP2TnvD1/bnuHm9YjemSftr9oHXVp3Wnv48njmd0Sqb7I+o+8Z9PNJu5EvxpUPXq32QOYlJv8bl       R3S5Tet243R56rXG6p6cbDNvj3XvtR2pM/2draOuNV71e2y6f+W71k/2GrfdVOMJx6t6xcpPzcd2db1qnu8fu/5yrmPSLM76AgAAAAAA       AACAy3jxQy6jB0x6+JTUh1FnHhqKzuf0gG3H1g/IVjaTXWqbqGvrmu6B3WrcpJZazx3kt66XP+Xc+clYtq82wpq7B36ey7q6x9V35nwU       P3PJHGS7+xByZ79M+1JoLPdyl2PaTPieq2u7XGw37ZdKV8+ddabTpBp1uaet94Dsaky9lt379++/2Ni+y9W2OV7z0mvvOY+JGtN9yf52       1B46x2lPi05j9WHsq67t6NbWXCo1b2s4q7WrXbWxHtXZa1Zondbbl3yr1xqreXRaxKTffld1zH2hsd04XZ563cWbaqJYjm8N8q84ildt       k9R5bR1F+hDSM+Wl8Worao6rvTVR95d1rvxkPrKpejSfNT3j7wjXrNbYaKxqSXI/AAAAAAAAAADAZZw65AJ4K/jhJA8a78/0kPxR0cPv       Z9IL/2Z1+PDIPOK9cvbgBwAAAAAAAAAA4CXhkAu+SvQQOf9/Z3Afnu2QS3qf7XAE/kn+651n4BEP5nTP6t7lPwYAAAAAAAAAAIBHhUMu       +CrRw28dcvGvde7Psx1y6ZCBh/rPiw9mHvWgUvp0mJX3g/S+1n2i90P9/zDrv9byoRv/igsAAAAAAAAAAB4ZDrkA4K482yEXPCc+3NL/       7+jR/yWe9OX/o+k1D5N8oJWaHr2OAAAAAAAAAAAAHHIBAAAAAAAAAAAAAADA08EhFwAAAAAAAAAAAAAAADwdHHIBAAAAAAAAAAAAAADA       08EhFwAAAAAAAAAAAAAAADwdHHIBAAAAAAAAAAAAAADA08EhFwAAAAAAAAAAAAAAADwdHHIBAAAAAAAAAAAAAADA08EhFwAAAAAAAAAA       AAAAADwdHHIBAAAAAAAAAAAAAADA08EhFwAAAAAAAAAAAAAAADwdHHLdkZ9++unzH3/88fnbb79t52/NN9988/n333///Ndff33+888/       P3///fet3YTste6HH35o5++N6qR6qW7d/DXY92+//dbOf42oFi+5PyfYd28L5ar3IKGePso+uxTeO+DW6L645DP6a8SfD2ffn5/9fecS       rv0se6nPYvVG31X1nbWbfwle+vu5cY31+fjaNfgaeck9fuv91d3fen32s8R+dr7T+PfKe37/eamedJx5zzxTt0fnTN4dr9kzAAAAgBVb       h1z6EuOHlkJfjPQFqbNd4S9V1Zd5i7/sveQv0f5FZKeO7kN+OX3tL63XfuleYd9v4ZeTs6ie3b64xy/hK9h3vc1bottTL73PLsXvobkP       HqWH0nX2YdZbYHr/emb0Xvc19nLFdP/58+Hs+3P3vnPJXrKuZ3gP83vVUa2Oan3vz2L15rXvaeX+0j29dC/DeXwvvNb3zXt87+nub70+       +1liPzvfafxecc/vPy/Vk46uphNd3ab30kdnN2/bvdZ9dA+U860/f1QH1Un16uYBAADg5Tg85Oq+QOsL3tkv1aL7gviWUe1e6kvP7hdW       MX05fe0vrWdygH10v732AyXBvnvbvMTDkHvyyPvgte+R1+RR3r9uifqofqqv3fzXyEvcf5fupWd5b9ut4WT3Uu8zj3BPK3fVQLXo5u8B       9/3LMe3lZ/4sfY3vKC/x3veaPbm2pq/Rk1uwq/st3kf3+Px5jc8TAAAA6Dk85Prxxx//9aF96Zc6r3v0BwW34iW/9JzpyaN+ab10X8Ga       R3igJNh3b5tneRA88cj7QDX9Wj43k0d5/7oleq/Te57e+7r5r5GXuP+u2UvP0LPdGk52L/VZ/Aj3tHJXDVSLbv4ecN+/HNNefqk9fg9e       4zvKS3yve82eXFvT1+jJLdjV/Rbvo3t8/rzG5wkAAAD0XPT/5Lr0S6+/VO2s8xeo+icN88tY/ZImZHP0JcPaq9/uS5o0VpvJrzVUW+v0       l5537979I6byUn7pq6PTm1/OUquYatzZ2l/90up6GudUydzP5NWtVVyNZaxVHGvu9NV87KOzy1xlJ3vP7+SZNuLsl3/1Rr3Qfqm+st9G       /ms8UWM6/8nG8dJ3t6767fbkUa7su/vsuxVZ8+y1dVab1FlzSb215zknHG/aZ1qf9vqPKmqeNX5d6z1Y/UqD6vXdd9/9XTfnc5Rrp9/9       WPUwa+w11ca68nOgs+2YaiB2ariyzZ50diJjV021Bs7J/fH4FCvrLl+e63omFLP2xD50/X//7/8d6yrfRzXfyd37+dL3adlNPepwrtVH       7sUd3bVnWfd75NjZdT3t9Aj3qur2vur8e857yDlofNpL//t//+9Df55L/2fo4mcPz/RH5L7wWo2l78purdOu8+maVLtOa1J7U8e1tvqq       Np7r/GtMuqXfY6k/+6Z55+2x7l7byeeov51fceTbOZusmf0qlvN1Ts6v+zwUO3ty5V/zHjNdTzvUi7qu+jTyrfFLPjfTv7C2s3vcNbBN       7rOJ3OOruN0+6OLKTmNVp+ske8fo8qjx7TvtpLXWWuizSmP1/sncjHxrTc3HcavPjFu11fGOnbo4j6rZyEZrFFPXtRapNXPMuumnbY3m       ZVft6/xRjjv10rX87t4bqaOrWccj3EdiV3+3f2sPu9qK2pOzOtPeSJfqpznZ5Lo6J1u/zpp3+6XLs7NLX7pOGwAAgLfIQx5y+QtT/dD2       l5O61v4+ffq0paWLrxiKVb8oaazaON/6Zcl2uVYx9EuBXmtcmhXTudiXv9B4XUeX87TeuVUtE/Zb61vHs56rftR4nV1Hl5fHsp5Hcabe       2M516uoz1VL98/VOnp2N5o7qkKge0qL6O751Z36yVUzF9pjiZf1s29WnG8/chGK8f//+y2vrqb2b4iauU9bF4+y7c/tuwjFT24cPH/6+       7nyt6qPeHGlxXnW90HVq6dZ7TPEUV2OOnzk7VvWr9dbq9bb9+PHjP8bkL+N3vZrGpxor16pfdLqsP/dAh9Z3dhrfqaHH69gUv9PvWsmH       xzQvuxrfNVGeIse7fVHj266raY7VWNWvtdaaVPuaQyIbxbEekXUT1q3YtrX/1Ol+VD0eS78dzqfqVix/xxDSc6Zn0l3HO41nc6zxp73V       xdGa/Gyp2mwj/16X8Sa7bt90Y7v+bJvrj5DtzvuP4+30x7bKJ8ey7x1Htc77qtNgH9XOeR3F3+mD5uo+6uKZ9Kdrr9O111Ybxas2zr1q       Vz41546uNl1/hGxqjiuO6qEx55X9qus1l/F2Na/8Z42l75dffvm7vh32l72Xr6xLp7+rwYTzyf55fGeP21ZzK7sO+a551rhH/mxb9XlM       trne9XB9sr5p5z5UP11vPKaYVUvmZpRDzUXzZ9776ljHbl1ch2pnZCN7a3KO6kuXezfW1a2OCeuq48pvleNuvZzDzr1hHTt7qcO2qdvj       976PzujX63rt3uQ+0HW3f6/RKbusvdZ0a3PP6KfiaqzadrG7nBzH/rwXcu/+/PPPf68BAAB4y1x0yDV9cB8xfeGodF8yTMa1P6HXaZ9M       X2ym8YpiSpf06dqxO53GX1DSZqd+3ZcU09VxR49xjTO+xzNmxrO27OM0Xlnl5bo4h904sq+9Eam5q49ea0xzHqucib/ys4v8dfsi81vt       n64W8tvVO8enfVHZ9dUx+fd4rmffnc9TaL7L07jeVZPJvbXbGzHpSz2r+LKtNbVt7hnHqn7lr/ZxRae169U0rnVdD8/oylpPKFbVKW5R       wxxf6VGczmfqso8c1/paL9lVf6Ybl69aT+GeZA883unq4h1hf7XO8t3VaarRTo86utiJ651axKRnqmWt2dkc0y7HJ7vKlO/kK+2kWevl       x9eZazc2+dN19SekQbZaU23PovjSUWtuHUf98dq0E9KnvmUuyVGtjzSIrpar8UraOG7ujxzXuuyJbZzL1KMcz/52/T4iY1fci5rTpC2x       37q2G3dfOt3S1O2FM5on/x7vfKzo+ie0D7Qf6p6Y9KfGiaMa5h51TtKoa2vytZnGE83XGGfjpp1w7rUmel1rqmvFUTzbZAxfVz+aq36M       ddd8Mzez0xvnV/1NvaqcqUsXw2R9XItV7tbV1a0bE7rufJ6ly0W+d+6NMzWbmHrj8fTteljv1ItpvHIL/V0fFDN9XqNTdHGyFkba6x7U       2ikXra1+O+05PvUMAADga+H0IZc/PI8+8Dv8ga8P88Qf7t0XhVxv2+kLREeureQXjo780rCzRrE6G/vqtJiMl+QXnVV+yeR70uUveTtf       oLR26p9Yrc0cduN0urVGY5rTdfp2Tqu9sxtf89rDnd0ZpKWrXfrP3lc6zZN9jtecqp3JGlYUr9a7Y6qnx9Ove2SNu/3IObFam3ntxul0       Zx3St3O6xb7LOZHxOlY+cn2Xo8je1LHM7cw+y/pNtejiy29de0TqmmqX45OdyfwmXVNtK84zbTJGJWs42dq3+5X1qGQfJu1pZ1LTFKur       bWdrO2uvdPmucluRNRJ63dVTOdb36TM96tixWeWVvfB19sw5Vj/X5ph1W9XCaE42qS/z6PR2a7vaTPXKccewfpNariFj7vZnpWGqYXJU       6yMNqzjSJR/ylXMmc5cf+ZPfaue47oN853etXJu+TWrOdZ3vIybdIuOJndqIyW/WwzF8XZGPLtYZzZN/6+jqPJG+k9Q16Z/2aGK77Oe0       PnOa1ovU2pH78BZxuxqmli5O7rv00/k11lf3QOZmFGfnHppqs1p3pi6dZiObrhadbfrp6jTVbrcWO2S9MgfjGlnLmZpNTD4ylnHNrHel       QWulQVpyTtxCv9bKh3x5LOsprtEpJptufLefoupf5dzZdXsaAADga+DUIZc+WPWl7dIPzp0P3u7Lh/GXJ69ffeAn/gIj/R3dFwzFSTt/       AdJcfnFJui83Ykd398Wskr4vqUV+mZvGRe2L5rMulVVdVnllDmfi5L7J6/TtXI960MU1ju996fGufjukZlP74liyrTYm8xST3zpuv52d       sY5ag8rUV1Pz2BkXVeNuP9KH0NpJX9bsTJysbV6nb+d6i323Wquf3byY9oPQmOZko+vd3ug61052up5yUJzapym+Y1W/qumqNvZVa1nX       Z6/M1MOpxpnDpGuKV3GeaXOmhrKtOSeadxy9Tn9itwbTeNXkWJ0WU/OVptonsapdarBtapqQXeqpden0iIw72Ylaj5wzWj/1WNyqZyK1       nskxa1XRvHVOtTBTTzvdWb+unl0OU165Xj+lpfoTZ/dSRb4Uo9anavF857vq7nI1Uw2TM7U2VUOXS2XSZ7IPuu78GM3LTvZad3Td+TDO       WT9VA9WiW7vT48yjktrEqncVramaE/tc9TvzM2c0r/wrF+uZ/FVWe0tkbSb9K02VKd5KR61Nza+j01bJOp+JW+tQ6XLv6pSx8zr9rLRp       jdbKh8fSn3HN0o/91/rV9av4ZvItMp9Os5FNrW9XU2M/1trZTuu91vmuckuO6qVYiqnYdV1qUcya68p2YurNqmd1f2i+5pF0eRiv7WLs       1l1kDbr9e41OMfUk62TdNadprag1sK/UZmqe8unx7j4AAAB4y2wdctUvDfWD+Sz+cF994HZfPox1eL39HX1JE6svZIm/HFSduX6l00xf       XHZ0K079wpKk71vUYlWjmu+RthWrtZnDmTjVtqtFjq1yNWfzdAztHf3UdWc3Me2pqjXvgaTLffJbx4/8ip2arZjWr/xWjWf7UVmtzZqd       iVNtu9rn2CpXc688zbQfRO6Dld70M+2htFvFT/1TfMeqflTj7r5zD7IuqaPrXze+qonIHI50ZbyK80ybMzVc2RrHkW03v1uDabxqOoqV       dPpXtUv/it3VP7H2attp7fSIzH2yE7UeOWdW60WnrbLbM5GxbpGjOdJppp52utO207E7JtKffq7suhpOeE32O7Xs9kfz6ctMNUwmu10N       K7sdMvepLx3SLO3KIXVovfzIX65Lqp867trsfI9b6e60rHpX2a3H1Ecx5XdG88q/0ZxqJVZ2R3smazPp39EkpngrHbU2u72ayDrfIm6X       e1en6qNbk2MrbbknROZmtF77wH4cJ/M5UxtTc8q5zKfTbGRT/XT1Melnp5aJ53feT2x7VC/F6nylljM1m5h6M42Lqnel4Yiz+hU334c6       H1nPye4MU09yDylO2k1rRdUl9FpjaTfhmtT7EgAA4K1zeMjlLxLTB/AZ7Msf9h2rD3uv9xeYvF6xazvZ5ZeLlU4z2exoOfoyk1/SdvMT       k+9VzBrvki9aZrXWc87hTJyav+y1Tuu7+e6649I8vW61zzuypyZ1THadrZjsc3zlV5zZYx1TPVd1rppWdkes1nru2fed2Fmr2NIgLTmX       +lb+cr/op641vrJbxddcraHjZ70ca8fvNJ66MneT45OdyXhT/CM/wnmmzeTTc7WGK9tK1qOS+2DaF9O4rqumVayksz2qXc1Z60VnV+ni       uP51fWcnMvczPerY6dukRaSeqTci/dwix8pKp5l6Oum2z3fv3rXrupgrHZ6TDv1Mf2JVw4mpRqlltz8rO8912itnay2qhmn9Lpn7VKOO       qrFbl74njmI6jvx182Llo6uRNMunfFfbZLceXQwz+TijeeU/UZ1WuR35Sl2Tzl1N016exkXdOyu7HXIf3iKu52ruXZ1qjeRHa7S2m++u       K56r94FeZ0yhWPVheqdNnKmNOVMX+ZX/GsPIptajy89kXfJ6Guuwxi6OkY+dek12qeVMzSYmHyvfVe/K7ogz+idbXWtc8x7LeoprdIqp       Jzmn2LkHNJ8a65zXZn938f0w6QMAAHhrHB5y6cP4Vh+M/oDOD/hKfnGp5JeVsx/4O7lMX3QUo355X+k0muvi7ej2l5L8Iia69WdqMWmf       cheqnbWstB1hnd0ekJ76X2GdjWONHz9+/Jf/rj5H++HSPC9dV2tcx7Mv+jn9V1nKL3Oa8sx4K7/mqGYr2Hf/z35Vw2vy3Fk79UGoB5qT       TbU96o2uHTtrkHbTPvP6Gn/qm8erX+XT1TXji279UaydHjqH6mPS1fntkK/UdKaGq35XJp8ic5j2xTSu66ppFSvpan1UO+v48OHDF7uj       OF3fhP3Ucb3O/VRtHWvKsetRh/2t+jbFELs9E5nTbo47GsVKp3FPpx7kWl1r/JdffvnX/hBdDhrrbIX9ec8obtpobJqb6HQ41zo+5Smq       j6lOQn1QnY/6cbbWIvPQtXx0tTwifTnukW6hNVqrz1v9zDXSvvPeonUr/Y5TdSYr3d5Pda90Yx279XAfO7spvzOaV/6TnbpPe8a1rvtx       0r+racrT453Oui93+r9i2uNHcZ1frYVRLnl/T3Wyz53vpatc3dfqQ+vqPqnjdQ/UvGzj2HV8VRtzti6ym+pStdtvZ+vcrcu2Nc5KV2VV       Y7NbL8Xv9Ka+lbauZh3uTdrt7uedvCfO6JeObk9qbY5rLOt3jU4hHV184VpN30czF9Np6rTvsNIHAADw1lgecuUXpgl/EB998K6+sFT8       gV+/CPhLQtWyq8/YR36JURz7sM9qo3npSU2TTn2R8XxXk13d1lvr1X3pEWdqYR/ZB8er+RjZdjVJH4rfra94bdWqMenPHp+Jo2utl5+c       6+rT9Vr8/PPPf/dsJ35qyTqu6lrJGptuvWw1pjmPaT73o8fTVnTxJr/2aS25TvO1th2y17qsZZefSY2yYd+t83Q961rF0cNgx5Of3Cte       V7We6Y1+dv1NO4/Jr/zXsU+fPv1rXHrqmONIf/UrO9XVNazra67TetFpPdNDrU8Nk67Ob8e0/kwNNZ79lm6NV7+dT62Z9krui2lc19Wv       e5CxpEUaak1zre2OaudaZI8mMnfHUO6aq3adzy739Omxrkcdyq+rvb9jiC6G7Hd7JjKnszles7fSV8addLs/qqXW1TnR+ZKP1GBkJ/vJ       n1A/qs9VTU320HE0tusrc5GN1tf9rzHVQz5W94U5U2uR9rZNH1p7FL+LrbGdfSTkX7mK7KXWyLe01Tn5kC/HtA/71nWNvapFRetSt9dm       HWSTuiZ26uF7IOOIzC/ndjRP/jVeayl0nT1N7K/rfWqd9E+aEvlXHPmu46u+Zg6yUZ3Sh2J36yvp65K4NUeNKe/s0VQn2ctWcxmzq6H1       1Vw1JjtRx72+jllz3VfyX6/dE43t1qbiGDt1sc86Zj0a17zGnMukqcu7+hTZPyGbms9OjtZnm6lespOO7Hmn70zNOqyh1kGs8sl6WEP6       UOxufWVXf9cvzWmtxt1vr88xj1+q86i/8jl9H7VOUddrTep0nPSjdbUWv/76699zUw8BAADeKluHXP7wTfzh6w/Q7ktXxf52Pmj9ZaOS       Xx66L3RHdDmlbn+J8Lxye//+ffsFZqVTurqanNHd6e3qd8anqDn6y5LHMkehmPmlKutUfdW1HVk3rZv+7NBuHNdA7Nbce3fl+yi+fNY5       UWuo152mpKuxmPqScWUj22pj5Du1TfGO/LqW1WYnP1Fr6dhTfoJ9d1meXY9Uy2qTtRDZgzO9cU4ZZ9pnGq+xVSPFUTzFXdn++OOPX3xW       v1rf9aBbrzidrlo3+7qmh2LSNflNjnpQ469qqLlqa/tq09l1viZN0/ikKfWLozw1v1M72cl+ZVPJfkqvPvc1pvi26/aNmHI/06MO51HJ       GNf0TGROZ3PM+KKr+5FO91VzvmeOdMt2J6c67vhTHp0/74+al+y6ezupMe0/9Z3pj5Bd9an56bOs45Jap4bqw+zWI32J3B+iy8U6Ox8m       ay5qXvJbtXaxuzp0ZC+mtRrLPb/iqB6uf1ejzC/Z0Tz593hdu+pFRTayPVo76V/lnHif1Bhn93j1sdKbpK+zcbM/mu/u76M6nalh5iob       xVRsaVzZykbfy/S65pj3oebO1CbZrUtnq7iyUSzFlE2thaj26W+qm8e1Rj91nb7ETn479ZJvx6lrJ31natZRe20dq56lXpH7pfqqazt2       9aeddGis9tvUOtccrtFZez71oKu3xpTLd9999+Wnfeh19ljU/dbZdjko3/QDAADwVjn8c4UAcB36cskXTIBj/Mte94vd18yZ9xBq+B+m       hxsAE6t7p9tPfLYDALwufujfHSDA28QHOfWA6pFZfR/lOzsAAMBt4ZAL4I7ov/7SfwX2LF/EAV4L3ys8NP43u7/QU8P/QB3gLKsHpd5P       dY7PdgCA14dDrq+PZzoYOvo+yiEXAADAbeGQC+CO6Eur/g43/5oA4D/ontAvfPkLnX4B5Be9mfpfglLDNXpoMP1XswAd073jB1RCrz0u       Oz7bAQBeF70X672bQ663hz6X8z8k0bX+BN+z/AcmR99HOeQCAAC4LRxyAQDAi6JfXOvfixf5EBnWUMN/o4cFqgMHXLCL7yMeMgEAPB8c       cr1dfKBVeZbvd7vfRznkAgAAuC0ccgEAAAAAAAAAAAAAAMDTwSEXAAAAAAAAAAAAAAAAPB0ccgEAAAAAAAAAAAAAAMDTwSEXAAAAAAAA       AAAAAAAAPB0ccgEAAAAAAAAAAAAAAMDTwSEXAAAAAAAAAAAAAAAAPB0ccgEAAAAAAAAAAAAAAMDTwSEXAAAAAAAAAAAAAAAAPB0ccgEA       AAAAAAAAAAAAAMDTwSEXAAAAAAAAAAAAAAAAPB0cct2Rn3766fMff/zx+dtvv23nb80333zz+ffff//8119/ff7zzz8/f//9963dhOy1       7ocffmjn743qpHqpbt38Ndj3b7/91s7D2+Wa3rNv/oPy1/uKeK33h1tzj/cb1UnvwXov1vVrv6cCXMuZ7zGyveS7B9wPPsPgWh7tcy31       rJDt7vvXM6IevLX33Jf+3RngkTjzuwmf748J34XhGrrvWGe+99yaM9/5bLvz/vWSvOZ75Vv/HvqoHB5yeVP4Aae49CbrfF3r85F5yS/q       qp1quFNH9yHfrM68id0D67rHG6N980VwD/XgrdyT1/SeffN2P5zv8X6jWtX75rXfU5Ojzwnp/fTp0+leO8/6mf6a94zq/Rb37Gtw5nuM       bLUPtB88Ri9eF7/Pfc2fYXAdj/a5lnpWyDbff85+v3W+j3gPqQf5nvvsnPnMeU1Ue33X8X3g99r6PUhc0x+tW30nU61qrNfco2fvK+jx       PlI9u/mKbbPv9OJ1Uf3f2vsyvBz+zlG/Y5353nNrOj0Ttq3vX36f2llvlO8t76HpvfIlUEzFrp/jqkWO3QP3o35PEF/D58PhIZeaUDel       N8klxXnNDfYa6AZ/iQ0sXNudL0XTm9WZN7F7cCYHuC+v+WEKj4P6r33wFt+z7/F+k/fNa7+nJqvPJM3pi88ln1kfPnz4xxdR5/1a+2aV       J5zj2lrSC4Dn5tE+1679fnrJ+kf7LDfSI1318/fZeYbPDGmTRmnNsVvtEflefSfLOjn+a33vuva+hP/Q7a2z0AuA56X7vvGa9/S1338u       Xf+W38fu/T1HNVPtuu+HiqnavvXPh4v+XKE2qb54nd2sr/0F7KW59waunPlSNL3ZXPsmdi1ncoD7whdkEP6QfIvv2fd4v8n75rXfUyvO       N7Uof/+XPZcecnXIb/fl6iVQ7Fvl8bVzbS3pBcBz82ifa9d+P710/bVx74F68Fqfs/fiGT4zpDH3wq3uC/k++k42xXrN/fCI98czol6r       59oH3fwO9ALgeene31/znr72s+3S9dfGfWTu+T1He0R75Wv/DLjokOvSTecPbt2o3XzFMeoXvfzAr18E/KXwaMO48dVvl4c0VpvJrzVU       W+v0Bn737t0/Yiov5Ze+Ojq9uWlTq5hq3NnaX+2r62mcUyVzP5NXt1ZxNZaxVnGsudNX87GPzi5zlZ3sPb+TZ9qIs/eHyR65PzUHa65a       d/b20X5yzeq8qH526tHR+e76kdQ+1to498yp5iNq3Tym1xrLe7PW82jtd9999+Wn1/qeyzwzR+XR1cyx6r2r19L3/v371qd8eUxkv1fk       2lyvGDmfte3I/Zs1Fa7hUf2Na2O7rn4Tqcf1rb3NWtQemKN6Cfcr76e0yz0r6jrP1zHR7RExxam45l0vHGeyuQRp2e1TV48ff/zxy1jm       qutqV/W6PnVeKC+v72J1dcs4qSPRvPxKQ/U/1WBHh33W+3/VY6Fcq0/5yL4e7Uuh1/bntVmTXF9td3pRke+q8WgutXRrZVNzMdKtNUe1       7HqU/pyn8hKppfOxG1f6c04xck9ZQxej6qs+NLb7/ut6Ga3R/bl7fyc7dRXun3TW/DrbjlVdjO+FalNrJWoNhe1q/nU/TnVMPWfqd6nO       SYvJ3oqsUd5H1pJ2HV2vu/f2jGGsr8ayrfKqvrt6Vr9dDYV9Z3/qnDiTt3VPvoS17e7v9Cm7M/dh14uMVfdQxsv9ZrzXTO3rEd1ajXX7       didOl+NU953901FrVMe1VuM7PlbIr/uyqkU3Pmnr2N1PR/tGtqv7aopV913n56gfNddc2/kXRzrsR3baJytfRnOyqX6veY87k1f2O+2N       fVds2+2Vbq7LM/XYprs35Us+5TvnKl0OqVHXyrv+Hl5tjvrc4bhZK+eUPhRvimF9vj9rn1Jb1V1J/6pp+j3DTl1rDTJ+t4c6cl1Xe99b       psvJuV76rMWknm5vTmSvRNah1sx5rfab91P1mfbdXpTvld9K6ta6fG/vYgjrq7GqbfrOeqZf16RSfR/tlzN5i4zntfleKbo9Vue9pvrz       vPKr9cw1tS41h85n9Wv7Old97SBfnbYJ96zGrHqErqV79/fGR+Dif8l1SVJd4ztUSBXON4hwA+pa+9Pfq97ZAF1836y1mRqrNtqUamje       ZN1axdAbiV5rXJoV07nY1079upyn9c6tapmw31rfOp71XPWjxuvsOrq8PJb1PIoz9cZ2rlNXn6mW6p+vd/LsbDR3VIfEGjMX/SkwXXu+       2++eq+OKn/XU63rdrRO67mq6U48O+fn48eOX9R6zvqM6OWa1rbUQOV7z8Vhqlk+ttaZuP0xrpaXaORflKJ85XnPUa8WutRCOVbXrtdbX       Xjh+9sg5pd8OrU1ba625uiZV04T1577pYlnrUf2F5mVbdbkGta6J/VU98vvzzz///VqxpKHadHWQrWyqLudQ88qeWHvV6bFa0y53+Z9q       keOdbcX+j/p45OcM8lVrMaFYilltPeZ9blvVsatbxpnysN/0Wfvd+dQ675sJ+ZRvkXsi98mODmGf9T1lRRdLY/IrP/bhfVT3pehylx7v       uWqvcfnNsRpnGutw/qnJtXJdfJ09n3JPOzHFShTTcYVjy2+OqUd1fLJ37Oo3cR/Sn9C6mqd7Wf0phnPL+gn72Hn/lW3XZ41lvXew3prb       FFs2rq3HnU/X18pRXUSXW6fPMWvfqmb9zPHU1+np4nec1dntxQ7ZS6drKxRLfuXfY/JV83HsI91dr2otq8aMYRQjc5etfIjUeaR9GnNO       tT+KWePKXuuqTceZurpftu1q5vVZB4+l3w7np5gecz6Kl/FzD7kPmbtzONLfobVdTRSn+vT4URyPHem2L5Gxd2opn53dNH4N0l3zNtLa       1dg9rTXoOLOfNF7r19VZTJq0tvq0xpqX+1T15J/BTqxDe7XbB6llR4fmZCOfNeeJLpbHlE+t0VSfzP1MXh5LrVOsiuZk09nJn/zKv65d       l5qP11c7j1U7k/Xv0PqdZwX2pRqlv4zT6exwjjWO8PpaJ+WXef/yyy9/z2f99FPXZ95Xs1Yak+1RHh3ynzV0vlWPx3L/d+s7juriOtRa       el3m65jVn+u186xFpJ4pfkenyXFqbaaaTcim2llT14eaj+Z3dLtuda3Haj5dDCH/ud9rjp3OI+1TLK2r/VG8ul+E1lSbiam3+Qy11l6v       nZc0elwobvZaPvyMX/Nam+scp9ak6538Zl6az9pr/uj5Q8U+avwVsr/0PdexdvrzGpw+5Jo26g5d4xP7r5vKZNHtb7e43SZbjVcUs25m       x+50Gs3lDSIyjw5vnE5XV8cdPWbqocczZsaztuzjNF5Z5eW6OIfdOLKvvRGpuauPXmtMcx6rnIm/8rOL/HV1Mc6hizWtPfIpOv3dusz7       aPyI3XXel2nn/ZLjmY/rlr3fuTdXa/P+kY4c73LUfO5X4VjVVq/T1j6nPZ85JZljRWur3zO9lU2tu7EPodcacw1Ta2qb4u/o8r7p8hSu       V2ru9HZ09Zaeui41rHzbn3Pq9CuW1squjmvNqhb2PdXCyH/W4xIUJ/fnhHR3MZ3/Ki/RxZrykK+u9nW8q/sO8tHdV13Pd3T4erpXE9ms       4td6TDl2WlXL7l4Vqber++6e0rzs5LOOS2Ptr+Y7f5321GemWu2Q+Vh3p2mKP40b55K1EIpf63FUX+uTncf0uutp1sX7JO2EtFUdOziv       LnfrrDnrddcn6TmKLZtVXVa5ZR2sLXXbR45rXdU39XMar1yic5X3EfZR40lfzdGaHHdC6zotXl/zzhgmc7Rtty+6enZ+u7Gj/WImnUdM       dd3Z36s9IB/VtsN16XRbl/zU66xF50O6u9jTeEU2qx7W+Ltxpt7k+FT3LscO9aGzcU6VI19HdPvSOt2zymrOqF6q26X7SXS6ss7CsbLW       Od6tPWLaqyJz3NXh610t0r2KX/sw5eh9Yw07eaVt9nK3nlonf/LrMa3RWmv3defP8dO25m26WDt0PuVLNcu8sz5H45XJJvOfal7RXO2f       19Qxkb41pvh1P6Rt+jjCeXV6M5Ztqx5h/V1fjW1WddH6Tn9XB/np6iAfOe71VZ/mlYty8thqvCKbLraQrrp+qtkZcr/YZ42v3I5ieF3X       A63vdGeOXS9WOWY9O7/d2M5+EZPO5Kg+XTy9Vp9Tw462zNt4bd2LnTb5rj0Xu7mu2K3rCu+BmsNUK2md7pXXZuuQy4mJbMgZXHj7qrho       +jnFyMb5ujZhItdWpo1ayY23s0axOhv76rSYjJfkDbPKL5l8T7q82R1vpU1rp/6J1drMYTdOp1trNKY5Xafv7gZOduNrXnu4s9sl9XXY       JjWv1mYdOjqb3F9itx45t6KLkzhu5jfpyXy6+uh15iwy1pm1Gu9qkDlOPXGs2l+93vEpdva06NYa5++a7vrs6lTJ2kw1zPqnnspUb9PV       c3deYyvfoquNXtfapv5VPqKuT/++9p9BcY2cx+RTKK5s9LObN0c1XSGd/jyvNVhh7c6lkvlPdDXt8ljF0lr5kC/bHcVNZD/VrurZ1aHr       lc9EtlPdsx5dzYRrXv1obdVUSb0ZZxqb6GxrXhrXvOzqOpPrp5pI96Wf2ZmzNSlWtVtpTR+J+5A+hfzVtUe5dDrSh9G1xm2rn7WelaMc       Oux/0pr90nUX/yhncWSzyi1r5uvdHmeeq7xXOo7md3Weodt72ZejPoqpNmInhun6KNupJlmvzm831sXpOOrXxJRz5yu1rGLK5ug+PHPf       KYZiVZ3V7qi2wj663ptprdjpoahxVjGzRplHZVVro/Wim6tY05G/FZ2ebi9VpnqZVY47+0l0dl3cKVbmILuduBXXt6tD539Hh+8V2Ve7       DsfvbNOv0Ousj1At6/1+Jq9JwxQr6da7BtaT10mN1eVtFONsj03mM/nS+E6fO6Y8vTZzrHqS1LHqqcaqbeZamfJbsVpjXbLRtWvga7OT       85FNxkpSp67P9DjrNtXxSIdY9SD3yVSzM8hXzTVjiJUmM9VG7MQQ8q84NdYqx6xn57cb6+J07PTrUhu9rjUxWauOycZx1C+Pdb1TbNnJ       3mPd2rN0tb6E1DzVyvFWtX8tTv9LLjcgG7PDTvO6jWB8Q3i9/e0U1k3QF4mOrnGKk3beNJo7qkG3gcWO7qMbLH1fUou8AaZxUfui+axL       ZVWXVV6Zw5k4uW/yOn0716MedHGN43tferyr3xGOtVqbORjn4vhJ1jv1djZZP3GmHxOd1oyTeE3WZhrXdc2nq5ted3rT9szaaTxrmfqM       Y8neY10fpnG91lhdnxzZZL47PsXUC5M5T7XK+FpX90rS+ajIj20zh4xVmfR1eqpfva59ybpkHZKMW/1pjeb0U3YeP/Ip6tpu3pzJu+aZ       KI40rWyE7boeaJ3Wd3tPY6nHNRZdHo6V60ytodZ7vIvfkb2vyJ/9n9Gx8llxrVbxaz2sodZMdH66WhrvC/vpbFfrk9SlNVrr60m30fhO       /WRXda9wTaYeWaPyrOusta6rVB+JY3Z7T3Hq2tSXOXX6pp6kreJ3diJrvcPRmtQ19c+1XfXvqC6reyvr39VwNZ769NM6OqYai1voPKLT       Z58iNezU3zadltQtpjytrcaabIXi1T3W2XZj1uT8p9w0vupXxdorOzlnfVf5yqbm23Fko5o5p9UeqnZZr47Oh/DaWovKJXFcs25eHO2J       Gvuonlo/aU+ynlM+7nVSa+GxVf2Oais0lz7NtFc63Wknv1lXjdU1iXW6Tho7qr/J2las13p2dSiu4k/9qNh2Fd9+hV5nfYRiSYNjnslr       sp1idaStfNXraU8Y2Xs/WV/Nu9rt9ta1rT1KjY5Z1yluXZN0uszUe+eUNbHPOm5S36qnXf06n2mbcxOrveB4rstUA7HyY1Z1WfkWGq/7       Y8p1Gq/6nJe1dHS9EFmTJHt5lFdHp6/m3vncqb9spv2R9Z10W1uNtcrR9XC9Ottpva6d/5Sb9Uz9EvbT6TPZN7HaS1MdjWLVepqsh+h6       N8XWuGtSfeziWq/q1eF1ji2q5kmv8z0b7yW46P/J5Q13tvhd45NuI5iMe6aw0w3W4Q1Wdeb6lU5zzYaYbh6Tvm9Ri1WNar5H2las1mYO       Z+JU264WObbK1ZzN0zG0d/RT151dx06sLi+xk4tRH6Wv+uhid/v7bD0q1r4TJ5nym8ZTZ1c3ve56lLZn1k7jmeNUR8eSvcem+nTjeq2x       uj45ssl8d3yKqRcmc55qlfGnWp1F+v2hbY0Zq5L6nF8d62qj17UvWZejfDJutddr+9Zr22lNjdmh9bKf4pqMfw3yIV9dfU3Wp9LVV76O       Ppttl3msYk10+2Yie1+pes7oWPmsdLWqZD0mDfZTY3a1NFovP/I32a7WJ5mH/O/oNqlnqp/sdnsqO+XgsYwhbdJYbcSR1hWrfipOjW+s       Q3przTp9U0/SdqqfyDrscLQmdU3xz9TWOWVdVrll/bMuZhpPfZfUytxC54R11rqkT5Eaduq/stmJYbQ+79XJVuzsodV61zD3i5GObrxy       aV1N1m6lVzay1ZqcM0c2tWbOv9tD1a7LZ5ejtZfEWe23ZFXP3D8dWr+bt/VP8Y6Y9EwaduqluUlPt1dkf/Q5aLv0u4rV4T4q3tG61V7N       OuzqOLOPVrYZX0watL6+x53Ja7LdzVfUXtr/Ua8rsvUe7fKudis/wvmkXeZTY9qmszvD1E/n1PmVDvUu74/UN/UpbVf1S9tuvmNVk4w3       1UCcqa10Zl1WvkXusynXabzqO6rjiqO12cujvBL5zf2SuXc+d+q/stmJIZx/9bPKcaceq/VCa7v7SFhPjlcyt47UKfT6aC/V8coU03Hq       /un8TbGN1rgmU906uvgrbJ+5pOZJr9ev+vNaXHTIJbqGHbFT+FXTs5BnCrtrO9nlDbrSaSabHS1HbwhZ/938xOR7FbPGO9K2YrXWc87h       TJyav+y1Tuu7+e6649I8vW61z5OdWJPm3d5PMbp6dff3pfUQ0iaN0lrHuzjJFHc3n64+k560PbN2Gs8cpa/70HKsum+m+nTjeq2xur5j       8imyprs+uzpVsjZTrdLPNXsucS6Ou9Kc+nbrnXap/yifXG+NstectXo8/3ThhOLKXj+7eZN5X0NXn2TVA895/WTb1bTLYxVrhfNIf4l0       Tja1r2d01HXdfGVlm9pcs9TgXKsf2ci22ztZ57yexlZUe+kWntOY5mRT15iMlXkb7ZWjXxy6fSV0XesxaTrSuqLrg5G/qR/Cul23TkfW       yaTtZOe5lY6OqaZGmmvOeW2O/HRkXVa5ZR3yerIzqe8SveYWOie6+nrvuU6d3U4+Ky2eyxhdnoqR9+pk67mjPdSNJblfzKofpvOv1xqr       /iYdWd9VTM3JVmtyzhz1q+pwb7q+pY5J/w6rtZo7G2elO0n/OXcUSzaim0vkR/527ZOp99O467C6N6e1nqv7ado7us5919VuFWuF/Ou+       1/puXjjXrrae8/pdHUf3SiVjdHNVm153GpyrY3ZrTcacNHS9mKg+lL9e174e1aTG8n7vYst/7plENoqfNcp8JrtpfAfnKR91fJWTkb6a       W+qoNa7rOttV7zR3Nr9VTVLXqtcrXRO1LqsaiNQ56Z7GU98les1qbdZoVbNkstW16zTZ7eQz1cZzXQyNVzv5V5waa7Ktc6t6dGMddb94       7GjfiB3/nR+9PrPHKop1zbO8nRjuxZFdoni7ayYdqXmy07XGNV/HH4GH+5dc3qhdsbSR6uY/W9idpk83imLUzbzSaTR36YZwjfOmEN36       M7WYtE+5i7rZV9qOsM5uD0hP/VJ7No41fvz48V/+u/oc7YdL87xk3c6aVY+PchF5/xitzfHO3yV5GfnLdc7nyN+0L6fxzLOrm1539Urb       M2un8czduqvPOi57j3V1m8b1WmN1fYfq030wi8xh16eQTZd/52Oqla417tp4beZ6KfLrvZGx0s76phrs9Ms2rvUqn05Ptf/06dMXf55T       rF9//fXLmq6XFfs+sqt5d/NnWNXXrOrhfer6Zi2N/Od+1pj7XG3l65L8Jn8V+e7uK9fBedh2R4fsutp0TBodv8brNNXxGtP11c9q2/VO       NpnXTu0q7vOHDx+++Mp6TrWznprTFNs5pe+K5rq18l/HXbOsj207rTtMazN+kn3p9Ol15zttVYOuTo6x0tGR2upcp1O5draKqdir/iUZ       2z66vmXvO22r8dS3yvuIW+jssCbVuI47Xh3PPmR+HauctU77qsaQ5ppLHc89qHXdvnT+K+0ek53sPZZM+qWny8l4XdUgduqats7P9cp8       HaurW8V2XazcM6s9pLFat0nXDvLV6Xb8S+Ls9FXIbnf/dBztgYp72dVzh6y5yT1idH1Ug6me3X6STdcn1SjHu/pfmv9OL2zT5Zs57uqw       XdamY3VfOX7Vr9hdLTVetZ7Jy7aZV9eLFbJXHr/88su/8lnl2cWfYmu8y79iHTWOY9RxxetiXLrfhONIQzfe5W+yL6nPPjpdaavrrk72       UW13WNVEemss2zqPStebI7Iu096QT/mutc+6HI2nvox9htXajL+qWSKbrrfSftSHnfpPul3fGkP6lUeteR2vsayni5/7tdPusW4PVjr9       1pM5VZzfqj72UzVMe2lH72Tj8VrXrndaJzvZe6xj164y9baj09btgalWXV0fheUhlxJT8jUhjSnpmmg31uFCHBVdhcpN3m2ms4W1j2ym       4tiHfVYb33SpadKphzOe72qyq9t6a71c68zhTC3sI/vgeDUfkzeBa5I+FL9bX/HaqlVj0p89PhNH11ovPznX1afrtfj555//7tlO/NSS       dVzVtTL1W1869XPVY6/NXBTT9p1/zSk/jWu+rssxj1/Sd8exjTRKq8ZSc2Ld6X8a13XV3tVNrzXmPpu0PbN2GletMkeNVVvHydp2a6dx       17Sun5BN1/PaI3HGp3M4ylXs1l9YV2qQTfa+otx0COTrzKWLZVJf1strj/rV7VGP1XXWlrUT0qI4Wa9pvCNzn8i8d5Ct/Fbdrk+XT9LV       Q2NaLzze+fTeEF2Nc394PHXJzvtANqt9M6F56ZB/+dCY12ZNd3QI+UybiS6Wx3RAmhoUp9OqHGpM77OssbTV9badcs1erJBvae5y7/aB       12Rs22rOY9LR5ZNYd13rWtS8HaP2zdhHas0+d3httevia6zm4XUe6/TpddZqsu367P7U8Yw7YbtaV++9rqfdHtiJdVQX2+Q+sF2twdTj       abyLpdeKVfMWqbPjWp0T2VuvT53Zhy6/DttVXxpTDFHHHbuOuWaZu2w0VrV7D8mHfFXb3EPyVdeK7EOXo2Mc1Vcxq//dupoudvr0WN6H       E/ZZ4zufqmG1hzRW6+v1GV/zipN5Vby285efV7txnGPNR6iONR+t2d0/Hd3+EfrekPrkL/WcIWteUR51zvkf7U+htZmDxqb3dc3ZTv6z       fmKqi+ud95LGrT1rN/mquL7yXWvcaRY7Ory22qzoYmlMukQdt946pjjSVHWdycu22fOd+lWq5i73LrZ0SV/ub9tWTdOeSWxnDY6RtZCd       tLpvFWmsPoTWabyzr8hv1djFlw/5shah65W+qU+drWN2Y/neuNtnxciadH3yWLcHMsdEmo7q4jqkH9nVvETW5Wg8Y+mnrrM+nc4O2eRa       1WWqY1ezxLby7TH3psbqfGZ+E51ujXXfFRS7jrlmdb9r3Ho0XrW7Hkd7yH7r2q4Pus4c5afrd+K4NYb8rJ6hTnvJc12v/YxfKFZd7xhZ       py6vrk4a23lulb467L/LT3P6ByHykXk6psZqnKlW1lTr+igc/ksuFVaJVmrjhAvSJV9xIXJ9h4qdcetGEJcU1muq39TtjeF55fb+/ft/       bUax0nmLDdHp7ep3xqeoOXoTeyxzFIpZN7vIOlVfdW1H1k3r3r171+awG8c1ELs1995d+T6KL591TtQa6nWnqcM6qy/3e8rBdGszbtZd       vjWm/JRn9ac529V8Lu179Sfks9tXieNVDavxzKerm15nbTrbM2un8S5HvdaYa+E8tF72q7XTuH3W9Sukt/aj1syc9Zl5iU7/VKuu3uKS       PdetqXlMsUTqy7zkV58JWZvsy7RHHXvSVrGPnJ/GJ6aaV3Zskq7noqvrRPZKGvR5kPVNO81Pn82Kb7uqpat9zTljiJ0ay6bq8dq6HypH       OoR9rvZ5peuF6jL1Vf6rrf/8ZY3ptd99990/9Hb+pjhTLyakeWXb5TnVqdszylOvc88k1mFUL43Jn/zKxn2ctHq++ulq1NHFV5wav9bW       1Lw6fXrdaZhyyX2i+ayDrnfzcpzqUzHSTmNdX93TmmdyVBejsSO7qS7T+KTP4zXWtG+Ta3RO5H0kbdd8rnVkztLXvbd3trLp7lXr2Xmv       nfaQxr1Ovnf2i/RJv37W8eTSupqpvlWzkGbZyPZIk9i571Z7SGOak00dT10itXdknbzumjhdjunLdd/9rE6mGnX6ujqeYaqFyZg7dTe5       VrG6/aSxaqd1nV36rFrku/oQtTapZWdP1z6k/+q7cqRjuvdWeI39SdM173Fn8pr2oph60eF7cbXXHKvqyfyM4qWdNO70NfeCfGms3p/y       tdKadRNdjToyfn4v7upQtYnU5zWdhi4X96PGUB3SVtcZeyJ7Yp/VZrX/swfJTl1El1tn19VlNT7py36KLr8Oxarruv27qllH9kH6NFZ9       dz6P6l/JnJVHxphsu98Dq560rxrTthvXGvn+r//6r639oniijk10e9BrPada2H7aS0Y5VF+i5iWt0uw55y2fVbNed7nV/aXXtUam+nEO       na8Jra/+TPWRNsohNU+16ur6KFz8/+QCgD30RlHfpAAAXhp/Eckvno/KI39x6sgvhI/E9OX0UdEe1Rf9/GUMHofcU3zPgV30Hqn3ymfb       L4/8Hg/73KKPev97i3vhmb4rPPJ3xGd7j3vW9+Svjfre5Z494v6Hx+MZf6+aDswAduCQC+CO+EsIb9AA8No80wOMZ/tC/sgPQJ+p7zxs       eXyyR3zPgTM84z2uzyG9h3Lw/vzc4rP6kQ9YLuXZ7ksOuW7HMz4A/9rI/a5r/Qk6egY7POM9rvfPZ/qeCI8Fh1wAd4QvIQDwSNziAc8t       0S9s+ZBC75f6Mv5MD5Aera4V1fFZDrmklYctj4H2i/Z07hvt9bqf+J4DZ3i2B8DP+HkEM7f6rPa+eLbD/d339UdHOjnkuh7X8Vnej986       el/x/y/HY95P9X1Ldvre9Sz3K7wuz/gfjj7T5xE8HhxyAQAAwKvgB0X170H7b0J39o/KrR6c3YNnOOSSRvWdA67HQvs6781H3efwHPiB       HQ9V4TV45M/ql+ItvK9zyHUdrp96z3vx4+C9k/cnPYJr4F9rwtcGh1wAAAAAAAAAAAAAAADwdHDIBQAAAAAAAAAAAAAAAE8Hh1wAAAAA       AAAAAAAAAADwdHDIBQAAAAAAAAAAAAAAAE8Hh1wAAAAAAAAAAAAAAADwdHDIBQAAAAAAAAAAAAAAAE8Hh1wAAAAAAAAAAAAAAADwdHDI       BQAAAAAAAAAAAAAAAE8Hh1wAAAAAAAAAAAAAAADwdHDIBQAAAAAAAAAAAAAAAE8Hh1wvxDfffPP5999///zbb7+18wAd2i9//PHH52+/       /fYf4z/88MPnv/766wtvfU9NNZj4/vvvP//5559fatTNvxW+ljxX/PTTT9t7Q7aql+rWzV/Kvd/bz+7/r40ze+CtoZyVu2rQzVf8frFj       e5bdHjzyXnZ99Jmq+1n3dWf3tXBmbz062nf09LG513tDt493368AHpEz3/3v+bkPj0m+vz3aHrjl+y+/H70t+K729UHP4V481SGXvtA9       64fZvR+EvibOjS/Rt6f7AucDrq/lcOPsl9gzvwDu4Hp3vMSeV97KP/O5dZ4Tjp+5K7Y0dGteijO/LMk2Nat2Z/ZWx73f28/u/7fK1Ktb       /sL8bChn5b7zPnTPBx27PbhmLzvXe7zf3bM2z8ru3nqG73/ad5f8Ev0s321v8Tn2Ukxa7/U51+1jvb5VLPu/x/vSW8T1yu+T4pJ79Fq0       F46+u2m+6jyyvzdnvvt3n23P8r72Vnjp94h8f3ut7zdT3qnvGu71ufHWUA/03vUan1Pq9+57u/r5Gp8DRvVhP70sr93zR2F6v3xLvHSO       T3XIdcsPxpfGXypf+8vxPfCmfekvUF8rz3wfvARnfgHcQX5e68uhmPK5dZ4Tj/zBe+29cIt76S2/tz8SU6++5vdD35uqQTf/UrxED+75       fief8q0Y3fzXyO7eepQ9uOLSX6KfITfxEvffrXhprV0Pb6nhpb6HvRXcj9f+vuTvbatDq06rxn7++ed/2L001+657p6A+/HS7xGP8nkw       5f0o+r4m1IPXeo5x5vvXpd/VbgV78+V57Z4/Cl/Dd8mXzpFDrhfCX6inL9PPDF+YXxY+hNfc+k30Nb8ciimfl/qweOQP3mvvhVvcS2/5       vf2RmHr1Nb8fKmflrhp08y/FS/Tgnu9D8infitHNf43s7q1H2YMrLv0l+hlyEy9x/92Kl9ba9fCWGh75+9Ej4n681vclf1/Td3rTaXnk       73XX7rnunoD78dLvEY/yeTDl/Sj6vibUAw65jmFvvjyv3fNH4Wv4LvnSOW4fcunGr18K65uAN+j79++/iM830lzbfWnUWLWp/vVT13Ve       yK/Xd19cd4rYrcubrTYlc+lidD5//PHHL2Nd7pUayzWperIWstUar/e8dNqXbTMvk3ai1lZUv66Brv/7v//7H+s87t5NnI2peqxsO7pa       CuvLPk31ydgi+97Fqv4yVuejQ77sp6uZrjWe66y5i9HN7fSj5ljHndtUPzHpUYwuh5p3fe351Ft9VJ3ybxuxs2+SSXuHbSu5rurr9krF       8xXbns3T95Ntas1WyEbrdmyPSJ3KT2P1PaPmVdcqZ+Vea1XXZq1yfbXNWpiubhVrqGum9/bOtmqSfc27ojnnWV9Xmy6Hqv8o/i5TfPnq       fMq+xtR1nU/dR/vwqFfu67t37/6R7+TXuk2X20S3Vv2vsaxXuoTsdO0+Z33qXK73vWDb1FptU1vWfbqvRGqqcVKDULy6XteZR4fidL6l       ybUyVWfqE1mLXJ/5W+N333335ads9P3FryuOnTWtc0nGz3qkr9S/y5l+5D2Rmoz3ke3cE42l70rmLByj9tb9c86i6qpz9r27N0zaVH+5       78RRHVe5TTa55yZyL4iak+vT+VNM6Zb+7JupeezUWrhG9fe46is1dz1wn02t15HWrkei61ONvYopHLfWRK9tZ/913qzmRMYWmcNRr49Q       7LpWMat+2+3GSc26rnPX7oEj3I8ad2InJ/dI486t20fG94Ny8utOi/zJr/zn3Fmcs3Ow3rovV1pkU7XUnIX9ilxfbe2r2ou6l2zvuRr3       DJmzcK7CvTJVQ12vNZlj9XNE5iNqLRSjfieovjNut6/SRti/yDxF+lHMOt/tgYlurfPKnqYu6bjmuV1n57irvKs+7/uutqs54zw8f6t9       0+VfddvuqP8m61Hr6Rzu+b5rH3Wt89n9npi4P14nai+6e0+s9Gc/TdePOi+yTqKL1fXC+6aOC/dgRfrr6ne21qlHdTzzPpyaak2vqVOd       v1ajkV/pk79am8nfNXGnnLyXM0eh3tUY+qlr1cz+an0v0Ze6RPUpdvs2Yd3deu/PZ/4s7Dg85HLjlbQa53E92PG1RGj+06dP/7Cpcx53       82tiKkJNxDG75FOHsM/qw8WuTerQfLXpfHljKL9qq9eKUZvY5eexnYZNsercSoNjaX2noatp5uA4VWv1mzl4LvVOXBtzt7f2OdVH5Hjm       pmv5kC+PdfEdSz5TV+d7Nwet2b0PKlM+In3K304/PFbthPzIX+qsWE/mK/9Zh7RNva5d1fHhw4e/e1R7UfV3ee7QxetQrGv3SsdU9zN5       2rbG262H5jOvS+jqozFpqPt5yrfbZ8pBtlpf7bvcNFbjTGMT3pc1vscUq/bA43VMWmSnmPU68/Ra28lH3lvpy+v0uezXR/F36eKL1N/1       Rzrqn/a5Zh/KTjnJZ47nHrCWtLet9+Bk19Hp9Fj16drnfSm0to5NNfP6bnzHVnGy19191fkUej/Vtfj48ePfuQn7zjrIj/x5rCP3kjXl       e2FX606/kd8av8tLPh2r5iPks/ZQyIfW15zso9rJv+wy//odOddNa44404/MdYqpednWfemx3EMd8iWfaWcf2Vuh6zpmH52Gnb2R/Veu       v/zyy5efnq97YbeOU25iZ891yE42XifkX7laj9bLptZjsvVY1WJcw+rHvtNeNsq/6nets36dBtWti1PXiUlrxrBt9kQx9TBQr3diKo7i       yZftqoZJZ9rV8YprXDUaaevqpJyqnoluvca0vurST+mvOuW/rp1qUz+f7bvayM/uHthBMaVd/rp50+Xe1U7zsuveZ45wTTotme+lWF+N       4bGay0pL1rrm3Pntxur+dA+yXq5vta2/W+3S9Ukx/f1U81Wjc6/1tsbMsfM9IZvMR7n4/cN1VYzM0XMet8az953Q6+yBUW7pU9e1FhNa       m7E0ppyrzy6+4yr3qr/OrTR19RD1e8+Ut2pU13U1E6u6GWmtuqz1mn2jdTt11c+j/rtOqfGl33edf62lfdX9b73Z1w6tF76WvdbVuovM       YUVnq7Gsu66rncZ0XTVnrZxbrqu90Jqd3EWnQ0hv9uhMrTUv21pbvc7+dUya/Dud5jVX411Sp2s0Ju6vqDXr6nhp3KOcPK+YdZ3I+liD       ell11Lmz+oTXdnZdLWQnv6mho9MgX2/ls3Di8JBLImvQDgnrGqjrTHA1XulsJi2K3xVhGj8i47gp6csNUByPZZOMfVTbjimWXmss1+e4       Na00KL/uuqL6156u/Hqu85PcIqZzzholU80dJ8ez76knbeVbMXTtWJ0mxTkzXulsUueE1qada+r6n+mHbbMe0iaNZ3ORFr2h6mFTHVcc       aXRtc91R3aZeOHetr/ZHrPaBWdmc2Ssdtk/fu3lqTjaZ9zSeOLfKrnYz1cca6j6d8rVtja3aym+3f3OfyKbGmcYm5K+ztd5ax4zdjWef       TO6X9OV1Xc5mJ34dXzGtyZ5OfTNaLz+Z7zSeTL3SeLcHdvUd6Ra26Wou3bVf7k+ntUNxd9enjsnWNa196/K8ZD90/Zp6k2Q8a0oNzqvG       6PSLrN80Pu2TznbCuqqPo9wn3dP4WaZ+7NwTXpv1r7ZdvSpdTYTz63x3ZB2n9bk3pviV3HcdrkWt4+Rbten2yzR+RMbptBjZZIysnbCP       Lu+sodDr9GsfOb5Tc9HVo9Mqskdao7Xeq7tkzE5ratD1lHvXg8qkU9f1Xqt08ZJpvXV1Naxk3jv1vMceSLxuVdcztXNede/sMvW4jluL       OdoPFfvptNmv6zdpEWdylt/OttZy6p1idz7PcOm+SN32I/TadquaVrq8E2msPTDT2h2fXf7Tusz5aLwiG2lPn65PrVsXX73u1k+xc1z5       ZW+SLq7ItbbLPuzEyD3r+ue63X0jrbt17XB85zLVoKIcsuaOl+Ppf5cuL/no9v9Ugx26np15X0lbacgarMYrl/Si0z8hrZ2te1fz2K21       18p3tZvGkzO1NmfrdK3GRPbdfkt/18S9NCehutS9Zl+y1zrbXaNPTBp1Pd2Pqa3jKHcx7c9p7Y7P3FdilWOXxzS+y/KQa7cxmu9udI3n       JhBd4klXCNlnnJWvS4uT66wlY7g+znGl5ewmTx9dPUytizV0cVJDXZe2mcvKb9quuFVMjU1+zNlaZt8Vo9u/In1MsVa1yXgdnYZVDStd       nhlz5Su1d/6E99VUK5Oxda01+i+/qgbFq76yBppf1c06rdvs6kykU2/+SdVwi70yketz/CjPab3Q2p29VPG+OLNuVZ/UMOnNvLxWtlpT       bYXW17ku1938nbPsc866lOORbWrSmho/fdmm5pw+kjPxd5h6J1+6D/RT145btVcUU7FtX9npw2Sj8S4nx3MdpvVdzZOVvqzpUR2SrMtq       /bTXOluNVc1THNfnDPJd98SqPpVclz0yzrOzzf2TPk3mp5+1T5Xs4YR1ud553THVZmftLlmDKdes91RTsbs/JruMdUT2YFrvujnfvK62       ZtojSdpNuU3+dmuWOAfvhbyuyHetk8dyj616KzIHXaePzk6s9FU6DZ1WkXEmuyMyZteT9N3ZHNXPTHZd3cyO79X6ndpkj5zjqmea6/x2       WtL/LtaR36eF69/FM1k7X9fe7TLl4HH9R3h1ztonbcmqz/Zl3at6ykZ+5E/Xq5zTb6chbUzGuQTFucRH6rTGrh4a05xscs4olx2bTuu0       dtUj09l0PRCy6fbS1J/KtFak/i7+VMMdTTt1EFPeXX0z7m6MXGed3TqNdTlX0l9l2heV1L3SYyZdnZbduiTqgd5jay+UT7f/3TfN1/Ed       5D99dnlMpO201nVdacxa7fRip8fiKH760fVOrX2d94w40nakaeJsna7R2KE405rq7xa1mXLKGlTku/Yue2aurcu0Xpq6e0CsYpqd2Jlj       He/WruplOpuzObpvWetdlodcFnPkvBPn5PJLbCX9yk/a1EJ0xbbGXGe6piWd1rpuaoqoua/sHKM2u2PyoeuqL3FdVhvCGqx32lTV1npX       fs9swlvF7PZCMtVyVWONaz61JKntKFbXM+F4dU2lq9dO7qLLQa/zercfU462m/yYXG8trqXGJ83Vt+2n+k06RfraQX4Uq/MnOs2V3b0y       Mdnv5mn9Ezt7KcmcXIP0rdiem+qe+3nKq/Ozuhect/10tqv1lVWtrcv9t23WwmhONtXWfrs4uWd1vdJ8Jv4OGd9kfYXq6TiuR9pPHPVh       6tU0rmuNa17X0tPFNam3sqq58qo1zbgdnRbXcbU+74GVbdYl95b74esV3Z6qeyJjTSjvui41nbV1PaquxLVZaZTP2sOcS5/eK9bU1d90       va7Y1xku7Uful1XeaTsx2XX9qnS9q1pW63Nv1B7V8cneHNWxy63TnRzVTKz2lWN0e0O+s2cay36veityzVSjbnylT2OZV+1hp9XrHMf+       Oz0dq5hdDzsNmadsduJ3+9T6u/qITlPlKP+phqs95XXduMkarMaPcpxw7tO6I79Zu9X7xBFTLMdY1djxupq7VmlbyTxWecum3surnLO+       nW3GznFprvHOoLhd3TpkW+tWazVpFBpbxXAt3YfORkx+Ol2V7JH7PNl0PbDGXFfpcq9rU4fJvLr4Wpv12dVkf5M+08UVXd1lU/ecfsrG       1xOZxz33zbT+qP9a142brhfTuDV2flZYY+3FlM+qhon1OD9R+yim/Dqqbec7SY3X9mKqSTLtbaPxWofdWnf6KyttXjtpqnRxdut0jcaO       2vOckw7X8dq4q5y816Y9ke9NXe+v1df5XekSuX8Sr5/qa7S+06e4XS4mdXU1qDarHHNdZcrviK1DrmxkogSygEeNqXjjHRWia8KuxgnF       zALKl3zKt65XMWruK7vdekw+UtPEasOnhqr9yHbl9+gmq9wqpsZyLyRTLXdqnFqS1HY21i5dvXZyN9XWmquWM/2YcrHd5MdUf34tX34t       rWc0Wo/u3zq/qvkq3wn5UYzOn7B+1ynZ3SsTk/1unpqXnezT7lKc804tj+qT+3nKq4u5uhcy7852tb6yqnXmt7JNcm2np/ayu07OxN9h       iif/032hNZqr8/pZ+3GWqVfTuK41rnldH9VtxWpt5pVxKxpTTeTPY9mv1XrFlw6vP4pV65Jxdvph/2mX9chYE7kuNZ21zXqsWGnsauF4       dU3GW+k3mcc1XNsPr/d+We2BtJ2Y7Fa1kV7dB3VNajla39VU/vy+U32n/W4du9w0JxvZeuwMzkt+5V9j6XMVQ1pSt8aqP7Hqrcg1mbvp       xjt98nf03ma71CpqnFX+lZ2YXQ87DbVejl/XTHQ5HunvNFWO1qd+a6hjKx8a831SdWtca7Q27XP8SOOEc5/WHfnN2nX132WKtdLgeDt7       o+6pnMs8VjFlU/2sct6pT9okXqP9IU3S1tl1SP/RGsW95L41GtOcbHJOrGpZmfzs5CCsufroYnc92NXYcbQ28+ridznuaur8dUx2Xd31       WmPut36mvo7MI/1UuriVS+tax1Y+NPZa77uKl3GneqxqWHE+1U7+VRPVptp1+XVU2zO53qoXR3vEHN0DWYfdWnf122Vn7S3qdI3GDsWY       9ket263idjmtaiANNa5r6LXmWn2d36N7IPdPcrTeTPtz1ZuKtR/tq0tyvIblIddR8cxUhJ3iTDG6QnRN2NXY0cUQuVEnO1FzXGnx3FET       p1grDZVVnNTX1XOyzeuV7YpbxVz5MWdrqWuNa17Xq/2bPiafZ2rT0WnYyd1UXSLXrXyldvvKXKRNGo/udaG1stP/7FB/CsRxPZ5/ulCs       +iCUlz6sUmf2Qhz56rD/zp+5xV6ZmOx38zwbbwf5lX/F6eaTVX00V3tuvTv7TDay1Zpq67nqN6+nsQ7Nyy411TnXYmXbYQ3v3r1ra5q1       O9J8Nv4R2R+j/bS6L9wvr712H055T+NZh6O6rVit1VzdgxnXTONZF9vlPqhz9jH5FBrTnGx0nXF2+pE+zNk9aXLdSsOubdpNrDTKp3wr       hsc6v3qtMc3pelV/s1ubHa7tR+pd1d9zq9zEVIPJ9zSePVhpO+q55quv3fqk3ZTbUfwV3Vq91pjm6nUXQ1pqbh7LfFb1E6ljymlH75k9       sFv7SY/ZjdnZdRqqnXzoda3xxFTnlf5pTWW1XnNVf2er1xrTnMcqnj/yM40f+Z9wnVfrJh0ia7dTy4lVDhrrxs/EW9l6zvvSWrq8ZSNb       renWVjJmp6HudY91aE393WoH2dY9lUyxU+dK41EMsdpDZvKz4190Mbo91fVA7GicWK3VXNXfxZ/W72ha9aYy5T3V17E1rp9H/kXqXWnb       6esqf83V9Z2tXmtMcx6reP7IzzR+5H/C93LtxVSPVQ3N1Ftda1zzHpvy60jb3bWX1MrztQY7e0Qc1Sj97NZ6qusOO2tvUadrNHYoblcb       z1nvLeNmTr52rGqr3tQ9Pem4Vt+0vuuZ2Ym5Wm+m/TmNJ10M11RzHrskx2tYHnIJBT5KcBKnJI4eDk8Jq7DdG7Jstaba7mjskO/JXx2f       NNrWubuhq1rIvo4nU6yV74pqoFp09bAG+3Ys1bXa2bbWwH47W88d5SZuFVNjXY6VqZbTeMbX9bR/M/7kU1y6P0XdXx7byd1438iPqfPW       faYf6cPjR3tT2OfHjx//4UcxdOj166+//suP7Fa+U9dRL3Z0VuTn6H1sZXNmr3RMPdrNU+j12bxXTJomZCd7ravj7l2tT/YzbWse8qu6       p44uZ9nUOB7rdCWrGrr3Va9eZ6wJ1/KXX375sia15J7dqf2Z+EdMNdL40X1R165quMNKR5er94vmdb1Ttwn3OHN1TlVXxjWOnz5kV317       fZdT6phiCY1VHxl/px+594Rj1vGMNTHt5azJyjZzzZpMrDRqbe2hYiq2NFQ7a6jjer3KfdJ9CVkTcaYftrUWX2eeQjaq65HuycfU26y1       0fo6Pq23bdahojV1T6R9t76r45Rb+t9FfuU//TnXOq7Xii0N1VbjWT/1KMccK/MUzqv2Vn47224885h65T1UxzutIuMc1Xg3ZperXk+1       lQZ9Fne16LCO6l+s9E/xK7Lp6uR8vD57YawrxysZI3tguvEp7hHWv1p3pnbTPthhlYP8dT3SeNeXjlWuykM56qfHZNfF1HiN6Zy7XmVP       u/rs9EDs2lUcr+bVzWe/XA+PO3bnR2NdnSryM+0hM/k5ykFMe8dr6/jkb0fjhHzJp3zXcdet5tXVXPq6/bOrSeuPejDlPdVdMWX/4cOH       L/OZW0fm4fy73k1xK7t1PdP/JGNMvejGp7hHdH2d6rGqoXGvsk7SleMaO6q7yZw73cktezH1v2PKq9OzW2uvrTXY5Whtp0ucrdM1GjsU       t+uxa2Ndt46bvVacrkcar3auV+q9Vp/9ei+Y1T0w7avKar2Z/EyaKs4794/X1vFLcryGw0Mub7Js2s8///x3MZRA11QnroSUmMe1Tms0       3/l3spmwi5NF8HhqkN2qMV0DZK+4VfMUV2TunU+NKUdRxztWsTQmbelDmm3vesruSJfXTnWutbPfqZ5ZhxW3iKkxzckm58xUy2lc1xrX       vMeUV47JbtKfPuvc2f0purru5F5RHNmLmoeRv51+2LbWQ7qkL/fbRN2f1fc0LrIGOgireUh31WTtXS+qL8c80i0/WZ+OW+yVDtdY/uv4       bp66to70oVof6ch679at4hy0zvvWYzrcrONid5/JTmNZ464Xss04Z3ph21pDjcmnyHHZZo0UJ/d3rUPai+ylcN5Vt2Lql0O/3onf+U7c       75qf/GTdFVN7xTbOq1tXx4Q01Vw6nFPadX0V1p35Zt2kU+O5PpGN4ktHHVPf6ngXt47XerseVZPtNFZtnX+t3RRLZF26+nU+FU8PefVT       Pqo2jUlTastYE4rT5VQ1TbaOXbXW8doDIS2y3dGo+Llea+uYa63cqwaPV60ivyPXOgrZatw2nYbk2n5Yq+Y9Jl9an2Oyk546PqE8Mv+p       tx6vNXReNf9pvajxlJOua+zUk9eOd1THbm21r3pFpyXRfF3nnii25mzn/Gv9uzpV251aW/tOntO4fdivc6h20iKttc5i0trF0VjmqnVi       N6btso4a05zHhOJoXKS+iaxFZdKfNemw36rTY/mdKeM4Z8WxLs0dfT7rda3najzX+7rq6rC2GrdD8zu103y3n3boapBzNW/HqnvpCGuu       azSmGqSvzr9ea32the1qf0UXa6qP1tXcxNHvVnk9Yc01ptbo+6n7X2Nbd11ju5qL0djRPhPTHnKMlR+tzRykV+O2T//WrHWaq+u6febx       1Cg/sq29Sby26vdYvj/It2LUXOS/9sDsanKu6aN+77GvzHuqu+2lP9dMZB7Wdem+sYZqV3XVccU+6r/m7vm+65jd+op6n/t5qod9djU0       3lM1D9krRu4dxcyxiczZ+R7tR72+RS9kIz+1ThNT7eUv63qm1u5V1SVkc6TL+utaafPvdBq/RZ12NO7WUj5y3zhm1uzS2uzkZL21F3qd       2lZ5XapPdJqMxqoG4VhHfsW03mulr9ufQmszjveS7dN/t6+8rsvR46lRfmSr+Wq/y+Ehl3BwiTW6dlAJqNeJ5utaUYvlDeM5+dKfM9NY       Ns8bTtSNWAtqpoZV5L+ukVaN1UJbX2oRXe6Zj3RMf4oqWcWq81Vzje86qDa1VqLWq5I1EBm/+q3jOa+1l9T9bEyNHcWZajmN61rjmq/j       WcfOZvJpan3MTp26/bWTe8Wx009Fuqs2MeWS97P+xKB8r/xXtL6r4Wq8+s74uWbVi+prpy7CtZnqUbnFXunwGvm03t08PVZ9mKPcRdZb       dPfkEYqjeNWPtE/7OeN2+8xrv/vuuy8/bdv5m+LUnh3llTWUv+m93fvLtrbP+MIauvhdL4X3ZaXuhaP47sdRziLz1jr1Q68ds9tfWZPJ       rsuvo+uVfnZ1df6ZX/WRvo7IPal1yl/5KC/ZTHFFV8f8rlPXp9b0uYqlsVoXx657RNhHjVP7ljlrfe7JjDWR6yZNna2o9cu51Gmtnl9p       lJ38uodCvhXDvjSvXmlMser6tBWpT/HrvKh90+tc05F5numHe13jCvmoPuVL72udbUfdQ4676m3Gk/7swe7eqLFN1jHr47G6RnE6uy63       yYf9eL5DvhXD9qt91dVJ/ah1Mhq3Xe1ZV5+MI7rcp3HnUP24X46h+TO/x03xq62oue/EdP61JnqdvRTOq5tbUXVkDiv9R1hPXa+8Un/a       KUbuqayVqP0TUw+6cce0D18f1c79yNgdO7VzXkf3XUfm0KG5quGSOFpTfSjm9P6atoovm5p7zflI31Qf90Fr3LP0lfWWjtwHE5mHsAZr       8rh87ty3RmPWnHOJbKuGmtORn1wrqh7vH8/J9/ReXnPOGmbdRfarI+N7XebV7QHFTB2VHU1d/PTZ5b2qu2u+k7/IPG6xb7q8urqmXdf/       3OvCc2bqRTfumPbhfLv1FelX7FrXqR6rGlbss+alMeXre8xoznZVQ7KqRY2VflwXz13aC6G8PX9Ug4wrOv1na91p7fx22Gdd6zxvWacj       jepPl3Mi31rnz4DOV+WS2uzm1O1p9UZr5aP6mvbxJfpMXZtr6r4UVdMOq/XT/jS5VmjM89IpvZ6T75f8LJzYOuSC52F6w4SvF/YEPDJH       H65wH/RFQ3U/8yUJ/s2t9y/v118f/gWBngO8Hr4Pu4cfjwTfmZ6fZ/uc5zMKXoJHfm/jfRdgH32PevTvUvC24ZDrjcEDMkj4YgaPDPvz       ddB/HZP/FQ2c4x4PRfkM//pQz/WncDhwBng99Jl49r+OfQ34zvT8PNvnPJ9RcG8e/Z7gfRdgD/9ufM2/wgG4Fg653hjP9sUZ7ot+IdEv       7ewHeFT4xeF1UN35r6z20N7UF/bco6rfrfcun+FfH/qc1gNE3gMBXge/7z7DZyLfmZ6fZ/uc5zMK7s09vk/fEt53AfbQPcJ/FAGvDYdc       b4xn++IM98GHW/p7puwFeGT4xQGeAf0Cnn8r+h7/Eo7PcACAl8Hvt3o/f5b/6IPvTM8Pn/MA/8HfrR/9PY33XQCA54FDLgAAAAAAAAAA       AAAAAHg6OOQCAAAAAAAAAAAAAACAp4NDLgAAAAAAAAAAAAAAAHg6OOQCAAAAAAAAAAAAAACAp4NDLgAAAAAAAAAAAAAAAHg6OOQCAAAA       AAAAAAAAAACAp4NDLgAAAAAAAAAAAAAAAHg6OOQCAAAAAAAAAAAAAACAp4NDLgAAAAAAAAAAAAAAAHg6OOQCAAAAAAAAAAAAAACAp+NV       D7m+//77z3/++efnn376qZ2/J7/99tvnP/744/O3337bzu/wzTfffP79998///XXX1/yUD6d3WuiPKVRWrt5c0kvVDvV8DX6B8e4pz/8       8EM7fy3q+7X30Euwew/ci9eOfy9u8R7asfu+cuY9697vVdfca9amenbzj8pu/+9d+2dB+T/q94SvHX+Xe6Z7UPtp5/4DAAAAAAAA+Brg       kKs8IJCO3YfRfijy6A+vleeOxkt6wcPLx+aaB+87XPOQ7cy9tovy7PTs3gPXMuX0UvHvxaqul/Z/xe77ypn3rF2fl3L2XpMO2Wudtame       ne2j0vW/uwfuXfsdrOFe74U71J5385egfPQf2bxmbV8S7Svtr1vna7/PdA+qBnn/PcI+BwAAAAAAAHgN+HOFhTMPox/hwd0OZ3I6y7PU       4GvlkQ+57rEvJz33vAcqU5yXin8vrunzJdzjfeXe71Vn7rV735evSbfX7137Hd5yzZXTrQ/PHpV77SXtV+1b7d9u/hHp3pff8j4HAAAA       AAAAWMEhV+HMw+hHeHC3wz0fsD9LDb5W7v3Aq3vItss99uWk5573QGWK81Lx78U1fb6Ee7yv3Pu96sy9pv0gurlnp9vr9679Dm/54b9q       rZq/1T1VuddeesYadu/LHHIBAAAAAADA18rWIZd+8defxDH5i/URud4PwbpfyP2L+3ffffflp+zrAw0/5Kj+PN89YBPyL7sap9paR/WZ       9pXMR2jM852/fChTH9YI2Ux17fQLrVMcxavjNTe/fvfu3T/qlrFWD0esL9fWHKzR1Hp0TDlNczs1nXLwA6xub3RM+WrOvup8+q060leX       78QtdXjM5B722jM1lL7cR0e6uj6KGk+v61xd3+F9WNcI74/de8CcjX+U09n42ffpXkqdotZRuEe776fKQ/l0cybrmrXp6lF15d7LOjhu       1dkx7dUuJ9l0Plf5my6f9DNpSTq73Xy7e+so3hFa3/mRlq4Wtef1dVcj+635OZ65Zm/rutPoePad+010+9bUHklzXZcaTMZQfOmoNvKV       49Za13Z51vlO+1SLjqN95FxSh8Ydo/Y0ez/VdicPkf6E1mYvRNYzbbwHKl3+P/7445exzr5S94brVPPIfnY9WfW8+q9rrLnGyv1kPZW0       n+YAAAAAAAAAnp3DQy7/Mu/r7pftCf8yn7YfPnz4ct39Qq9fxDX26dOnfz0ckJ1+OZeNxxRDDyj0Wjo7XV5X43S20/oO51a1CD9IqLGc       Z62j1yvPOt4xxdK6rh7VVja6Fq6nbWquXS80JxvZao3HVW9d249yqL66PiVe2+Wusepvt6ZdDsJ5VJ8dR/nqtbR09e50qC7Vtsuj49Y6       ajzbZS1W96SwprpO8VPjji6RPTZaq/jSoWvHzTgdnR6hWBoX9jvV4Zr4U05n4tvWsVZ2VadQz/K+cz7d+6muNZf2uUc1VjWZLt9uveK8       f//+y2uNa53nXN/qxzlXXR3Wn7E0VmN4LGuzk780ffz48YutbTTX5ZhaOuQ/a7mTr21qXtaxWnfEFFtx0nfadv3vxrxu93NCPlTLrubV       VmNpJ7pa7fZH2Hbn/duxujqkNq2Xrdbo2nEyp+pfc9WPYihW9SOs4yi/rjZaU2vrGDWnrJ/9ZE89nvXYzUN2WWOt8fuH/deaGeVU/XVa       VmOKW+vS4Trk3qhzdTzz6Ww0l/M1f+F6Vd3yUfMV0/qsjXz88ssvf/sCAAAAAAAAeHYu+nOF+gVav0jrF+pu3ugX6/pLedL9Qu6HAvUh       gPCDiByvTPHkPx+cdLZHeiudnu4BhkkNXp8PKSZSm9boQYsewNZxaZBP90brMnchjbWHUy9W+qYcpEWajmopbbnWPl3DMzXtchC7eo7y       nch11pHxnJvy9ljHrXXUehzt8TM13NXZ2XU6ptjTeDLpueYeWI0nU21342u+Xpsc13XnT6RPXctWP6ud+yltR+NaO9W15rtbpyTzUxzF       S81JxrP2rgeumX2eyT/pbHZz15r0vZOv1nR5TeNnSB/Ss/vZkrG7MeeXe0g2sq327lNXR9Wn7hPZ1GvjeNLisd3+CNtOeVS/ep15iS63       vI/yOpk0d+OOV7V1dP3pxmuMLhfXotPvtd7Pu3lMdhXHzXtFa7RWPlbjU78c+6h+tssauka5Pscv7XnXg85Xt36qGQAAAAAAAMBb4qJD       rukX8crOL9adH9lrTHPVNh9WdOSDGqO1+eCss53Wd3T5dQ8dTNr7Oh+KTGT+upZW/eueGlP+aw7y32nKmmQvtF5+VvpWOUxxK13/9brm       eaamnT/hXFa93cl3IjVbh3WZ19LhemS9Os7UcNWbSuoSyi/rMPnbrcm0ftqL0lXvgWvjdzl5fCf+tF7rtN59m+xE9k9rsvadXSXrsKpr       1THZHZFaMt+JXLfKKX2eyb8jc1/5M7LVmszrKN/VvOIpruLn3C7pQ9fSufPZUq+nMevXnMeMxmqMbr3JGk+5d/F2+mNsm/V2/6xv1Reh       8axfvZaW6UBPpL2xjqznqnZipberpf1pH+ScfaUGkfp285jsKlMOU+7Vflorppom095Y7a+a11HPJz/WV3Osfm3Xre/WAgAAAAAAALw1       tg+59Mu/fjmvTL+oi6Nf5kX3C3n3i7tQ/G68Mj3o6LR0ttP6ju6ByWq9xjQnG11361dkreRH2I/GM4btOk3pb7pe6VvlMPWxMund0S9y       fbefqt3kR+zka+yv3gtaKx+an3SIVT7injr0UzadLjNp72o49fhIl+jqoLG6JnGfJyY9U80z12vjT3F24nc1S5Sf7SYteU9ONfFemKhr       dupqXV2eHVqbMd2HzGGi29+5z0z6PJO/cKxqU3NNLR2uUeZ1lG8XuzLlvEtqV2+EdWnc2uu+q/1fja3y05hr3cWopJ+p37arfnb6Y1a2       Nb8jn6mv5qpr5+s+ph/Fqn1Osk7yn7WvWG/nS1StwnXUXPYue1FxXtayk0euSZ+mi+u1nW8j+1W/7CNrmkw+dN3FNe57ak0/k/+uPsqp       7iexo6/6AAAAAAAAAHgrHB5y6Rdp/WJcf/lfPSwwmpONbLt50fnpfnEXin/0y/lk41/wa5zOdieG6R62rNZrTHOy0XW3fkVd79fKx6/l       xz6P8hRZ+6PrjlUOUx+TandGv6g10fWk2XaTH7GTr1As7aWas9ZorXzoeuVrlY+4p46c75jidzXseryjy3ZZh6PaHNHpEZPfzPXa+NP6       nfiak41sq01yZOd7yPWfarKzF8xOXXf1y9fR50nmMJHrVjmlz938vS5ta+66Ti0drlHmdZTvju9rqL3za8Wqeq2xasgaTGOr/DSmOdlU       HWkn0s/UQ9tVP2dquLKt+R35TH0112pnvbov6nxXyxXyv7I/UwNRdeUaz3U9zT7u5JFrJrq4u2tX+V/rI3t9xNTzyb/11Tp2++mox1qj       mKLrHQAAAAAAAMCzsjzkmh5kHP0iLS616X5xX41X9ICis5H/fFDTPXjpxia62qw0pn23/gjZSp/+J+z6f6Y4jsfzz0uJKaesfV7v6FvZ       aCy1dNS4Ites/GR8+0o93QOiZJWL6far0LXGNb+yE0d77J46VrqMbXZqKJvam11doqtD+jvLtH73Hrg2/hRnN/7R3jAru92cpl517Nb1       SL/Wy4/81fHUMtkluW6Vk+fsczf/3dx3/MlWazKvo3x363EN8i1t1362dGMr/Rqrfld7KGusn6sDGPny2G6/xcq26lvlJTK3vE4c17qP       7JNV7cSR3sT+fvnll3/psK9a45xznN08jvSLKYdr1ta5Lp/KtDfO7K9K9tzXqVF5Kb+aY1fXXR2KJzvZd/MAAAAAAAAAz8bykGv6hVm/       XHcPlyrdL+VJ57/7xb3adg8ojOa6X9w7vd1DEY11sTu6ByYrjYpdtXXrj7CPjx8//uNhjHzqweSvv/7a5tT1wFpdk7wWR/VY5aCxnVp6       nyiWqfOX1DR9eHy1F8VRvhnPaF0d72pZbV9Lh2u9in+mhtnjXV0eyxyt98w9UdG6KX6Xc9bn2vhdTh7fia+fR++rYmWXPclrs7MXzG5d       j/Rnvkb+6zppleajPqQ/r5OutHUM+9zNv+ud49TxKbdE/lLfTr5a0/XxVki39F/72dLpXOWnsWovHbt72zVPvx7PPDrbjlUvM+cuX6F5       2VUNqT/xGvs/o1koVo3XMelNah9kqzXVt8c6X9nD3TxyXUenReyszfrWOa8/qt+0N1a+V+S6KT+PV//dfrplrQEAAAAAAACeia1/yVV/       sfYvxzu/IPsX7voLu/zovwzWz+6BwepBkOYyrnx8+PDhy+vuAcGkVzb5QELz0iOfHptwrHyYMGnMBw/T+hVeI/+drxwXXZ4ia9/1wn5z       /c8///xlbpWDxjQnm5xLFFO2oqu9fO3U1La1h9It/Vrf1aFylK9j1v1lbTWm7apeM/Wjck8d3VrF8D2p690ayq72eFeXkKYcE1or+6pZ       8TTuOBOOn3XX2q7mnf018Vc57cTXvOzSh+LKR12v67STn9SeParYXr7quNZUH12dRJfXpEtIQ+5ra6i6bScd9tHR6bK/ulZj8ifbHD/K       X6+rNvdIYzWPqUaJ/GU/Ml/HqHb2n/VWvNW6rkcd1pC1m8ZF51t6sv+ZX0VjVa+Y9lDtQ7Wt66ve2lfXpo5NrHqZOTte1iF1icxV1zVG       F1d+Mm/F0Xj1bR2d5srOPrKvWivNVx220Vj1Zf91rdjNQ9dd7+s62aR+vdZYrpVv2a/0aUy5ZM4dXl/1GI3lvhO1zzs9l03Nw7llrWUn       zbV+tq0asgZC11lDAAAAAAAAgGfm8P/J5V/C9Qu2f8nWnzSaftFP6sMQ41/Ap1/w8xf3imyrL9E9NPCc9OpPLaXd9Eu+xju/ifOS3pw7       0ihW61dIX30AsjPe5Zm173oh/NCk5mJ/qxyO+lixn06n2ampqT0U6r98r/ybVb6aTx2KpbFa+6mWYupHck8drneurzY7Nex6vKPL1BhV       o/xWH2L3PqlrvUZxuppP9bkmfpfT2fjVR/qqpM6uxrJZ3YfWUP10Wmss12LKa6Ur42l9fp54fzrOxFQ/Xdf4ivHu3bvW507+2Q/5z9wn       LUlnl/nKp3xn32xXtVSbXOfrozoa5SRt0rg7nrXyeK1V5lfRWObp8ZpnF184x2qnmPIpHdXWtZddpzvtul52OaeGyX/mmjmKLmZnp7Fq       45yzjh3uR/Xntc4l653j9iEdqS+1mZ08OrvUUvVnznXvmaxp3QdCPvT+oPxyzySrvVHna/y6F7oaTPus2ux+/oqqQfb/9V//9Xe9TPUD       AAAAAAAA8BY4POQCuDf1gVk3DwDwVtAD7KOH6bdAD7v1vqqf3Ty8DXwA9RJ7yvCZDQAAAAAAAACPBIdc8OpM/0UyAMBb4+hfg9wK+edf       bLx91OeX/vzkkAsAAAAAAAAAHgkOueBV8QNfHpYBwNeCDib0vnfPf2Wl99SX/Nc98PJoH+nPz937wDThkAsAAAAAAAAAHgkOueBV8OGW       HtDxoAwAAOA54JALAAAAAAAAAB4JDrkAAAAAAAAAAAAAAADg6eCQCwAAAAAAAAAAAAAAAJ4ODrkAAAAAAAAAAAAAAADg6eCQCwAAAAAA       AAAAAAAAAJ4ODrkAAAAAAAAAAAAAAADg6eCQCwAAAAAAAAAAAAAAAJ4ODrkAAAAAAAAAAAAAAADg6eCQCwAAAAAAAAAAAAAAAJ4ODrkA       AAAAAAAAAAAAAADg6eCQCwAAAAAAAAAAAAAAAJ4ODrnuyE8//fT5jz/++Pztt9+289civ/L/22+/tfP3RDHvmdtroJx+//33z9988007       f2u+//77z3/++efnH374oZ1/Bu69x18S30/KqZs3j5Dzrlb4D7rHdK/pnuvm3ypn3qfvva9v8f7q98zX2PfcczDx0t8dXpt7f3d5C9+N       HoWX2JuP0C/lpzyVbzcP/+Taz7NHuUfPfMe5Nff+zvRWuLZOX9vn66Ox+/vTmXvxnveOfMr3M31Xf9TvPNx7x3S9u9fn0pm9/Yz3AcAt       OX3I5Zvmkjc9r/3rr7/+xVt8E73nh7hwPfVm2s3fk+4NXG/w98z33tzrw9x9yi8vj/qlpmPK4d57/CVxjkdfCB4h512t8B+0b3d+SXtr       nPmife99fYv3V79nvsa+v+ae89pHea+Xju572Gt8l3gmVLfuHrnXd4dHpfvucss9fo/vRuqNevRWPzOVV7cHX2JvPsJ3WfeX97A9dj/P       pvv6EXou1O/uPfklUO0uif3W34uS3TppL3V2X9vn66VMnwHXor7oXtc9382bM/fipffODvIp3890f937O9WlcO8d0/XuXp9LZ/b2M94H       ALfk9CGXbhY9DLnkTc83nG7+bv6tcc8P8Ufk2fO914f59Mvgo/ySuMOk9S3t8d0vBI+Q865W+A/at9q/2sfdPNx/Xz/7L0vX3HOP8l7v       HLo+S+Ovv/76jzH4J9M98rU9COj28y33+D3ul2vu32dg2oMvsTcf4f1N+SlP5dvNwz/ZvR+m3j5Cz1+bS78zvfX3omS3TpPd1/b5ein3       qpPucd3ruue7+Uu49N7Z4Rnvr+799BHeY7n3jnnJPp3Z2894HwDcklOHXL5hOOTa454f4o/Is+d7rw/z6QPwEb7A7DJpfUt73O9PR18I       HiHnXa3wH7RvtX+1j7t5uP++fvZflq655x7hvd76v5bvX/dguke+tgcB3X6+5R6/x/3y1j8zpz34EnvzEd7flJ/y5P1tj937YertI/T8       tbn0O9Nbfy9Kdus02X1tn6+Xcq866R7Xva57vpu/hEvvnR2e8f7q3k8f4T2We++Yl+zTmb39jPcBwC05dcilNztzyZuebzit7+YrftOo       f0onb9R6AwvZ6Frj1a7iX4Sq3+6NSRqrzeTXGqqtdeqn5t69e/ePmGe/LKQW177mb1vH/O677/7WVedXeqcvMl5T+1b3QOez+t1h0j19       eLiP1lB9ZL01Jo11fYdzkm1dP/Wr20tVj8jeVZuam7RXmzO1yxhdvtfUZpXD5HeqWe6Vya7iNYrlOlXdXR8uuadrnLouOZPzzh6p+8Aa       q01XM9laq2OkX6+TT4+JGk/X+mnfJuvnnKf3lfSRWibOxN7du52WH3/8cWuvCdczfWQ+qqvGpcs1mWw73Icap9ZUnM09scbUI781ruwc       K/12tnVeaKzadH4mLUnWpfYt966w3/fv3/9jnWuZ+yH316TL62zv+8l+zVHuOS8y3pEP4f5M9+ARitH5XZG1E1m/2pOah2MpT+Xr8cy9       1jV73/UlbUTW4ahWmVcXp2KNdY2wT+UtH/leoNddvc/GF7VOIv1nnUX2SuRe03Vd7+uK4qnm032YPkXNKXtWfXVU/1mrTp9wTTq7nBOq       3f/6X//rSxzNV1+OmfWT3SU1z/2T+dfeZr6pLcnaGutQHaRxd29mraZ6V2q/cn2nP/dLaqn1sL9q09Vdn/F1/+pn+vU64b0pajxddzXN       PHStNbf+TnQm9u73AudnO/dKY+m7kn0SzuNszzsN8pF2HanDPfZcrW3VVde5Nt4DHs++1PUeE15X7d2HWvOj/mWtxFkfwvXUuH2mnyNy       j4rM2/Xd/Z6b+Wm9xlbanEtdJ5zzpGHymXlNWjtWa92X9Odx6dS19UqbftqXbGTrdSbzn+yEfNtOyP///J//81/7RdRe7sbo8t/9/cl5       Z63P7InOts6LrEH6ca7ePxPum3K2z6p/p2ZpI1z36r+ukX/FqbHSNnMU1T7r1NXdyFfWqNMgsnZaK5tbfX/QvNa+5uemdGd9s0dnbLs+       u26pvdPpde5JnVv1J32tbD0mujiZE8BbYPuQSzeAbibdVNPNe4RvuHzTS3RD5k3nm7mutb9Pnz4d+hRdfMVQrPomoLFq4zeEzLlbqxj6       QqDXGpdmxXQu9qUx2Xpdh/Vm3A8fPny59nyN75iqiWrmcXGkV/Pusedtk3XT69Qlvzt5dUy63XfXz7iOVUPnw3Y7upST7ETVoPGsi3V1       +yRjTTl4PPev8tj50HFfsg+d3mtrM+Vgv/LhuaM6aE1df5Sr88w61bk6Ll+X3NP2Vdd1nMlZttVfp7fug4ztuc6+5qifGdt2nSaPCenO       ea3T+hyr+2ey391X18Re1Tv3k8fSb4fmZdftlYwlG41Jl8f1U2Oy977q0NzHjx//ocf7NrXv5t4hjalFY1kLjSn2lOMqv517S3Rakq4G       +ryzVvenzlt79e2eZ0zXM3PvdKUW5y4f1WYn90636Oop5DN1dnthl077EZ0G16T6cW5draRV5HitWbWtdehqo5+X3jc553H5VAzFUsxq       m2htZ6d8NC7st9MvLo1vf8qp1q/O1fHsleNUPVr3888//2M+fYvUrJ+6rjXvxkTXn3pPd9hX5urx1KjrWj/XI3PVmOshppxlI811PG13       ai6suY7Zv2tiX5lv529C62q+dVy+hWve1afaan5ll0z9yjyFXlcb17XGmOpR5zr72jPFkSbnXO1yvNrK52u9x1wTe4qhednWOnpsZ2/Z       tsav4zs9t22N1dklzil77fcsodh1vuZm3+67tIoc72qTujotyqHWW+M7/XPcrvar+lWdNac6vovWKxdrF4qtOFW/fDuObR271sK23Xrl       U+s0kfU01iDse9KQObhvu/GP1nb9lL6qo9Pr8ayPXmtMsT2m19OeyXz9PEivU4fZjbEaS90dXfwuZ43JZ/ZE43Wsy1naZOc1Gtd8tfG6       mm+H66K9nbY7NetsNJfztZ6i09zZTuuzTvLxyy+//O0r0Xr5kT+PuUY5nraOJTzW9aXaWldnp1rJv2pe49Y5j2uN1lafHbI787kpfzl+       ja3iyraOqRZZn2mt/gNNzwvPuX51v3tM9av+u1p77Min9EhXtQN4C2wdcuWN0t28O3Q3V+I3i+5m843oNwj7E3qd9smkeycfxaxvvlmT       Ds11bxyZx8SRrk7DFHNHb+ZovLb2rdMm37u9SCbd3YeHUFzFrxomH2fq3dk5lvPvYpuuVlMOHk8/nY8OzXf17vRdW5sph12/1pQ5TeMV       16PLVeuyfqvxirTV/e44mUtybS21ruYy7QPXpsvDsayh64/mtFax6rhqs1Pvmp9edzlP+2IaP+JMbNfAMRwz7YTy1Zxscs6s6m1dtW56       3fVb8Y9idTh+jbGb+4R81XymdY5d96Vsujym8Upnk1o6jmzkT36rfq3JWM4nx7v9NcVUjFqrbm1Hl3unWyh2rbmx/qpr2gs7TPEnMveK       4tf87Fu5VDv7yHGtrzm7rl0d7HuVs2tV40y1muqwW5/UbhS7q5fsu1pdEn9VJ8Xv9nAdP4rR1dHs5DH5n7StsK9unfxXLXk92bl+uSey       p7UOddzrnd9OzauvapPj9l3jVbsuTrLSs7M3d+vYoTnZZHznlfknU6+yHkK+unFryJrWfiuOHg7lQ029XtXYfah5aM093mOSM7Hlu/ba       a7vcbJs+kqN80nf2vNO/Gq/s1EzrqwavSb/ON8eVf91PU0zrrbFybUeXZ7c3hWN3PbF+67KPo/hn6HRJd41rZCOt0qzr1Gec/47OqZ67       GqbeTeOVM2ulx/tA46lt0pt7qNsb1a6O15jVttLZ7MZwnt3ek43mZJNzlYzf1UY4du21bLoY03glbbp93OGcL63ZtF+N/U/517idbTe2       m1ulWyOfO5+FynXn3tN8vTY5rnXyV2OKLtfV+BFdD6fYQna1l2dsO42yOervDopfY7mXdcxkDNvWHFLX0TjAM3N4yOU3irr5L70ZfMPp       jSPxTZg3dLfetr6WnrRNupvd6A1Bbwx6g8g5k28eO2sUq7Oxr06LWek1nc0Uc0fvZNPVudsDii072Xtsl0m3a+W6m25fHvmodepQTpP+       mtukyWRtJvtJV5db0vW+UvX6+praTDns+p3Wi9SaONe8z1c1UJxOVyU1HdXU7OY8kdqmdamvklq9Z1wjX/tP+NjO6zqfJn2JKWeNy5/8       1vHOxw5nYmfdJi3ikv2QSJO0SaOvu3har8+0VY0nMsZu7hOd5npdyfpNtt5Dq9hdLVexzZSvmfx2feji6bXGNLeyE9nHnbxFp7EbO/KX       /TiqzQrFPbN21avMxdeZR5ezSC2uQ+2J6frVkXqnWmVNzW6cab3WdePKte6ha+JPdfJ41l/UWk/rzUpD1rPrbTcmcu0O9tXllPlKb+39       ZDfVKXXrWg9+dC176/a1/Ey+bOd803dFa9NfV3uN2S7nKlMdpvXSVPfmbh07nGfaeE91fitZp6keKy2OVddkTrrWWv20ndet8hPpS/bu       c7XTeFfvTt8uu7GzD1nXyk5fxeQjYxnnab0rDVOtzLQPKlmbSdekQ9ca1/zKLvPS2JF+kxqn2q/85Zqd2pzFOVafet1pUn123j/Ebp0m       u10N0/our+TMWu+R/BOpZtIrapxpr6Wd0GuNpV1FcbMHuzGm/IXW1ntkIuN3ekzGm2x3cs8cd+vldWm3WzPN1/2XTH68p2q+nW031q3d       oeuNctFPoTH7rvXQXLcvMvf0b7IX+qmclFu1q3Wt49ZkjWdITVNsoTzq3Blb/dR17VMXu8vviIzlenb1yFpl7fO6knEA3gKHh1zdjZk3       7y6rm9OsfB/dwCv8JqQ35Y7u5lactPObmOayLsn0prajW3FqvI7OzxRzR+/0Juc4rrvQ6+zTFHuHaa37lnXwXqgaJh/WX+vU0eVktNa1       mepUbauOKYdpXKy0iNVakRqvrc0Ub9ev1uW9VOl8mEmjNXX+RM3fqK5p55x2a7Gbs/FerTGrtqm22cNKF6vuGa3RvH7KxuOTz64/8uf5       KeeunpXqY+LS2FmDmn+1E6tamiOb1DHF0/qunx22rblXn7u5T1SNQq+nntRYtq26kowtv2lTa7Dqj3FeWtv1oqvt5Lcb72owrVeMmsOq       5vJR867rRKf7aJ9ovNZg2gs7yFdqmuhqVMk6THlM45nXqq7Wkv2x71rvajPVqutTZcrZrPx2eyhrcE38qU5dLSq11lrr8Yy16rvWVT+Z       1zQmrDu1rJh8CfuTTmt2Th2u11S/HNdP+dS4fnpc8dxj6+viCecp/d28UVzFmbRZj+1yrlL17YzXGp+pY8eqXytdGcPrp3qs4jgH+fVY       rZ19aq3w+OTT41VfzWPqS5dXpeqbuDS2c3TdlJP8yF+162wnjuqT46L2XPM1j6TLoyJ9tu1qV2Pp+qxeXdcaTXbeXzt9sI+aZ1031T5z       qTi+a7DbvyO6/tQ6T5pqnVJbMtUpmex2NNguc6lM+sTZtdKq8TN6hdZ5v3W1r9i37ZznRBd3N8ZKs3xYc85Vqg+h11k3U3tt206fkX1d       L79p4/rIp3znmiT3j9mtWepOP5N/r3OtJtsdfdXHilpv10d+hMe7eNO+qLZZhw73ouqo/rp+VqZ9VLGmuq5qn2IL19S5n7E9qpvr09Ux       6Wop34qheffO9ezWOk7advWp1DgAb4HlIZdu2G7TT296R/iGW71ZrXz7Bvb61c2edG9CE/KnG77qzPU7NZjeJHd0T7WvdH6mmDt6p5iO       U+vR+Zti7zCtnfrmvVA1TD6sv9apY1Wj6vuoN6ljymEaF0f9Wq0VqfHa2kzxdv2mnjNMGo9qUNHao3t6txa7OQvFU9w6lrWY8ljVrItV       7fXa+0evrVf2dV85ds1Hc7KptZpyPtqnK66NrWuNuwYrLatamiOb1DHFc17yV8cr1p7x0udu7hPVX1fbSo11ZFvRuqN7S2RuK7xefuua       M3678S6vab1iKL5jdTXfzX13rKJxzctO17U/aXuEY1XtE12NKlmHKY9pPPNa7eXUYtu6XmQPp1pNvd7lrN+swTXxpzpNdV4hHdq3dX9n       rSuKWWvexTzS4fm8pztWvmodVpqTqX6i9kWvbaPXwnE8fpSr0bzsZN/Nm5U2jXV7Lqk57IzXHM7UsWNVj4yvfI7eMy/Z610O1V6v9S/0       5Fuv5V8/NVfr69hap3n76vLo+pJ2Z7g2tte7bsotfU22E1rb1XwaF1XvSsMZ5DPfszxea3NWb+qb7ORfcVZ92O3fVPu0qzi+bHS9278J       51n1Zwwxaap16tZVsk4Tk92OhpXdDmfXSuv0WbbyVXPMvTexa9fFvWatucSH0GuNdba1Dke2Fde92uY+kE/5lq1tOnKd2c3XOJ501f07       +Xe+td6d7bTeuBbiTK56vfNZKKZ9Uf2d7V/GEFOcHVx/6ZEuj6fPKbZQHnX9GdtaC9vU2Lv10Xz2MmM5167fGSdtO50Ab5nlIZduFr+B       TnQ32oRvuNWNvnpjyRt2dbMnu7aTXb45rHSayWZHy86bUednirmjV7HU04zpOLVvel0/PMROjIlpretQcxR+M68aJh/Wnz4S5TTpr/ke       9SZrM9mv/HT1rRzllLW4tjaT1l2/RzVbMWnc1T7ZpaZdf5qXnezreK6fcta1xjW/slvVzHNVq+PLXvvHcx7PP10oun2m1xrTnMemnKfx       Ha6N7bycz0qL5mrNO1b1Fqm30y+O/IhJa/rczX1iV7PnaqyVrZl0dDXY8Zdoff2eccZvN67XGtNctetq7NiOlbmeyb0bm9YbjVddeX0G       571b/1WvMpcut9W4rjWueV27DrUnJms01SD1TnbX1FDsxjdZg2via43WysfO+BHeE9bj6y4P+a4963o79TvR/NHvDvbV2WSc1V6trOok       X5r77rvvvjz8cZ4e90+P79Z8tyYrfxrTnGxyrjLVYXdv7taxY5Vn9Tvlmesnu1WdPKd4HlNMxZa98Fwd11hdo7Gu3jWPld00vsO1sXWt       cc3retUXz9l2YvKx2/OV3Vnct5p71uasXl1rXPPVLuvi2Ks+TH1JjdknM60XuWbysUtqEs5Rcys7kfWc7Dw35VXZrZ9JDav6HXFmreN+       +PCh7cEq35pL6p/YtevqtLt2lb/m5EO+cq6S8ae+ea7GW9ka2Xb1zhwnu2SqzW7NEq9TLvU6dShH5Vrz7WLu6lA82cm+mxeOKS3CGuu4       xjxudN31JbVNdonidPtsGt9hWpuaZDfVKX2cse36lLGP6tP5ELquOhRTseWv2tU56du5BnjrHP65wo7dN7NkdXMa3+jdTTjd7Ls3rOLK       Xuu6eTG90ShGfeC10mk018Xb0a3aqsarOnd+ppg7eicbj9e+dXtA62Qne4/tMul2jrlnPF41HPlY5S4UY+eQb9WbLtZRXTOe6OqbyKbL       1/pqza6tzZTDrt9VzY5YaZxqUJnqLH+rh9gTuznLb3c/SHMdn/TZX+2jsfaqtda4PqgT8vHrr79+8ec43T4R1lPHp5xtW3XscIvYXb27       +9exas07av30us5lLCGNna1zSB2Vbq1j1PHd3Ccyjuy7OthfjTXVszLlqji5dqrXCuvyfujiTX67cb3WmP2JqSaZQ9b8TO629VojHbXm       ZtLZ2e4yaeiQ9qn3qWOqwzSua41rXteua5db6uh66vV1fKrVmRp0aF3VbjpdImtwTXzn2a2d9tERmc/kR+PVLvOqY0e5OQ/57OaFfXU1       Tc25RyZWcR1PczWm1uiz9JdffvlXXaZaVeRH/ro8KtbW1U5jR3HEpCdzMtnD3Tp2pK9KjT/ZKccae6rHqp7Wr3h1XNfqoahx5fvjx49f       fNU4Xb2sp45PfXGOqX2Ha2Nn3XydNRGyUb2OdE757PZc6HXmdSnSobiKr+us2aRrGtd19TfVbKcPu/2bYlhj15NJ51H/OqRDeqb4dbzL       qdq6ntkXY521ThOTj10Nvr6kJrtrXTvr6TRLb/demn1PX9W2smsnv1nn3bXS2mn2+q4vSfbpzJ6Y4lfco7RRnLrW/o96OfnbrVmS67Lf       xuPVf6fFY0d5aM1R7YR0nPks9JquDql3V4P8176b3Vw7Oo1djeVbGjOG5mV3qW3Xu9R0VB+Ny4d81XH5qePOq6thxrBtzUH+urUAb5Gb       HHL5pj+6cXzDaX03b/zmUt8MujfA7gZeYR9Vu1Ac+7DP7s0pNU069V/3eL6rya5u6631kib9wq2fnZ8ppudWekW+ATqG1lUduQeE9Vb/       mpfdTs9XuuubvH1KU9Uw+XAOmq/jiTTKZxcr/U69kW3VVMezBl29TFffxHmlndam3mtrM+Vwxq/yzH0kZNPVwKw0uoZZA/mzvddXG2sR       jr1bC83v5NztEc3lHlvtA+usmjSmOFqTWu0/9U3j0la1OAfZpu5ca2Qn+6pfddZ4Z2+ujW37WoP06TF9qc/xDveixvfe7+6zHBP20fXT       uB+2cQyNVZ9ncu9IjY5TfXpMNerGs26al1/NW0eN4T2be2KqV0UHsTWW1tf4XW0nv924XmtMcx5zDnWsy8F2rvmZ3Lu4ovMhZKdxzXts       2guOebQXhG0znueqPr3O3nt9za3ryWpc19Wva5C6vL5qUo41vuuaa6daCfnLHLRO4519ZcpJa7uadvaXxneduj47TmpQDNvLRveX52Qn       e8X1mP3UGK65xjVf7TKH9CeO7ukO+1fc6k9rNVb1OW76VL20ttZD112f7CPjTePCGtNfrbmvu/Wycf1WvdXYtJcrU12nnK3fGpzrTh2T       9FWp8Z1n1eP6iJ16OFatp8ZkL7LO9p95TeOKWbW4Lhqruld9kYbqQ2idxld9vDZ2VzfnmWOyU+51vMMasq67Pde1NaQPxe7WG8U4es/K       WJOuaVzX3R6oY4571Add7/RPpG6TPoS1a85jXa/N5Lsim5qj/WWfJl9ZT+da6+Gx/G45kT7NrgbbZv20TuNH8XfWqt61bs6x6rOfzi7r       oFhZc6E4VYdzrXby6edBupZ9jWl2Y2g+12ts9/cn2dY6dDl77J6/b9iuuzcqrmmtgdmp2dSjOiabmpPzlO+aR7fWtlVDrYfHsu4Tzilr       PI2LyXfqtdb0kXpVj7wHjOxqH4XWabyzN/JZ11lL1th2GUP+U/cZ26yF7bJu3VqtEfYhG89ZQ13jva3x6r9bb1v58ZjtUps0VDuAt8BD       HnIJ3XB+gzH1DUR0N/AR9Q3CpG6/CXheub1///7LWGpY6ZSuriZndHd6Xb/OzxTTHNXVvfScc5bP2rfcA0bxvVavrbHG6DjSrXj2K/yn       16qGyUdXpw7n5F47VpensN+qq9aoUveU/Xmsq81U30TzsqsaunXX1kZ0OZz1m/fWpLdypNHz1Wdq2rmnj+KYMznLd9WlvmpMcaVJNqt9       INKHtL97967Val+5D6fx3D+yUV00Vm2nnOt81ShSW3Jt7KlfWps6suYr7Lf6yLoJjUlr7t2jfprUKfv0eTb3pNOYdXfsKVbqtL3nna/n       5Lv7vJzqVclY2bOutpPfVe6aq7ZdDvqM0WvH6mq+m3vaVl3WZB85b6b+KI7WHO0F08UzWRf5rPPSX/shup6sxnVd/dS6Zrwup9wj8pe9       1rquVibjiC5WR13rNd1eE1MNLonf7b9uvvqsNbCWOp/9FtKaNopZezblVWO4Htmv6mei+s/1GdOkXWdba5T7wz3JNdO4OKq5qXUxdb/Y       T9dbjXU+O2oNrFdjZ/bmTh2TyZfI+FkLzZ39LpY+ZKvvRPKleNXWvrIG07jIGkhX5nHUF++bypRP5ZrYU93ko/qUr+k7ZEett3Wc6bnI       nlVfdW2lWyPf1SZjTbqmcV1rXPN1PPuw+ztnrpP/rh7ulWzSh9ZUH/bj+bo++6cYinXUV9vZv2rQff/utIuununTurs6TcjWa53DGQ2i       +khfR6zWui+1Pt249fp9zX66HITzsN1kW/eMSS269lyty26Mul4od/nR2rxHEuddfeq1xqpP+ZPfbk9kfNt7PvOQ77OfH2baPzlftdT8       ur3S+cqcuveSSUvVIPv/+q//+tceqH5WuC5pP42Lrqdi0nvUv6nvdT7XH/VRZFzFTO2OrT9LXWvY6Tlj29Viqlvmp3Varzmtr3PyobFq       417JT/rSdY1VbbvxurbLC+DZueiQC2AXvUHz5gkAAADJ9IsYAAAA7KOHofo89UNReHmmB9wA8Hrod4zd55FnbAHgMeGQC+6KPij0ha+b       AwAAgK8XDrkAAACuR/9hKQcsrwuHXACPB4dcAF8XHHLBXdGXPR5eAQAAQMIhFwAAwPXoc5T/sPR14ZAL4PHgkAvg64JDLgAAAAB4cTjk       AgAAgLcAh1wAjweHXABfFxxyAQAAAAAAAAAAAAAAwNPBIRcAAAAAAAAAAAAAAAA8HRxyAQAAAAAAAAAAAAAAwNPBIRcAAAAAAAAAAAAA       AAA8HRxyAQAAAAAAAAAAAAAAwNPBIRcAAAAAAAAAAAAAAAA8HRxyAQAAAAAAAAAAAAAAwNPBIRcAAAAAAAAAAAAAAAA8HRxyAQAAAAAA       AAAAAAAAwNPBIRcAAAAAAAAAAAAAAAA8HRxywWl++umnz3/88cfnb7/9tp1/a3z//fef//zzzy95d/NwPdT45fjmm28+//77759/++23       dv4Z8H754Ycf2vlrYC8CAAAAAAAAAAA8D4eHXH4g+tdff/2Lsw8YdSiiw5HO1zM9UJRW1US16ebfOsr/LR5yea/nXuSh9/15lhrrPe/Z       9z6HXGu43wEAAAAAAAAAAJ6H7UOuWzzw8yFXPlz1Q8VneegqnRxyvb1DLu9PHm7DxFvY+xxyAQAAAAAAAAAAwFvh8JDrlg/+p0Mu8UwP       jznk4pALvk445HoMOOQCAAAAAAAAAAAAsX3IdYuHifbVPVyVfz201MNLj/lhbP2zhqnDB07yXW3Tl+l86joPrOz3/fv3X3zJ7v/8n//z       9+tKVxvH6Xx3cx6rfnOtbbr66eF7zbke2Aj523k4L99VQ7emPuhP+64WfiBtm+xNl3v6cczvvvvuy0/ZfPz48YsvzVVb4Zj2kxpEXeca       VZxj+jI7PRPeS+/evftb+2TrvlWfXU2P0Jrqo8ZyDOfnNR637dk+d/VIO9ei3ley6Wrc9VzIh+azp90+OKNp1Z+uL6LGzBpZ5xnSh+vv       eetQXOVRbXfz//HHH7+M7err7p2uhnU+dQv3U3Wumjpb0dXcOeZ+cZ5dTlojW63xWOZU59O36Wqpa+8RIw0af8n7HQAAAAAAAAAA4Gvl       8JBreuB3CX6g1z2I1Fh92NnZSoMeAtaHuV4n6kNMjU8PNqtPP7issYX9fvr06R/jnuseWCbdw1WRNd3V5bFqZzKW6yf9nX1i+8xLazMH       x5J93Rcaz4e07lkd+/Dhw790Vo1eU/vsmMrHa12Prheyd+00pwOxmkOny1pqXKF1il1tPXbUMyEbjdW95FhVu33W+IpZ4+7gWmWdqq4u       Vq1Z9aOxqkHjU+2O+tjVQnQ1dpyqyT7Vz+rD47fS5LW5t7Su6hGub7XV/M8///y3zQ7SVrVOfq31KK8uB4/Jtq6fcA9qXdUrHVLqdRdD       yHfdg0K+NCbtq70ppnx0QKfXuV/sp8vJcR3TvmtO9T0pfdexrj+pXTYaO9pP9llzVMwaFwAAAAAAAAAAANZsH3LpoaDJh3q7+EFfPojs       HqTKJh+cduO6zrXCDyBtm9fVttM1+fVc5yfpHmIKXbuGZ3TZtuo0+SDXax0n7RP57Gw7fe5X5iWyNke1muZzfIqZeYusW4f8yn+18bqM       4T56L3htp7uLrdfdXkrtut7t10RqXY3XeJ6vuev1qs9Vq653+jjVYtLX2XY+un5eq0nxa388lj2aan4L5LNq8P5KDc4/80o7Yb21Vh07       eU0xOj3TfpL/Wn/nmHaV1OZ4XU7ZR9lUXcnku1tjrTWuXu/sJ113tQMAAAAAAAAAAIB9Dg+5Ej/wqw/rdvEDQT0ArOSDydVDTj04zAeW       04PC+hAxH1wm+eBz5TdtV6St66dxXZ/RlWsr+QDVNexsk1W9RT6MzViV7M/KdhV314+uNV595NqJ7M2kxzHco7xO0q+ua/2M1teH4Xl9       CdLexer2Ts03NYup5kIaPXemj1MtuppO8accaw630CS77EcX27FqbW9F1mUVq+Zhuy7/bi90THU2qxgi1+u666dztJ/sT0fWZZVTxp10       mPSd14li1nun9qHaaf2t73cAAAAAAAAAAICvndOHXGL3IWnih6J1nV7nA0c/VNQDwI5qnw8YK/Vhph4kZpy0rQ8mV35Xc0nG1U/F8fUZ       Xau654Nb11rjaZtojdZOD1tTY9YqbdUj+7KO7Jtw3Nrbym7M7MfUny5etZtq5nXOKeuRpNYjPfbr/lqbx8+gWDW/JPeOYmi8y2e3z11d       K9X3bi3EFH8ar75fQ5N9Z43PovVVq7AGxVV8xct1VVun3XifrXTapquLWcUQGq91nmqXOUlXZ1fJ2Kuc5LfqcDzVtY6b9J15JJmXNOzs       J2vOHgMAAAAAAAAAAMA+Fx1yiZ0HkYkfLtYHkX7QV33lw8AV0wNFUR8+3upB5dFc4pz9AFc/69ozulyrWr9qV/1k3BVH9U6NVdORrXEM       Pcx1/kdxK7sxu7w9lrqyj1PNUueUo0mt036Z8rcO1ar62eHM3hSKPcXZrfmUR8eZWkzxp/Hq+6U1Gfm69NBCvrVOPjyWGhRX8WVrG1O1       rfJXnsq3xkl2bI5qrHHNy07XU+0yp6kflYy90iu/VYexD9W8xkvfmUeSeU36069x/tN9CAAAAAAAAAAAADNXHXIdPYhM/DAvH0T64Z8f       cuZDzxXyNT0YrBqnB4ydbXe9sj3C9tKonzWvM7qEXnex80HumRoe2Wq81jhjrWwT5amHubI7o3Hlt/rpHkhPa7OPk57s0ZmeddfmyI/n       tb6b71jVKXG+v/zyyxd9GUe+spZ1znGmunWcqcWUyzRefb+0por8yN+RXWXSmxpWeVVtKzvPHe2rqS5mFUNUPd21ST+TXSXr4pp3euVv       2sdCPvyepOv03e2DStbpzH7q5o/6AgAAAAAAAAAAAP+Piw65/FDy7MO41TqN1QeRuj560ClkpweU+eAwY60egtrWDzmF1nW2ntvRZqRN       uX348OHLOucoLtHVxdZ4rV+3dsXk1/o07zH5rA+F03aqm7Au+5viJoq1spMfxf348eM/tNa5qsk66nhqM/lwepWnfWTPOtv0m6ziTNjn       Tt+lyzWVhryPzvS5+qq2yZlaTD2fxtP3vTRpTHPVNtm1M10sIT+1L8pFOWm82tnW+XY9MvIln8q7jie2S02VqcaOX2NUfdU2c3ItuhxN       V69Ji8ZXvXB8a03fq1qmdiE/ne3UY7OKAwAAAAAAAAAAAD2Hh1x6eFcfyvlBXH2Y2I115MPE1ZwfCOYDP2nJB4p6EFsfYk567LPGt23G       mR5UCmmo8Y5wjE+fPrW5n9Fl21oDvc4auJ7VboXtuzpkHR0vH4DLNuvy66+//uM6a+d8Mm72Wa9TR8V+ZVM1Cev1uGursS7fqebVr8d2       etb5FOlXOrsYHut0dChe9kaxNe76aa7rX63xmT5bW+apdbWPu7UQU8+n8fR9D03TmPa5r+VH/uS3u+5QLsqp6lCMrL/tqn6TdbHWGldj       shErPUY28qF1HpOW1JP107qqRUx963LS69x30qD/UMCvp950fmoOu+9Jne9aM/e1yz3HRPqVti5GHQMAAAAAAAAAAIA1W4dcftBq8uGo       H/Z1DzArfpiZ641j+SGl7WvsjOEHiu/fv//ygNB23UNG0fns9EwPKuu81+88lHRuk+2uLiEfaSf/yt8Pau3PtdzBfay+uxrIp3x/9913       /9Cs17U3otZJVI2myz19OWb6N/Yx2aQO1VBjmV/VYl/Tw+dqa7qedXFE99C7+hI1pl5P+SWdL+8Fx01NOX6mz6KrR9ru1kJMPZ/Gj/p5       C02i1lavbVdj1H1gDeknST/S5Pc1r7Uvxc31XV3Sp+bfvXv3xXfVuKLmK+RPfj2vuslftenq2ekTU07KufoUrsPUm1yjHOW3atZYtcl8       Jt/WWdd2NdTYzn7KuoqMCQAAAAAAAAAAAGsu/n9yPQrTA8VHY3rAC7CL9nr3UP1esGdvgw4uqCMAAAAAAAAAAADA7eGQ6wWY/qUCwC7+       1zIv+S89OOS6DarjSx5OAgAAAAAAAAAAAHwtcMj1AkgjhwVwDdo7+n+61T+rdm845LoNuv854AYAAAAAAAAAAAC4PRxy3RFp0/9nhYMC       eEY45AIAAAAAAAAAAACAR+bpD7kAAAAAAAAAAAAAAADg64NDLgAAAAAAAAAAAAAAAHg6OOQCAAAAAAAAAAAAAACAp4NDLgAAAAAAAAAA       AAAAAHg6OOQCAAAAAAAAAAAAAACAp4NDLgAAAAAAAAAAAAAAAHg6OOQCAAAAAAAAAAAAAACAp4NDLgAAAAAAAAAAAAAAAHg6OOQCAAAA       AAAAAAAAAACAp4NDLgAAAAAAAAAAAAAAAHg6OOQCAAAAAAAAAAAAAACAp4NDLgAAAAAAAAAAAAAAAHg6OOQCAAAAAAAAAAAAAACAp4ND       LgAAAAAAAAAAAAAAAHg6OOQCAAAAAAAAAAAAAACAp4NDLgAAAAAAAAAAAAAAAHg6OOQCAAAAAAAAAAAAAACAp4NDLgAAAAAAAAAAAAAA       AHg6OOQCAAAAAAAAAAAAAACAp4NDLgAAAAAAAAAAAAAAAHg6OOQCAAAAAAAAAAAAAACAp4NDLgAAAAAAAAAAAAAAAHg6OOQCAAAAAAAA       AAAAAACAp4NDLgAAAAAAAAAAAAAAAHg6OOQCAAAAAAAAAAAAAACAp4NDLgAAAAAAAAAAAAAAAHg6OOQCAAAAAAAAAAAAAACAp4NDLgAA       AAAAAAAAAAAAAHg6OOQCAAAAAAAAAAAAAACAp4NDLgAAAAAAAAAAAAAAAHg63uQh17fffvv5jz/++PzTTz+186/Nb7/99vn333///M03       37Tzl/L9999//vPPPz//9ddfd/EPAAAAAAAAAAAAAADwKBwecv3www9fDk06dFjTrXltrjnk0pp7HxDd45DLB1yPdrAnPdIlfd38LVE9       VddHPNyc7iMOIwEAAAAAAAAAAAAALmP7kEs/67gPFDT3aIcK1xxy3etfWVXuEUP9eanDpDO85CHXI/8LPvVH2qSxmwcAAAAAAAAAAAAA       gHNcfMi1O/8acMjV27wGHHL9B2nikAsAAAAAAAAAAAAA4HZcfcgl8tBmOnDxIYTsu3HFEWcORbq1ip+HHdImjbYTVbPiaW2dFzXvI52u       1dEhi+slf1XTlPcqbs6Zqtu6pnnh/DUufbKp9TnKfWL3kCs11tiVLl/FEHVMyE72Nbfqy3uixpIfrfvuu+/+jlP7uaszkY9dWwAAAAAA       AAAAAAAAOOYmh1yaqwcZeW18QFEPuXwAUQ8SfGCxiim8tvOn9emzXndahA+g8jBiR6d+ZtwOxVBsUWuk8azbTlwx1bzz2el0nE+fPv1L       /66GDtl1uipp48Mn1Ud9sl2nW/M//vjj36+1ps4L60+tjlP7bS2qQ2re1dkx7SsAAAAAAAAAAAAAALiMmxxy5SGCftbDAJMHSz4k8LWZ       xiu26Q4OrDkPOxLN5wFFdxhxjc4O2Xc1TX9n4nY1dx0yjsgDG/dQfuXfdmc0dGScxHFTY45PB1iVWx1ydXtnV+eE6iS/lVUuAAAAAAAA       AAAAAACw5lUPuVYHBDoAyAOoymrtzoGI6HRKWx70XKOzQzGmNdXfmbi7uZj07eus2bW5yyZ15XznIw/RuvwS+ZCv3RymQ64uzq7OXaRF       99XZdQAAAAAAAAAAAAAA8B9u9ucKq41+dgcFPoSoBxdaN7E6QJliiOmwwwcSNUb66A6GrtHZ0cUw9ZDlTNysx9HhS9ZI67RefqrdtblP       h0ZG+jq/xvr18yhW5mSm3Fyj2gut7eLs6jxD9gwAAAAAAAAAAAAAAPa5ySFXHgxMD+99COEDgWse8q/WdocdPqSoY50P2XWHXLc8jOhi       mFrLM3HT9paHXNfkLv+r9ataVHbsur6LKTfXqPqt9a+2uzrPYF2pFwAAAAAAAAAAAAAAjrn6kMsHBfUwZVrjQwjbTocPO6zW5uHBZKtr       jWveY91hxjU6OxSjO0jxnOOfibubi0nfU6xrcz865JoOlZIdO++vPDRyDjnuvVtrNMXZ1XmGa2sLAAAAAAAAAAAAAPA1c/UhV3dgMx0q       eFxrdN0dMuziAw37qihu/Vdb0t4dtGhtjnf5XKOzQzF2DgHPxO1yXPUuD23cm7S9NnfF6WpvHDf3SrJjN+2Jo/GaW9bF7Oo8w1FtAAAA       AAAAAAAAAABg5uJDLh8QdAcCIg+LbC9f9bDB/vMAQgcA3eFMxWvrwYPGFKceSPiAosbQnNbmIYPWdwcPOzo7PR3ykbF9mJT13Ilru063       1nU5ymddr3nZ1TFj+yMNHbLpdFVcj+pL9dB4rYV8dbo/fPjw97XWdAdyqcP1lr+dQy6xqzPRnGyqJtdU8aotAAAAAAAAAAAAAADssX3I       lRwdXNRDBNvLlw4Q9MC/2vqApfrvDio6Up/WvXv37kuceoCQdtKgsS4PH2YI2Xj8SKdjHB1cyL/WvX///h/+ppx36jPlIqSnru3sHKPm       281XP5PeSsau1Dp1dl0dXeNK1awDJfVe43lYVfsqfvzxxy851DwUczrk8nz1ITqdlarJTL0CAAAAAAAAAAAAAIA9Dg+5AAAAAAAAAAAA       AAAAAB4NDrkAAAAAAAAAAAAAAADg6eCQCwAAAAAAAAAAAAAAAJ4ODrkAAAAAAAAAAAAAAADg6eCQCwAAAAAAAAAAAAAAAJ4ODrkAAAAA       AAAAAAAAAADg6eCQCwAAAAAAAAAAAAAAAJ6M//H5/weQZjXnRF3VpwAAAABJRU5ErkJggg==\" y=\"0.749994\"/>\n",
       "\t\t\t<rect class=\"st1\" height=\"209.279\" v:rectContext=\"foreign\" width=\"1290.93\" x=\"0\" y=\"0.749994\"/>\n",
       "\t\t</g>\n",
       "\t</g>\n",
       "</svg>"
      ],
      "text/plain": [
       "<IPython.core.display.SVG object>"
      ]
     },
     "execution_count": 2,
     "metadata": {},
     "output_type": "execute_result"
    }
   ],
   "source": [
    "SVG(filename='Task1/assignment.svg')"
   ]
  },
  {
   "cell_type": "markdown",
   "metadata": {
    "hideCode": true,
    "hidePrompt": true,
    "toc": true
   },
   "source": [
    "<h1>Table of Contents<span class=\"tocSkip\"></span></h1>\n",
    "<div class=\"toc\"><ul class=\"toc-item\"><li><span><a href=\"#Intoduction\" data-toc-modified-id=\"Intoduction-1\"><span class=\"toc-item-num\">1&nbsp;&nbsp;</span>Intoduction</a></span><ul class=\"toc-item\"><li><span><a href=\"#Disappearing-gate-sequence-example\" data-toc-modified-id=\"Disappearing-gate-sequence-example-1.1\"><span class=\"toc-item-num\">1.1&nbsp;&nbsp;</span>Disappearing gate sequence example</a></span></li></ul></li><li><span><a href=\"#Devices-and-analysis\" data-toc-modified-id=\"Devices-and-analysis-2\"><span class=\"toc-item-num\">2&nbsp;&nbsp;</span>Devices and analysis</a></span><ul class=\"toc-item\"><li><span><a href=\"#Geometry-and-error-rate\" data-toc-modified-id=\"Geometry-and-error-rate-2.1\"><span class=\"toc-item-num\">2.1&nbsp;&nbsp;</span>Geometry and error rate</a></span></li><li><span><a href=\"#Analysis\" data-toc-modified-id=\"Analysis-2.2\"><span class=\"toc-item-num\">2.2&nbsp;&nbsp;</span>Analysis</a></span></li></ul></li><li><span><a href=\"#Circuits\" data-toc-modified-id=\"Circuits-3\"><span class=\"toc-item-num\">3&nbsp;&nbsp;</span>Circuits</a></span><ul class=\"toc-item\"><li><span><a href=\"#Deep-circuit\" data-toc-modified-id=\"Deep-circuit-3.1\"><span class=\"toc-item-num\">3.1&nbsp;&nbsp;</span>Deep circuit</a></span><ul class=\"toc-item\"><li><span><a href=\"#Theoretical-analysis\" data-toc-modified-id=\"Theoretical-analysis-3.1.1\"><span class=\"toc-item-num\">3.1.1&nbsp;&nbsp;</span>Theoretical analysis</a></span></li><li><span><a href=\"#Simulation\" data-toc-modified-id=\"Simulation-3.1.2\"><span class=\"toc-item-num\">3.1.2&nbsp;&nbsp;</span>Simulation</a></span></li><li><span><a href=\"#5-Qubit-device\" data-toc-modified-id=\"5-Qubit-device-3.1.3\"><span class=\"toc-item-num\">3.1.3&nbsp;&nbsp;</span>5 Qubit device</a></span></li><li><span><a href=\"#16-Qubits-device\" data-toc-modified-id=\"16-Qubits-device-3.1.4\"><span class=\"toc-item-num\">3.1.4&nbsp;&nbsp;</span>16 Qubits device</a></span></li></ul></li><li><span><a href=\"#Shallow-circuit\" data-toc-modified-id=\"Shallow-circuit-3.2\"><span class=\"toc-item-num\">3.2&nbsp;&nbsp;</span>Shallow circuit</a></span><ul class=\"toc-item\"><li><span><a href=\"#Theoretical-analysis\" data-toc-modified-id=\"Theoretical-analysis-3.2.1\"><span class=\"toc-item-num\">3.2.1&nbsp;&nbsp;</span>Theoretical analysis</a></span></li><li><span><a href=\"#Simulation\" data-toc-modified-id=\"Simulation-3.2.2\"><span class=\"toc-item-num\">3.2.2&nbsp;&nbsp;</span>Simulation</a></span></li><li><span><a href=\"#5-Qubit-device\" data-toc-modified-id=\"5-Qubit-device-3.2.3\"><span class=\"toc-item-num\">3.2.3&nbsp;&nbsp;</span>5 Qubit device</a></span></li><li><span><a href=\"#16-Qubit-device\" data-toc-modified-id=\"16-Qubit-device-3.2.4\"><span class=\"toc-item-num\">3.2.4&nbsp;&nbsp;</span>16 Qubit device</a></span></li></ul></li></ul></li><li><span><a href=\"#Conclusion\" data-toc-modified-id=\"Conclusion-4\"><span class=\"toc-item-num\">4&nbsp;&nbsp;</span>Conclusion</a></span><ul class=\"toc-item\"><li><span><a href=\"#Deep-circuit\" data-toc-modified-id=\"Deep-circuit-4.1\"><span class=\"toc-item-num\">4.1&nbsp;&nbsp;</span>Deep circuit</a></span></li><li><span><a href=\"#Shallow-circuit\" data-toc-modified-id=\"Shallow-circuit-4.2\"><span class=\"toc-item-num\">4.2&nbsp;&nbsp;</span>Shallow circuit</a></span></li><li><span><a href=\"#Summary\" data-toc-modified-id=\"Summary-4.3\"><span class=\"toc-item-num\">4.3&nbsp;&nbsp;</span>Summary</a></span></li></ul></li></ul></div>"
   ]
  },
  {
   "cell_type": "code",
   "execution_count": 2,
   "metadata": {
    "hideCode": true,
    "hidePrompt": true,
    "hide_input": true,
    "init_cell": true
   },
   "outputs": [],
   "source": [
    "from qiskit import *\n",
    "import qiskit.visualization as qv\n",
    "from qiskit.tools.monitor import job_monitor\n",
    "import qiskit.tools.jupyter\n",
    "import qiskit.tools\n",
    "from qiskit.providers.aer import QasmSimulator\n",
    "from IPython.core.display import SVG,Image\n",
    "%matplotlib inline"
   ]
  },
  {
   "cell_type": "code",
   "execution_count": 4,
   "metadata": {
    "hideCode": true,
    "hideOutput": true,
    "hidePrompt": true,
    "hide_input": true
   },
   "outputs": [],
   "source": [
    "API_KEY=\"1534ff76fd87c3669c8b4167a072cc22a76a83d771ed7bf93e6d8966265e4b6930cbc520f65e27aff471c802aa7d8f810c1eab5f8900151ff9070fa7ee5c85a8\"\n",
    "try:\n",
    "    IBMQ.enable_account(API_KEY)\n",
    "except:\n",
    "    a=1\n",
    "provider = IBMQ.get_provider(hub='ibm-q')"
   ]
  },
  {
   "cell_type": "code",
   "execution_count": 27,
   "metadata": {
    "hideCode": true,
    "hidePrompt": true,
    "hide_input": true
   },
   "outputs": [],
   "source": [
    "backend1_16 = provider.get_backend('ibmq_16_melbourne') # 16 Qubits\n",
    "backend2_5 = provider.get_backend('ibmq_ourense') # 5 Qubits\n",
    "simulator=Aer.get_backend('qasm_simulator') # simuulator"
   ]
  },
  {
   "cell_type": "code",
   "execution_count": null,
   "metadata": {
    "hideCode": true,
    "hidePrompt": true,
    "hide_input": true
   },
   "outputs": [],
   "source": [
    "def plot_circ(circ):\n",
    "    import matplotlib.pyplot as plt\n",
    "    fig = plt.figure(figsize=(10, 10))\n",
    "    fig.subplots(1,3)\n",
    "    axes = fig.axes\n",
    "    for a in axes:\n",
    "        a.get_xaxis().set_visible(False)\n",
    "        a.get_yaxis().set_visible(False)\n",
    "    axes[0].set_title('Designed circuit - depth='+str(circ.depth()))\n",
    "    axes[2].set_title('Transpiled circuit (5 Qubits) - depth='+str(transpile(circ,backend2_5).depth()))\n",
    "    axes[1].set_title('Transpiled circuit (16 Qubits) - depth='+str(transpile(circ,backend1_16).depth()))\n",
    "    qv.circuit_drawer(circ,output='mpl',ax=axes[0],scale=1.5)\n",
    "    qv.circuit_drawer(transpile(circ,backend2_5),output='mpl',ax=axes[2],scale=1.5)\n",
    "    qv.circuit_drawer(transpile(circ,backend1_16),output='mpl',ax=axes[1],scale=1.5)"
   ]
  },
  {
   "cell_type": "markdown",
   "metadata": {
    "hideCode": true,
    "hidePrompt": true,
    "hide_input": true
   },
   "source": [
    "## Intoduction\n",
    "___\n",
    "\n",
    "building the circuits under specific depth requirements isn't such an easy task since the the circuits are being transpiled by IBM code before running on actual devices.\n",
    "There are numerous reasons for that such as the geometry of each device, which dictates the way a certain gate is being implemented.   \n",
    "each device has a specific universal set of gates and thus, a circuit consisting ONLY of the gates present in its set will be (under certain conditions) transpiled as at was designed, while on a different device, it will be transpiled to a version which consists of the device's set of gates.  \n",
    "Another thing which impacts the traspiled circuit is the presence of gate sequences which can be written simply as the identiy operator$\\,I$.<br>\n",
    "those Sequences appear to be deleted completely in the transpiled version of the circuit. <br>\n",
    "let's see an example:"
   ]
  },
  {
   "cell_type": "markdown",
   "metadata": {
    "hideCode": true,
    "hidePrompt": true
   },
   "source": [
    "### Disappearing gate sequence example\n",
    "___\n",
    "\n",
    "We will take the following simple sequence:<br>\n",
    "\\begin{equation}\\label{eq:}\n",
    "XX=I\n",
    "\\end{equation}\n",
    "\n"
   ]
  },
  {
   "cell_type": "code",
   "execution_count": 29,
   "metadata": {
    "hideCode": true,
    "hideOutput": false,
    "hidePrompt": true
   },
   "outputs": [
    {
     "data": {
      "image/png": "[encoded data removed]",
      "text/plain": [
       "<Figure size 298.592x204.68 with 1 Axes>"
      ]
     },
     "execution_count": 29,
     "metadata": {},
     "output_type": "execute_result"
    }
   ],
   "source": [
    "dagger_example=QuantumCircuit(2,2)\n",
    "dagger_example.x(0)\n",
    "dagger_example.x(0)\n",
    "qv.circuit_drawer(circuit=dagger_example,output='mpl')"
   ]
  },
  {
   "cell_type": "markdown",
   "metadata": {
    "hideCode": true,
    "hidePrompt": true
   },
   "source": [
    "using qiskit command `depth()`  allows us to get the depth of the circuit."
   ]
  },
  {
   "cell_type": "code",
   "execution_count": 30,
   "metadata": {
    "hideCode": true,
    "hidePrompt": true
   },
   "outputs": [
    {
     "data": {
      "text/plain": [
       "'dagger_example depth is:2'"
      ]
     },
     "execution_count": 30,
     "metadata": {},
     "output_type": "execute_result"
    }
   ],
   "source": [
    "'dagger_example depth is:' + str(dagger_example.depth())"
   ]
  },
  {
   "cell_type": "markdown",
   "metadata": {
    "hideCode": true,
    "hidePrompt": true
   },
   "source": [
    "Now we'll have a look at the the transpiled circuit, which can be generated using `transpile(circuit,backend)` where `backend` represents the device used (and thus, the function is bound to return a different circuit for devices constructed differently)"
   ]
  },
  {
   "cell_type": "code",
   "execution_count": 31,
   "metadata": {
    "hideCode": true,
    "hideOutput": false,
    "hidePrompt": true
   },
   "outputs": [
    {
     "data": {
      "image/png": "[encoded data removed]",
      "text/plain": [
       "<Figure size 373.24x385.28 with 1 Axes>"
      ]
     },
     "execution_count": 31,
     "metadata": {},
     "output_type": "execute_result"
    }
   ],
   "source": [
    "dagger_example_transpiled= transpile(dagger_example,backend2_5)\n",
    "qv.circuit_drawer(circuit=dagger_example_transpiled,output='mpl')"
   ]
  },
  {
   "cell_type": "markdown",
   "metadata": {
    "hideCode": true,
    "hidePrompt": true
   },
   "source": [
    "And if we use the `depth()` function again..."
   ]
  },
  {
   "cell_type": "code",
   "execution_count": 32,
   "metadata": {
    "hideCode": true,
    "hidePrompt": true
   },
   "outputs": [
    {
     "data": {
      "text/plain": [
       "'dagger_example_transpiled depth is:0'"
      ]
     },
     "execution_count": 32,
     "metadata": {},
     "output_type": "execute_result"
    }
   ],
   "source": [
    "'dagger_example_transpiled depth is:' + str(dagger_example_transpiled.depth())"
   ]
  },
  {
   "cell_type": "markdown",
   "metadata": {
    "hideCode": true,
    "hidePrompt": true
   },
   "source": [
    "Moreover, the a device's geometry is a crucial attribute to take into consideration when designing a circuit as we will see in the upcoming designs.<br>\n",
    "To conclude, in order the construct a circuit which will enable us to REALLY witness the the effects of noise, dephasing or any other phenomenons arise of physical limitations, we must first achieve a circuit design which will be transpiled into a circuit which still the depth demand.<br>\n",
    "In the upcoming sections we will build circuits based on \"weak spots\" found in the analysis of the error-geometry diagrams of the devices."
   ]
  },
  {
   "cell_type": "markdown",
   "metadata": {
    "hideCode": true,
    "hidePrompt": true
   },
   "source": [
    "## Devices and analysis\n",
    "___\n",
    "\n",
    "I've chosen the following devices:\n",
    "1. `ibmq_16_melbourne` - (16 qubits)\n",
    "2. `ibmq_ourense` - (5 qubits)\n"
   ]
  },
  {
   "cell_type": "markdown",
   "metadata": {
    "hideCode": true,
    "hidePrompt": true
   },
   "source": [
    "### Geometry and error rate"
   ]
  },
  {
   "cell_type": "code",
   "execution_count": 33,
   "metadata": {
    "hideCode": true,
    "hidePrompt": true
   },
   "outputs": [
    {
     "data": {
      "image/png": "[encoded data removed]",
      "text/plain": [
       "<Figure size 864x648 with 5 Axes>"
      ]
     },
     "execution_count": 33,
     "metadata": {},
     "output_type": "execute_result"
    }
   ],
   "source": [
    "qv.plot_error_map(backend1_16)"
   ]
  },
  {
   "cell_type": "code",
   "execution_count": 34,
   "metadata": {
    "hideCode": true,
    "hidePrompt": true
   },
   "outputs": [
    {
     "data": {
      "image/png": "[encoded data removed]",
      "text/plain": [
       "<Figure size 864x648 with 5 Axes>"
      ]
     },
     "execution_count": 34,
     "metadata": {},
     "output_type": "execute_result"
    }
   ],
   "source": [
    "qv.plot_error_map(backend2_5)"
   ]
  },
  {
   "cell_type": "markdown",
   "metadata": {},
   "source": [
    "### Analysis\n",
    "___\n",
    "Examining the devices geometry, can see that for both devices, interactions between *q2* and *q4* for example aren't direct.<br> it is achieved by interacting with the qubits that are directly connected whith each other.\n",
    "the meaning is that applying CNOT with *q2* and *q4* as control and target can't be implemented directly. let's build a circuit to show this."
   ]
  },
  {
   "cell_type": "code",
   "execution_count": 91,
   "metadata": {
    "hideCode": true,
    "hidePrompt": true
   },
   "outputs": [
    {
     "data": {
      "image/png": "[encoded data removed]",
      "text/plain": [
       "<Figure size 1339.02x2115.6 with 3 Axes>"
      ]
     },
     "metadata": {},
     "output_type": "display_data"
    }
   ],
   "source": [
    "cnot_circ=QuantumCircuit(5,5)\n",
    "cnot_circ.cx(2,4)\n",
    "plot_circ(cnot_circ)"
   ]
  },
  {
   "cell_type": "markdown",
   "metadata": {
    "hideCode": true,
    "hidePrompt": true,
    "hide_input": true
   },
   "source": [
    "## Circuits\n",
    "___\n",
    "Knowing the above and taking the relatively high error rate of the CNOT gate into account, suggests that we can use the gate we used above to construct a circuit with high sensitivity to errors and noise.<br>\n",
    "Taking the transpilation matter into account, we'll try to overcome the depth difference between different devices by constructing circuits which will be transpiled into circuits with the same depth for both 5 and 16 qubits devices.<br>\n",
    "This is achieved by examining the coupling diagrams of the devices."
   ]
  },
  {
   "cell_type": "code",
   "execution_count": 64,
   "metadata": {
    "hideCode": true,
    "hidePrompt": true
   },
   "outputs": [
    {
     "data": {
      "image/png": "[encoded data removed]",
      "text/plain": [
       "<Figure size 1080x216 with 2 Axes>"
      ]
     },
     "metadata": {
      "needs_background": "light"
     },
     "output_type": "display_data"
    }
   ],
   "source": [
    "fig = plt.figure(figsize=(15, 3))\n",
    "fig.subplots(1,2)\n",
    "axes = fig.axes\n",
    "for a in axes:\n",
    "    a.get_xaxis().set_visible(False)\n",
    "    a.get_yaxis().set_visible(False)\n",
    "axes[0].set_title('16 Qubit device')\n",
    "axes[1].set_title('5 Qubit device')\n",
    "qv.plot_gate_map(backend1_16,ax=axes[0])\n",
    "qv.plot_gate_map(backend2_5,ax=axes[1])"
   ]
  },
  {
   "cell_type": "markdown",
   "metadata": {
    "hideCode": true,
    "hidePrompt": true
   },
   "source": [
    "For each of the two circuits we will use qubits featuring the same distance from each other to preserve the depth"
   ]
  },
  {
   "cell_type": "markdown",
   "metadata": {
    "hideCode": true,
    "hidePrompt": true
   },
   "source": [
    "### Deep circuit\n",
    "<a id='deep'></a>\n",
    "___"
   ]
  },
  {
   "cell_type": "code",
   "execution_count": 3,
   "metadata": {
    "hideCode": false,
    "hidePrompt": true,
    "scrolled": true
   },
   "outputs": [
    {
     "ename": "NameError",
     "evalue": "name 'plot_circ' is not defined",
     "output_type": "error",
     "traceback": [
      "\u001b[1;31m---------------------------------------------------------------------------\u001b[0m",
      "\u001b[1;31mNameError\u001b[0m                                 Traceback (most recent call last)",
      "\u001b[1;32m<ipython-input-3-68fb261b2c9f>\u001b[0m in \u001b[0;36m<module>\u001b[1;34m\u001b[0m\n\u001b[0;32m      9\u001b[0m \u001b[0mcnot_circ\u001b[0m\u001b[1;33m=\u001b[0m\u001b[0mcnot_circ\u001b[0m\u001b[1;33m+\u001b[0m\u001b[0mmeas_circ\u001b[0m\u001b[1;33m\u001b[0m\u001b[1;33m\u001b[0m\u001b[0m\n\u001b[0;32m     10\u001b[0m \u001b[1;33m\u001b[0m\u001b[0m\n\u001b[1;32m---> 11\u001b[1;33m \u001b[0mplot_circ\u001b[0m\u001b[1;33m(\u001b[0m\u001b[0mcnot_circ\u001b[0m\u001b[1;33m)\u001b[0m\u001b[1;33m\u001b[0m\u001b[1;33m\u001b[0m\u001b[0m\n\u001b[0m",
      "\u001b[1;31mNameError\u001b[0m: name 'plot_circ' is not defined"
     ]
    }
   ],
   "source": [
    "meas_circ=QuantumCircuit(5,5)\n",
    "l=[4,3,2,1,0]\n",
    "meas_circ.measure(l,l)\n",
    "\n",
    "cnot_circ=QuantumCircuit(5,5)\n",
    "cnot_circ.x(0)\n",
    "cnot_circ.barrier()\n",
    "cnot_circ.cx(0,3)\n",
    "cnot_circ=cnot_circ+meas_circ\n",
    "\n",
    "plot_circ(cnot_circ)"
   ]
  },
  {
   "cell_type": "markdown",
   "metadata": {
    "hideCode": true,
    "hidePrompt": true
   },
   "source": [
    "#### Theoretical analysis\n",
    "___\n",
    "For an intial quantum state $\\left|\\psi_{0}\\right\\rangle=|00000 \\ldots .0\\rangle$, the state after $X$ is $\\left|\\psi_{0}\\right\\rangle=|10000 \\ldots .0\\rangle$, and after the CNOT gate $\\left|\\psi_{0}\\right\\rangle=|10010 \\ldots .0\\rangle$\n",
    "___"
   ]
  },
  {
   "cell_type": "markdown",
   "metadata": {
    "hideCode": true,
    "hidePrompt": true
   },
   "source": [
    "#### Simulation\n",
    "___"
   ]
  },
  {
   "cell_type": "code",
   "execution_count": 4,
   "metadata": {
    "hideCode": false,
    "hidePrompt": true
   },
   "outputs": [
    {
     "data": {
      "image/png": "[encoded data removed]",
      "text/plain": [
       "<Figure size 504x360 with 1 Axes>"
      ]
     },
     "execution_count": 4,
     "metadata": {},
     "output_type": "execute_result"
    }
   ],
   "source": [
    "simulator = Aer.get_backend('qasm_simulator')\n",
    "# Execute and get counts\n",
    "shallow_sim = execute(cnot_circ, simulator).result()\n",
    "counts = shallow_sim.get_counts(cnot_circ)\n",
    "qv.plot_histogram(counts,title=('Deep- depth: '+str(cnot_circ.depth())+' - Simulator'))"
   ]
  },
  {
   "cell_type": "markdown",
   "metadata": {
    "hideCode": true,
    "hidePrompt": true,
    "hide_input": false
   },
   "source": [
    "#### 5 Qubit device\n",
    "<a id='deep_5'></a>\n",
    "___"
   ]
  },
  {
   "cell_type": "code",
   "execution_count": 40,
   "metadata": {
    "hideCode": false,
    "hideOutput": true,
    "hidePrompt": false,
    "hide_input": false
   },
   "outputs": [
    {
     "name": "stdout",
     "output_type": "stream",
     "text": [
      "Job Status: job has successfully run\n"
     ]
    }
   ],
   "source": [
    "shallow_5_job=execute(cnot_circ, backend2_5,shots=1024)\n",
    "job_monitor(shallow_5_job)"
   ]
  },
  {
   "cell_type": "code",
   "execution_count": 43,
   "metadata": {
    "hideCode": true,
    "hidePrompt": true,
    "hide_input": true
   },
   "outputs": [
    {
     "data": {
      "image/png": "[encoded data removed]",
      "text/plain": [
       "<Figure size 504x360 with 1 Axes>"
      ]
     },
     "execution_count": 43,
     "metadata": {},
     "output_type": "execute_result"
    }
   ],
   "source": [
    "shallow_res_5=shallow_5_job.result()\n",
    "counts_5 = shallow_res_5.get_counts(cnot_circ)\n",
    "qv.plot_histogram(counts_5,title=('Deep Circuit- depth: '+str(transpile(cnot_circ,backend2_5).depth())+' - 5 Qubits'))"
   ]
  },
  {
   "cell_type": "markdown",
   "metadata": {
    "hideCode": true,
    "hidePrompt": true,
    "hide_input": false
   },
   "source": [
    "\n",
    "<div class=\"alert alert-block alert-info\">\n",
    "   <b>\n",
    "    difference between probabilities for expected state:  36.5%\n",
    "   </b>  \n",
    "</div>\n"
   ]
  },
  {
   "cell_type": "markdown",
   "metadata": {
    "hideCode": true,
    "hidePrompt": true
   },
   "source": [
    "#### 16 Qubits device\n",
    "<a id='deep_16'></a>\n",
    "___"
   ]
  },
  {
   "cell_type": "code",
   "execution_count": 46,
   "metadata": {
    "hideCode": true,
    "hideOutput": true,
    "hidePrompt": true,
    "scrolled": true
   },
   "outputs": [
    {
     "name": "stdout",
     "output_type": "stream",
     "text": [
      "Job Status: job has successfully run\n"
     ]
    }
   ],
   "source": [
    "shallow_16_job=execute(cnot_circ, backend1_16,shots=1024)\n",
    "job_monitor(shallow_16_job)"
   ]
  },
  {
   "cell_type": "code",
   "execution_count": 47,
   "metadata": {
    "hideCode": true,
    "hidePrompt": true,
    "hide_input": true
   },
   "outputs": [
    {
     "data": {
      "image/png": "[encoded data removed]",
      "text/plain": [
       "<Figure size 504x360 with 1 Axes>"
      ]
     },
     "execution_count": 47,
     "metadata": {},
     "output_type": "execute_result"
    }
   ],
   "source": [
    "shallow_res_16=shallow_16_job.result()\n",
    "counts_16 = shallow_res_16.get_counts(cnot_circ)\n",
    "qv.plot_histogram(counts_16,title=('Shallow- depth: '+str(cnot_circ.depth())+' - 16 Qubits'))"
   ]
  },
  {
   "cell_type": "markdown",
   "metadata": {
    "hide_input": false
   },
   "source": [
    "<div class=\"alert alert-block alert-info\">\n",
    "   <b>\n",
    "    difference between probabilities for expected state:  38.3%\n",
    "   </b>  \n",
    "</div>\n"
   ]
  },
  {
   "cell_type": "markdown",
   "metadata": {
    "hideCode": true,
    "hidePrompt": true
   },
   "source": [
    "### Shallow circuit\n",
    "<a id='shallow'></a>\n",
    "#### Theoretical analysis\n",
    "___\n",
    "For an intial quantum state $\\left|\\psi_{0}\\right\\rangle=|00000 \\ldots .0\\rangle$, the state after $X$ is $\\left|\\psi_{0}\\right\\rangle=|10000 \\ldots .0\\rangle$, and after the CNOT gate $\\left|\\psi_{0}\\right\\rangle=|11000 \\ldots .0\\rangle$"
   ]
  },
  {
   "cell_type": "code",
   "execution_count": 90,
   "metadata": {
    "hideCode": true,
    "hidePrompt": true
   },
   "outputs": [
    {
     "data": {
      "image/png": "[encoded data removed]",
      "text/plain": [
       "<Figure size 1620.24x2115.6 with 3 Axes>"
      ]
     },
     "metadata": {},
     "output_type": "display_data"
    }
   ],
   "source": [
    "circ2 = QuantumCircuit(2, 2)\n",
    "circ2.x(0)\n",
    "circ2.barrier()\n",
    "circ2.cx(0, 1)\n",
    "\n",
    "measure_circ2 = QuantumCircuit(2, 2)\n",
    "measure_circ2.measure([0,1], [0,1])\n",
    "circ2=circ2+measure_circ2\n",
    "\n",
    "plot_circ(circ2)"
   ]
  },
  {
   "cell_type": "markdown",
   "metadata": {
    "hideCode": true,
    "hidePrompt": true
   },
   "source": [
    "#### Simulation\n",
    "<a id='shallow_sim'></a>\n",
    "___"
   ]
  },
  {
   "cell_type": "code",
   "execution_count": 21,
   "metadata": {
    "hideCode": true,
    "hidePrompt": true
   },
   "outputs": [
    {
     "data": {
      "image/png": "[encoded data removed]",
      "text/plain": [
       "<Figure size 504x360 with 1 Axes>"
      ]
     },
     "execution_count": 21,
     "metadata": {},
     "output_type": "execute_result"
    }
   ],
   "source": [
    "simulator = Aer.get_backend('qasm_simulator')\n",
    "# Execute and get counts\n",
    "shallow_circ2_sim = execute(circ2, simulator).result()\n",
    "counts = shallow_circ2_sim.get_counts(circ2)\n",
    "qv.plot_histogram(counts,title=('Shallow- depth: '+str(circ2.depth())+' - Simulator'))"
   ]
  },
  {
   "cell_type": "markdown",
   "metadata": {
    "hideCode": true,
    "hidePrompt": true
   },
   "source": [
    "#### 5 Qubit device\n",
    "<a id='shallow_5'></a>\n",
    "___"
   ]
  },
  {
   "cell_type": "code",
   "execution_count": null,
   "metadata": {
    "hideCode": true,
    "hidePrompt": true,
    "hide_input": true
   },
   "outputs": [],
   "source": [
    "deep_5_job=execute(circ2, backend2_5,shots=1024)\n",
    "job_monitor(deep_5_job)"
   ]
  },
  {
   "cell_type": "code",
   "execution_count": 24,
   "metadata": {
    "hideCode": true,
    "hidePrompt": true,
    "hide_input": true
   },
   "outputs": [
    {
     "data": {
      "image/png": "[encoded data removed]",
      "text/plain": [
       "<Figure size 504x360 with 1 Axes>"
      ]
     },
     "execution_count": 24,
     "metadata": {},
     "output_type": "execute_result"
    }
   ],
   "source": [
    "deep_res_5=deep_5_job.result()\n",
    "counts_deep_5 = deep_res_5.get_counts(circ2)\n",
    "qv.plot_histogram(counts_deep_5,title=('Shallow Circuit- depth: '+str(transpile(circ2,backend2_5).depth())+' - 5 Qubits'))"
   ]
  },
  {
   "cell_type": "markdown",
   "metadata": {},
   "source": [
    "\n",
    "<div class=\"alert alert-block alert-info\">\n",
    "   <b>\n",
    "    difference between probabilities for expected state: 7.5%\n",
    "   </b>  \n",
    "</div>"
   ]
  },
  {
   "cell_type": "markdown",
   "metadata": {
    "hideCode": true,
    "hidePrompt": true
   },
   "source": [
    "#### 16 Qubit device\n",
    "<a id='shallow_16'></a>\n",
    "___"
   ]
  },
  {
   "cell_type": "code",
   "execution_count": 93,
   "metadata": {
    "hideCode": true,
    "hideOutput": true,
    "hidePrompt": true,
    "hide_input": true
   },
   "outputs": [
    {
     "name": "stdout",
     "output_type": "stream",
     "text": [
      "Job Status: job has successfully run\n"
     ]
    }
   ],
   "source": [
    "deep_16_job=execute(circ2, backend1_16,shots=1024)\n",
    "job_monitor(deep_16_job)"
   ]
  },
  {
   "cell_type": "code",
   "execution_count": 94,
   "metadata": {
    "hideCode": true,
    "hidePrompt": true,
    "hide_input": true
   },
   "outputs": [
    {
     "data": {
      "image/png": "[encoded data removed]",
      "text/plain": [
       "<Figure size 504x360 with 1 Axes>"
      ]
     },
     "execution_count": 94,
     "metadata": {},
     "output_type": "execute_result"
    }
   ],
   "source": [
    "deep_res_16=deep_16_job.result()\n",
    "counts_16_deep = deep_res_16.get_counts(circ2)\n",
    "qv.plot_histogram(counts_16_deep,title=('Deep Circuit- depth: '+str(circ2.depth())+' - 16 Qubits'))"
   ]
  },
  {
   "cell_type": "markdown",
   "metadata": {},
   "source": [
    "<div class=\"alert alert-block alert-info\">\n",
    "<b>difference between probabilities for expected state: 12.6%</b>  \n",
    "</div>"
   ]
  },
  {
   "cell_type": "markdown",
   "metadata": {
    "hide_input": false
   },
   "source": [
    "## Conclusion\n",
    "___\n",
    "In this assignment we designed two circuits, each of different depth, and compared their output when running on 3 different platforms: simulator, 5 qubit device and 16 qubit device.\n",
    "We saw that the devices differ of each other in a few aspects such as the qubits coupling, the gates used to implement operations, T1,T2 times (which we haven't discussed about here) and more.<br>\n",
    "By observing the coupling diagrams we constructed circuits which hold the depth requirements even after the transpilation process, allowing us to bypass the issue of bad correlation between the designed and transpiled circuits.\n",
    "We used CNOT based operations for the circuits, for the reason that those feature high error rate with respect to other gates.\n",
    "\n",
    "### Deep circuit\n",
    "___\n",
    "\n",
    "We saw that depth difference between the design and the transpilation was 3 for a single use of CNOT.<br>\n",
    "The 5-qubit device produced a high error of 36.5% relative to the simulation, while the 16-qubit device produced 38.3% error.\n",
    "\n",
    "### Shallow circuit\n",
    "___\n",
    "depth value of 3 achieved across both devices and matched the initial design.<br>\n",
    "for the 5-qubit device we got 7.5% error relative to the simulation. much better than we got for the deep circuit.\n",
    "Yet,  for the 16-qubit device we got an error of 12.6% relative to simulation\n",
    "### Summary\n",
    "___\n",
    "We saw that for both circuits, the 16-qubit device produced results with higher error compared to simulation and 5-qubits device.\n",
    "we can deduce that this is due to the qubits influencing each other, and thus, more qubits means more influence.\n",
    "In addition, the enviorment noise is also to be taken into account in future analisys."
   ]
  },
  {
   "cell_type": "markdown",
   "metadata": {},
   "source": [
    "<div class=\"alert alert-block alert-info\">\n",
    "<b>Note:</b> difference between devices also arise of the different implementation of the same unitary operation on a single qubit, but since we were asked to construct only two circuits with depth demands, I have decided not to address the issue here.\n",
    "</div>"
   ]
  },
  {
   "cell_type": "code",
   "execution_count": null,
   "metadata": {
    "hideCode": true,
    "hidePrompt": true
   },
   "outputs": [],
   "source": []
  }
 ],
 "metadata": {
  "celltoolbar": "Hide code",
  "hide_code_all_hidden": true,
  "kernelspec": {
   "display_name": "Python [conda env:Bloch-qiskit] *",
   "language": "python",
   "name": "conda-env-Bloch-qiskit-py"
  },
  "language_info": {
   "codemirror_mode": {
    "name": "ipython",
    "version": 3
   },
   "file_extension": ".py",
   "mimetype": "text/x-python",
   "name": "python",
   "nbconvert_exporter": "python",
   "pygments_lexer": "ipython3",
   "version": "3.7.7"
  },
  "latex_envs": {
   "LaTeX_envs_menu_present": true,
   "autoclose": false,
   "autocomplete": true,
   "bibliofile": "biblio.bib",
   "cite_by": "apalike",
   "current_citInitial": 1,
   "eqLabelWithNumbers": true,
   "eqNumInitial": 1,
   "hotkeys": {
    "equation": "Ctrl-E",
    "itemize": "Ctrl-I"
   },
   "labels_anchors": false,
   "latex_user_defs": false,
   "report_style_numbering": false,
   "user_envs_cfg": false
  },
  "toc": {
   "base_numbering": 1,
   "nav_menu": {},
   "number_sections": true,
   "sideBar": true,
   "skip_h1_title": true,
   "title_cell": "Table of Contents",
   "title_sidebar": "Contents",
   "toc_cell": true,
   "toc_position": {
    "height": "calc(100% - 180px)",
    "left": "10px",
    "top": "150px",
    "width": "307.188px"
   },
   "toc_section_display": true,
   "toc_window_display": true
  },
  "varInspector": {
   "cols": {
    "lenName": 16,
    "lenType": 16,
    "lenVar": 40
   },
   "kernels_config": {
    "python": {
     "delete_cmd_postfix": "",
     "delete_cmd_prefix": "del ",
     "library": "var_list.py",
     "varRefreshCmd": "print(var_dic_list())"
    },
    "r": {
     "delete_cmd_postfix": ") ",
     "delete_cmd_prefix": "rm(",
     "library": "var_list.r",
     "varRefreshCmd": "cat(var_dic_list()) "
    }
   },
   "types_to_exclude": [
    "module",
    "function",
    "builtin_function_or_method",
    "instance",
    "_Feature"
   ],
   "window_display": false
  },
  "widgets": {
   "application/vnd.jupyter.widget-state+json": {
    "state": {
     "01293f271aa3473ba6626eb1a2f9d673": {
      "model_module": "@jupyter-widgets/controls",
      "model_module_version": "1.5.0",
      "model_name": "HTMLModel",
      "state": {
       "layout": "IPY_MODEL_88c16034d14746628b56d3fcce0f264d",
       "style": "IPY_MODEL_8fa7e39b4d9c4b018d4b6cd2c93c1842",
       "value": "ibmq_16_melbourne"
      }
     },
     "02540057133f4374b37321d4af431e87": {
      "model_module": "@jupyter-widgets/controls",
      "model_module_version": "1.5.0",
      "model_name": "DescriptionStyleModel",
      "state": {
       "description_width": ""
      }
     },
     "03a2f101838f40c280b40137aba9ff34": {
      "model_module": "@jupyter-widgets/controls",
      "model_module_version": "1.5.0",
      "model_name": "GridBoxModel",
      "state": {
       "children": [
        "IPY_MODEL_4047dde68e19402cae13c1a1be138077"
       ],
       "layout": "IPY_MODEL_fd0233f687e34e7da343250f878a2ba1"
      }
     },
     "075c3f8641574639a6c3c5ffe6ea4c05": {
      "model_module": "@jupyter-widgets/controls",
      "model_module_version": "1.5.0",
      "model_name": "DescriptionStyleModel",
      "state": {
       "description_width": ""
      }
     },
     "094fe3e7c3614c34b37f826c24ff44e3": {
      "model_module": "@jupyter-widgets/controls",
      "model_module_version": "1.5.0",
      "model_name": "DescriptionStyleModel",
      "state": {
       "description_width": ""
      }
     },
     "09d7d81cac3b446e8cd140f236f8e465": {
      "model_module": "@jupyter-widgets/base",
      "model_module_version": "1.2.0",
      "model_name": "LayoutModel",
      "state": {
       "width": "145px"
      }
     },
     "0ac70a15aca447c4b9acde6df6a6cf51": {
      "model_module": "@jupyter-widgets/controls",
      "model_module_version": "1.5.0",
      "model_name": "HTMLModel",
      "state": {
       "layout": "IPY_MODEL_c825e635f235421cb65a78596c3e8a68",
       "style": "IPY_MODEL_eab60a0ad5ef4be5abf6df2b33e171a4",
       "value": "<h5>Backend</h5>"
      }
     },
     "0b9c1c2ab8d4413c8cf4ed962899a930": {
      "model_module": "@jupyter-widgets/base",
      "model_module_version": "1.2.0",
      "model_name": "LayoutModel",
      "state": {
       "margin": "0px 0px 10px 0px"
      }
     },
     "0dc484f94cb64f2696a268fe7eef64d6": {
      "model_module": "@jupyter-widgets/base",
      "model_module_version": "1.2.0",
      "model_name": "LayoutModel",
      "state": {
       "width": "95px"
      }
     },
     "0e86a8bb109e42b59f5d921bb05e5564": {
      "model_module": "@jupyter-widgets/controls",
      "model_module_version": "1.5.0",
      "model_name": "HTMLModel",
      "state": {
       "layout": "IPY_MODEL_7d60ea7ef5884e8a99097050edb7d966",
       "style": "IPY_MODEL_e8e1bca1a7164b18b56eb3a26c011159",
       "value": "<h5>Job ID</h5>"
      }
     },
     "0ed325dc092f48e0acf8fbee7cfe3116": {
      "model_module": "@jupyter-widgets/controls",
      "model_module_version": "1.5.0",
      "model_name": "DescriptionStyleModel",
      "state": {
       "description_width": ""
      }
     },
     "0ee7fb887fdc4b3b943bf1b21d412bc6": {
      "model_module": "@jupyter-widgets/base",
      "model_module_version": "1.2.0",
      "model_name": "LayoutModel",
      "state": {
       "width": "190px"
      }
     },
     "12010cffe8cd4263820f3c36dda33a04": {
      "model_module": "@jupyter-widgets/base",
      "model_module_version": "1.2.0",
      "model_name": "LayoutModel",
      "state": {
       "width": "190px"
      }
     },
     "121e8a7ac1344199a6c598870083f2a8": {
      "model_module": "@jupyter-widgets/base",
      "model_module_version": "1.2.0",
      "model_name": "LayoutModel",
      "state": {
       "width": "145px"
      }
     },
     "13e34702574f43f5a42adb334f05d51c": {
      "model_module": "@jupyter-widgets/base",
      "model_module_version": "1.2.0",
      "model_name": "LayoutModel",
      "state": {
       "overflow_x": "scroll"
      }
     },
     "14c99ddd978749d3be57193b299b08fe": {
      "model_module": "@jupyter-widgets/controls",
      "model_module_version": "1.5.0",
      "model_name": "ButtonStyleModel",
      "state": {}
     },
     "1946928ba2854b979a20c2fe25439c77": {
      "model_module": "@jupyter-widgets/controls",
      "model_module_version": "1.5.0",
      "model_name": "HTMLModel",
      "state": {
       "layout": "IPY_MODEL_9674036abb8b485fa99a40e24b011c93",
       "style": "IPY_MODEL_34a8a24aaa084cb38c01609b0f3b3809",
       "value": "ibmq_16_melbourne"
      }
     },
     "19a5109b448f448a9963c6bb8bd53020": {
      "model_module": "@jupyter-widgets/controls",
      "model_module_version": "1.5.0",
      "model_name": "DescriptionStyleModel",
      "state": {
       "description_width": ""
      }
     },
     "1dbb27b9fb324a5a9c53cc4d96822305": {
      "model_module": "@jupyter-widgets/base",
      "model_module_version": "1.2.0",
      "model_name": "LayoutModel",
      "state": {
       "overflow_x": "scroll"
      }
     },
     "1e71da50e082414eabd806164caa247f": {
      "model_module": "@jupyter-widgets/controls",
      "model_module_version": "1.5.0",
      "model_name": "DescriptionStyleModel",
      "state": {
       "description_width": ""
      }
     },
     "20e7e04a07aa433496eaa7a0955a7553": {
      "model_module": "@jupyter-widgets/controls",
      "model_module_version": "1.5.0",
      "model_name": "HBoxModel",
      "state": {
       "children": [
        "IPY_MODEL_b0ed4f0f1ded47ecb81873c8799479e0",
        "IPY_MODEL_3ad2127bcbda46adabee1f37439f3889",
        "IPY_MODEL_933486bc8d3f4debaaf0da8bae0ef7c5",
        "IPY_MODEL_7d49b8430ad34ba8828a9f9b6d96f9fb",
        "IPY_MODEL_b2ac413c994649f99160361673474ec1",
        "IPY_MODEL_eb77ca8df08b469b8efc1e821594804f"
       ],
       "layout": "IPY_MODEL_4bf1bbbee9d14f0ab5823dbbe11f4640"
      }
     },
     "211bcd18afb44b36a2e52e96f95d6ac7": {
      "model_module": "@jupyter-widgets/base",
      "model_module_version": "1.2.0",
      "model_name": "LayoutModel",
      "state": {
       "width": "145px"
      }
     },
     "2769ba3fe64b4b2da9ff44e7199f60ae": {
      "model_module": "@jupyter-widgets/controls",
      "model_module_version": "1.5.0",
      "model_name": "ButtonStyleModel",
      "state": {
       "button_color": "white"
      }
     },
     "28cc52b4f1ac4edb84479b53d6e962e4": {
      "model_module": "@jupyter-widgets/controls",
      "model_module_version": "1.5.0",
      "model_name": "HTMLModel",
      "state": {
       "layout": "IPY_MODEL_cd7048a4338f4daa9c839f57aa0f4f93",
       "style": "IPY_MODEL_094fe3e7c3614c34b37f826c24ff44e3",
       "value": "job has successfully run"
      }
     },
     "29e798e9b1ff48be8cbe84f0202a3936": {
      "model_module": "@jupyter-widgets/controls",
      "model_module_version": "1.5.0",
      "model_name": "HBoxModel",
      "state": {
       "children": [
        "IPY_MODEL_7a6f3cbb2c7c4fb4a91003413a48f5d2",
        "IPY_MODEL_90d04cb3ea8f4c91b753c3cb7759a7d1",
        "IPY_MODEL_a03629f7e5564c4d92e98562157e9d3c",
        "IPY_MODEL_5275d2ec0f724f6e9651c7314e27a171",
        "IPY_MODEL_f85b1eeb002146f38d69ecbcf282699e",
        "IPY_MODEL_28cc52b4f1ac4edb84479b53d6e962e4"
       ],
       "layout": "IPY_MODEL_7192ee68fd1f4416901971a2b1587e5f"
      }
     },
     "2ace177fce5945f2a4011139400238c1": {
      "model_module": "@jupyter-widgets/controls",
      "model_module_version": "1.5.0",
      "model_name": "DescriptionStyleModel",
      "state": {
       "description_width": ""
      }
     },
     "2d69b8956951414681cb5a9d04a8be98": {
      "model_module": "@jupyter-widgets/base",
      "model_module_version": "1.2.0",
      "model_name": "LayoutModel",
      "state": {
       "margin": "0px 5px 0px 0px",
       "width": "32px"
      }
     },
     "30629ed795154e1a9493b78f41640f35": {
      "model_module": "@jupyter-widgets/controls",
      "model_module_version": "1.5.0",
      "model_name": "ButtonStyleModel",
      "state": {
       "button_color": "white"
      }
     },
     "33ed284876064f2f92af6742e620e4cc": {
      "model_module": "@jupyter-widgets/controls",
      "model_module_version": "1.5.0",
      "model_name": "DescriptionStyleModel",
      "state": {
       "description_width": ""
      }
     },
     "340cd73ba50b4d158d4ca798da04f1e6": {
      "model_module": "@jupyter-widgets/controls",
      "model_module_version": "1.5.0",
      "model_name": "DescriptionStyleModel",
      "state": {
       "description_width": ""
      }
     },
     "34a8a24aaa084cb38c01609b0f3b3809": {
      "model_module": "@jupyter-widgets/controls",
      "model_module_version": "1.5.0",
      "model_name": "DescriptionStyleModel",
      "state": {
       "description_width": ""
      }
     },
     "34cd6b9e4ef341bf886c89cbaa74957a": {
      "model_module": "@jupyter-widgets/controls",
      "model_module_version": "1.5.0",
      "model_name": "DescriptionStyleModel",
      "state": {
       "description_width": ""
      }
     },
     "360659a86550400bb92679fa9c7be7d9": {
      "model_module": "@jupyter-widgets/base",
      "model_module_version": "1.2.0",
      "model_name": "LayoutModel",
      "state": {
       "width": "95px"
      }
     },
     "37533fc23b164034a1053ff5734f9dee": {
      "model_module": "@jupyter-widgets/controls",
      "model_module_version": "1.5.0",
      "model_name": "HBoxModel",
      "state": {
       "children": [
        "IPY_MODEL_de14b16f182046c98bde8d558a768ea6",
        "IPY_MODEL_a9c53555898e44f2963fef49e550ed5b",
        "IPY_MODEL_1946928ba2854b979a20c2fe25439c77",
        "IPY_MODEL_72e63abf0b9540ce805b87980ed89e95",
        "IPY_MODEL_c83f599b52d641468f80bbb667eaacdc",
        "IPY_MODEL_a047deafa37647639f117b8ad2067e89"
       ],
       "layout": "IPY_MODEL_966d44c63cc54765aebc62627a895ec3"
      }
     },
     "38a830dc5eeb49a0ad3691524883f9ce": {
      "model_module": "@jupyter-widgets/controls",
      "model_module_version": "1.5.0",
      "model_name": "HBoxModel",
      "state": {
       "children": [
        "IPY_MODEL_d9bb53e942574ac3910d5c281979d405",
        "IPY_MODEL_87a132313b4d4d21a593d18714a47acc",
        "IPY_MODEL_01293f271aa3473ba6626eb1a2f9d673",
        "IPY_MODEL_c67391aae7fa41d4b7bed96888db7be2",
        "IPY_MODEL_bfb6cc8b518a4f828e6ba374b129bd03",
        "IPY_MODEL_5a34725babfd4843ac3f89b652d0d42f"
       ],
       "layout": "IPY_MODEL_912bce5f80444f358bc7613f460a7567"
      }
     },
     "38ff899f3867443fbb6ea5d029624f69": {
      "model_module": "@jupyter-widgets/controls",
      "model_module_version": "1.5.0",
      "model_name": "HTMLModel",
      "state": {
       "layout": "IPY_MODEL_7b0bb620b0374a9bb8c2f339c2b1c9c0",
       "style": "IPY_MODEL_6bd37db49e554c1f9497bd3dbf4706cc",
       "value": "<h5>Message</h5>"
      }
     },
     "3975ca578a98441988d903a0aca2b162": {
      "model_module": "@jupyter-widgets/base",
      "model_module_version": "1.2.0",
      "model_name": "LayoutModel",
      "state": {
       "width": "190px"
      }
     },
     "3ad2127bcbda46adabee1f37439f3889": {
      "model_module": "@jupyter-widgets/controls",
      "model_module_version": "1.5.0",
      "model_name": "HTMLModel",
      "state": {
       "layout": "IPY_MODEL_41e0e197a03c4a749396013bcc16fcca",
       "style": "IPY_MODEL_a5160cf1e1234a2eb20fc63d75f8aa55",
       "value": "5e9ad783cf98430018a74ff0"
      }
     },
     "400e5dd158454cc9b791d30b9b4fa4e2": {
      "model_module": "@jupyter-widgets/controls",
      "model_module_version": "1.5.0",
      "model_name": "DescriptionStyleModel",
      "state": {
       "description_width": ""
      }
     },
     "4010988adef5420f9000c25b5fb8beac": {
      "model_module": "@jupyter-widgets/controls",
      "model_module_version": "1.5.0",
      "model_name": "ButtonModel",
      "state": {
       "icon": "close",
       "layout": "IPY_MODEL_2d69b8956951414681cb5a9d04a8be98",
       "style": "IPY_MODEL_2769ba3fe64b4b2da9ff44e7199f60ae"
      }
     },
     "4047dde68e19402cae13c1a1be138077": {
      "model_module": "@jupyter-widgets/controls",
      "model_module_version": "1.5.0",
      "model_name": "ButtonModel",
      "state": {
       "button_style": "primary",
       "description": "Clear",
       "layout": "IPY_MODEL_c26a80eb613648188bc54fe80d764a4d",
       "style": "IPY_MODEL_fc339f6a488b400b80540da5f3c48b5b"
      }
     },
     "41e0e197a03c4a749396013bcc16fcca": {
      "model_module": "@jupyter-widgets/base",
      "model_module_version": "1.2.0",
      "model_name": "LayoutModel",
      "state": {
       "width": "190px"
      }
     },
     "42bf27f4d16b4a0c940dbe1fa29ba047": {
      "model_module": "@jupyter-widgets/controls",
      "model_module_version": "1.5.0",
      "model_name": "DescriptionStyleModel",
      "state": {
       "description_width": ""
      }
     },
     "49834b9b82164bd286be6612a24ad7c3": {
      "model_module": "@jupyter-widgets/base",
      "model_module_version": "1.2.0",
      "model_name": "LayoutModel",
      "state": {
       "width": "95px"
      }
     },
     "4bf1bbbee9d14f0ab5823dbbe11f4640": {
      "model_module": "@jupyter-widgets/base",
      "model_module_version": "1.2.0",
      "model_name": "LayoutModel",
      "state": {
       "max_width": "700px",
       "min_width": "700px"
      }
     },
     "4c3ff66294a74404b7785aefb496920d": {
      "model_module": "@jupyter-widgets/controls",
      "model_module_version": "1.5.0",
      "model_name": "HTMLModel",
      "state": {
       "layout": "IPY_MODEL_121e8a7ac1344199a6c598870083f2a8",
       "style": "IPY_MODEL_f345760135e843f5b0df8d2cd2b817d4",
       "value": "ibmq_16_melbourne"
      }
     },
     "4d2690f25af94e09bfc7bc48bf63614f": {
      "model_module": "@jupyter-widgets/controls",
      "model_module_version": "1.5.0",
      "model_name": "HTMLModel",
      "state": {
       "layout": "IPY_MODEL_d1cd1f8bf3cd494496dd43ccf923b7ed",
       "style": "IPY_MODEL_d7ddb17ad1334a5b8dcdc78b5e8e92b7",
       "value": "job has successfully run"
      }
     },
     "4d42d53ed42d4c97845cdcf579567104": {
      "model_module": "@jupyter-widgets/controls",
      "model_module_version": "1.5.0",
      "model_name": "HTMLModel",
      "state": {
       "layout": "IPY_MODEL_54626d6221074e8b9d35607c2947e881",
       "style": "IPY_MODEL_7999968beb074749bd6b967c902ec312",
       "value": "-"
      }
     },
     "4db4ed3b302f43cf8a18ebbf37bbf36e": {
      "model_module": "@jupyter-widgets/controls",
      "model_module_version": "1.5.0",
      "model_name": "HTMLModel",
      "state": {
       "layout": "IPY_MODEL_b6fb2e37496048dd967edce1278599ae",
       "style": "IPY_MODEL_d9724337e95d4350828e2513e2e3daec",
       "value": "<font style='color:#34BC6E'>DONE</font>"
      }
     },
     "4dcd743166f14cf7a9a1dc91fa4821b4": {
      "model_module": "@jupyter-widgets/base",
      "model_module_version": "1.2.0",
      "model_name": "LayoutModel",
      "state": {
       "margin": "0px 0px 0px 37px",
       "width": "600px"
      }
     },
     "5275d2ec0f724f6e9651c7314e27a171": {
      "model_module": "@jupyter-widgets/controls",
      "model_module_version": "1.5.0",
      "model_name": "HTMLModel",
      "state": {
       "layout": "IPY_MODEL_0dc484f94cb64f2696a268fe7eef64d6",
       "style": "IPY_MODEL_19a5109b448f448a9963c6bb8bd53020",
       "value": "<font style='color:#34BC6E'>DONE</font>"
      }
     },
     "54626d6221074e8b9d35607c2947e881": {
      "model_module": "@jupyter-widgets/base",
      "model_module_version": "1.2.0",
      "model_name": "LayoutModel",
      "state": {
       "width": "70px"
      }
     },
     "554e1cb06a274e84b85010127e706356": {
      "model_module": "@jupyter-widgets/controls",
      "model_module_version": "1.5.0",
      "model_name": "HBoxModel",
      "state": {
       "children": [
        "IPY_MODEL_df4571fe61a7438c87ba16ccd4aae569",
        "IPY_MODEL_b3c7d65382f142ff8c602f2ad4f27eb0",
        "IPY_MODEL_b9e15c74c9b3470ab2a0fdbf1786577b",
        "IPY_MODEL_b637f9a1728a41049442732fd945a8d2",
        "IPY_MODEL_57399094e5544032bcf3e3214e9e054b"
       ],
       "layout": "IPY_MODEL_6aaedf085131466787de149330db9178"
      }
     },
     "558f92ee92634dafa7559cd7e8fe544b": {
      "model_module": "@jupyter-widgets/controls",
      "model_module_version": "1.5.0",
      "model_name": "ButtonStyleModel",
      "state": {
       "button_color": "white"
      }
     },
     "5612d3684ea14847b2f06b97310a38c4": {
      "model_module": "@jupyter-widgets/controls",
      "model_module_version": "1.5.0",
      "model_name": "DescriptionStyleModel",
      "state": {
       "description_width": ""
      }
     },
     "562181cc0f7444d8addaf4e9c76f3f62": {
      "model_module": "@jupyter-widgets/base",
      "model_module_version": "1.2.0",
      "model_name": "LayoutModel",
      "state": {
       "overflow_x": "scroll"
      }
     },
     "57399094e5544032bcf3e3214e9e054b": {
      "model_module": "@jupyter-widgets/controls",
      "model_module_version": "1.5.0",
      "model_name": "HTMLModel",
      "state": {
       "layout": "IPY_MODEL_c5b7f90374254cc09161dc3a065d25d4",
       "style": "IPY_MODEL_b5fbc00d454a4694bb59bc577c55fcfe",
       "value": "<h5>Message</h5>"
      }
     },
     "57aab12456884cb3ba6977c8fc37dc41": {
      "model_module": "@jupyter-widgets/base",
      "model_module_version": "1.2.0",
      "model_name": "LayoutModel",
      "state": {
       "width": "70px"
      }
     },
     "590f4757123b48ce96609b056f2d0435": {
      "model_module": "@jupyter-widgets/controls",
      "model_module_version": "1.5.0",
      "model_name": "DescriptionStyleModel",
      "state": {
       "description_width": ""
      }
     },
     "59bb09543f2f4ca590ab7f1ecbb44467": {
      "model_module": "@jupyter-widgets/controls",
      "model_module_version": "1.5.0",
      "model_name": "DescriptionStyleModel",
      "state": {
       "description_width": ""
      }
     },
     "5a34725babfd4843ac3f89b652d0d42f": {
      "model_module": "@jupyter-widgets/controls",
      "model_module_version": "1.5.0",
      "model_name": "HTMLModel",
      "state": {
       "layout": "IPY_MODEL_b8ecd6c6935b4850ab91286365b6b133",
       "style": "IPY_MODEL_db3e15f4db524746a416659c68ba33d1",
       "value": "job has been cancelled"
      }
     },
     "5ab05c0b31db4911959ea3129b7bb20d": {
      "model_module": "@jupyter-widgets/controls",
      "model_module_version": "1.5.0",
      "model_name": "HTMLModel",
      "state": {
       "layout": "IPY_MODEL_7071c4e12d2b4f6cb70d24570c6a0be3",
       "style": "IPY_MODEL_b72ef6986c364e5599f37fbd6343ee85",
       "value": "5e9ad61ac73c1d0018b4a89d"
      }
     },
     "5ea67497a85a4b57a764a5085b13b682": {
      "model_module": "@jupyter-widgets/controls",
      "model_module_version": "1.5.0",
      "model_name": "HTMLModel",
      "state": {
       "layout": "IPY_MODEL_360659a86550400bb92679fa9c7be7d9",
       "style": "IPY_MODEL_2ace177fce5945f2a4011139400238c1",
       "value": "<h5>Status</h5>"
      }
     },
     "6710b36ffe13412b8fa01d3c48c8b6a3": {
      "model_module": "@jupyter-widgets/controls",
      "model_module_version": "1.5.0",
      "model_name": "HTMLModel",
      "state": {
       "layout": "IPY_MODEL_e1b64b7b3b1042dd8e24a00701bcd4d0",
       "style": "IPY_MODEL_d5ae5a7be99b43bf85f402996ededb25",
       "value": "<p style='font-family: IBM Plex Sans, Arial, Helvetica, sans-serif; font-size: 22px; font-weight: medium;'>Circuit Details</p>"
      }
     },
     "6aaedf085131466787de149330db9178": {
      "model_module": "@jupyter-widgets/base",
      "model_module_version": "1.2.0",
      "model_name": "LayoutModel",
      "state": {
       "margin": "0px 0px 0px 37px",
       "width": "600px"
      }
     },
     "6bd37db49e554c1f9497bd3dbf4706cc": {
      "model_module": "@jupyter-widgets/controls",
      "model_module_version": "1.5.0",
      "model_name": "DescriptionStyleModel",
      "state": {
       "description_width": ""
      }
     },
     "6d9d44a249df43daa1359f3ce14b6c78": {
      "model_module": "@jupyter-widgets/controls",
      "model_module_version": "1.5.0",
      "model_name": "DescriptionStyleModel",
      "state": {
       "description_width": ""
      }
     },
     "6e826e88c68845eea7b793e509397346": {
      "model_module": "@jupyter-widgets/base",
      "model_module_version": "1.2.0",
      "model_name": "LayoutModel",
      "state": {
       "margin": "0px 5px 0px 0px",
       "width": "32px"
      }
     },
     "6ee46b1ecee943ff9174899b66bbfe53": {
      "model_module": "@jupyter-widgets/base",
      "model_module_version": "1.2.0",
      "model_name": "LayoutModel",
      "state": {
       "width": "95px"
      }
     },
     "7071c4e12d2b4f6cb70d24570c6a0be3": {
      "model_module": "@jupyter-widgets/base",
      "model_module_version": "1.2.0",
      "model_name": "LayoutModel",
      "state": {
       "width": "190px"
      }
     },
     "7192ee68fd1f4416901971a2b1587e5f": {
      "model_module": "@jupyter-widgets/base",
      "model_module_version": "1.2.0",
      "model_name": "LayoutModel",
      "state": {
       "max_width": "700px",
       "min_width": "700px"
      }
     },
     "72e63abf0b9540ce805b87980ed89e95": {
      "model_module": "@jupyter-widgets/controls",
      "model_module_version": "1.5.0",
      "model_name": "HTMLModel",
      "state": {
       "layout": "IPY_MODEL_a3f622757a084415aef4e53913a8cb18",
       "style": "IPY_MODEL_400e5dd158454cc9b791d30b9b4fa4e2",
       "value": "<font style='color:#FFB000'>CANCELLED</font>"
      }
     },
     "74d456625a4148bab22c47865a015243": {
      "model_module": "@jupyter-widgets/controls",
      "model_module_version": "1.5.0",
      "model_name": "HBoxModel",
      "state": {
       "children": [
        "IPY_MODEL_4010988adef5420f9000c25b5fb8beac",
        "IPY_MODEL_cdf41df70c844eebb36b74f22b021c33",
        "IPY_MODEL_f4ad3a0bc2164344a768854cf15d301c",
        "IPY_MODEL_4db4ed3b302f43cf8a18ebbf37bbf36e",
        "IPY_MODEL_8ef8f563297c49d4b2f0d304c16a2a02",
        "IPY_MODEL_4d2690f25af94e09bfc7bc48bf63614f"
       ],
       "layout": "IPY_MODEL_826dbec61a214aa7b49642cde03ef529"
      }
     },
     "771014122e944ebdbf121bf32d9af912": {
      "model_module": "@jupyter-widgets/controls",
      "model_module_version": "1.5.0",
      "model_name": "DescriptionStyleModel",
      "state": {
       "description_width": ""
      }
     },
     "774bcd60228f40ea84c0894b85779035": {
      "model_module": "@jupyter-widgets/controls",
      "model_module_version": "1.5.0",
      "model_name": "DescriptionStyleModel",
      "state": {
       "description_width": ""
      }
     },
     "7999968beb074749bd6b967c902ec312": {
      "model_module": "@jupyter-widgets/controls",
      "model_module_version": "1.5.0",
      "model_name": "DescriptionStyleModel",
      "state": {
       "description_width": ""
      }
     },
     "7a6f3cbb2c7c4fb4a91003413a48f5d2": {
      "model_module": "@jupyter-widgets/controls",
      "model_module_version": "1.5.0",
      "model_name": "ButtonModel",
      "state": {
       "icon": "close",
       "layout": "IPY_MODEL_6e826e88c68845eea7b793e509397346",
       "style": "IPY_MODEL_a6f2c29cf29c411f9bb052de67d658b1"
      }
     },
     "7b0bb620b0374a9bb8c2f339c2b1c9c0": {
      "model_module": "@jupyter-widgets/base",
      "model_module_version": "1.2.0",
      "model_name": "LayoutModel",
      "state": {}
     },
     "7d49b8430ad34ba8828a9f9b6d96f9fb": {
      "model_module": "@jupyter-widgets/controls",
      "model_module_version": "1.5.0",
      "model_name": "HTMLModel",
      "state": {
       "layout": "IPY_MODEL_6ee46b1ecee943ff9174899b66bbfe53",
       "style": "IPY_MODEL_a06f253ff0bd4720b443d3530ee9e6a4",
       "value": "<font style='color:#34BC6E'>DONE</font>"
      }
     },
     "7d60ea7ef5884e8a99097050edb7d966": {
      "model_module": "@jupyter-widgets/base",
      "model_module_version": "1.2.0",
      "model_name": "LayoutModel",
      "state": {
       "width": "190px"
      }
     },
     "826dbec61a214aa7b49642cde03ef529": {
      "model_module": "@jupyter-widgets/base",
      "model_module_version": "1.2.0",
      "model_name": "LayoutModel",
      "state": {
       "max_width": "700px",
       "min_width": "700px"
      }
     },
     "84fa26820df84c719b231ee0452b688b": {
      "model_module": "@jupyter-widgets/controls",
      "model_module_version": "1.5.0",
      "model_name": "GridBoxModel",
      "state": {
       "children": [
        "IPY_MODEL_8baf440d80774e98a05864b45158eb07"
       ],
       "layout": "IPY_MODEL_db09808fc0de4bbcb24f3808bb4ec418"
      }
     },
     "87a132313b4d4d21a593d18714a47acc": {
      "model_module": "@jupyter-widgets/controls",
      "model_module_version": "1.5.0",
      "model_name": "HTMLModel",
      "state": {
       "layout": "IPY_MODEL_12010cffe8cd4263820f3c36dda33a04",
       "style": "IPY_MODEL_771014122e944ebdbf121bf32d9af912",
       "value": "5e9ad8fbf9bae90018f3457c"
      }
     },
     "88c16034d14746628b56d3fcce0f264d": {
      "model_module": "@jupyter-widgets/base",
      "model_module_version": "1.2.0",
      "model_name": "LayoutModel",
      "state": {
       "width": "145px"
      }
     },
     "8a270305e08a432a8aceae018d67e154": {
      "model_module": "@jupyter-widgets/base",
      "model_module_version": "1.2.0",
      "model_name": "LayoutModel",
      "state": {
       "max_width": "700px",
       "min_width": "700px"
      }
     },
     "8baf440d80774e98a05864b45158eb07": {
      "model_module": "@jupyter-widgets/controls",
      "model_module_version": "1.5.0",
      "model_name": "ButtonModel",
      "state": {
       "button_style": "primary",
       "description": "Clear",
       "layout": "IPY_MODEL_c88ba22ff7f44c149495c1199de5d5e9",
       "style": "IPY_MODEL_14c99ddd978749d3be57193b299b08fe"
      }
     },
     "8c13e249b5ab476e9e7a4f477064199d": {
      "model_module": "@jupyter-widgets/base",
      "model_module_version": "1.2.0",
      "model_name": "LayoutModel",
      "state": {
       "margin": "0px 5px 0px 0px",
       "width": "32px"
      }
     },
     "8ef8f563297c49d4b2f0d304c16a2a02": {
      "model_module": "@jupyter-widgets/controls",
      "model_module_version": "1.5.0",
      "model_name": "HTMLModel",
      "state": {
       "layout": "IPY_MODEL_f70d2db5db384630bf70017563f490c9",
       "style": "IPY_MODEL_fad98286f8934bea98053afac064c0d8",
       "value": "-"
      }
     },
     "8f735b9687db4ea095581ffa59ec1065": {
      "model_module": "@jupyter-widgets/base",
      "model_module_version": "1.2.0",
      "model_name": "LayoutModel",
      "state": {
       "width": "70px"
      }
     },
     "8fa7e39b4d9c4b018d4b6cd2c93c1842": {
      "model_module": "@jupyter-widgets/controls",
      "model_module_version": "1.5.0",
      "model_name": "DescriptionStyleModel",
      "state": {
       "description_width": ""
      }
     },
     "90d04cb3ea8f4c91b753c3cb7759a7d1": {
      "model_module": "@jupyter-widgets/controls",
      "model_module_version": "1.5.0",
      "model_name": "HTMLModel",
      "state": {
       "layout": "IPY_MODEL_98940ddc32794551ae342630e965e707",
       "style": "IPY_MODEL_1e71da50e082414eabd806164caa247f",
       "value": "5e9ad6ddcf98430018a74fe5"
      }
     },
     "912bce5f80444f358bc7613f460a7567": {
      "model_module": "@jupyter-widgets/base",
      "model_module_version": "1.2.0",
      "model_name": "LayoutModel",
      "state": {
       "max_width": "700px",
       "min_width": "700px"
      }
     },
     "933486bc8d3f4debaaf0da8bae0ef7c5": {
      "model_module": "@jupyter-widgets/controls",
      "model_module_version": "1.5.0",
      "model_name": "HTMLModel",
      "state": {
       "layout": "IPY_MODEL_211bcd18afb44b36a2e52e96f95d6ac7",
       "style": "IPY_MODEL_d87b676c5f144752bd35b8072a71e7ca",
       "value": "ibmq_ourense"
      }
     },
     "966d44c63cc54765aebc62627a895ec3": {
      "model_module": "@jupyter-widgets/base",
      "model_module_version": "1.2.0",
      "model_name": "LayoutModel",
      "state": {
       "max_width": "700px",
       "min_width": "700px"
      }
     },
     "9674036abb8b485fa99a40e24b011c93": {
      "model_module": "@jupyter-widgets/base",
      "model_module_version": "1.2.0",
      "model_name": "LayoutModel",
      "state": {
       "width": "145px"
      }
     },
     "98940ddc32794551ae342630e965e707": {
      "model_module": "@jupyter-widgets/base",
      "model_module_version": "1.2.0",
      "model_name": "LayoutModel",
      "state": {
       "width": "190px"
      }
     },
     "9bac08d4ce7d4ba0bb15a4c0045fb6c3": {
      "model_module": "@jupyter-widgets/base",
      "model_module_version": "1.2.0",
      "model_name": "LayoutModel",
      "state": {
       "width": "70px"
      }
     },
     "9e8788ac69ab4ccfab963987260c0f07": {
      "model_module": "@jupyter-widgets/controls",
      "model_module_version": "1.5.0",
      "model_name": "ButtonStyleModel",
      "state": {
       "button_color": "white"
      }
     },
     "a03629f7e5564c4d92e98562157e9d3c": {
      "model_module": "@jupyter-widgets/controls",
      "model_module_version": "1.5.0",
      "model_name": "HTMLModel",
      "state": {
       "layout": "IPY_MODEL_09d7d81cac3b446e8cd140f236f8e465",
       "style": "IPY_MODEL_c754ffa0fbfb4cd2a3933a71d40de247",
       "value": "ibmq_london"
      }
     },
     "a047deafa37647639f117b8ad2067e89": {
      "model_module": "@jupyter-widgets/controls",
      "model_module_version": "1.5.0",
      "model_name": "HTMLModel",
      "state": {
       "layout": "IPY_MODEL_1dbb27b9fb324a5a9c53cc4d96822305",
       "style": "IPY_MODEL_e70eb538861041c5a65b7ac285db6e8a",
       "value": "job has been cancelled"
      }
     },
     "a06f253ff0bd4720b443d3530ee9e6a4": {
      "model_module": "@jupyter-widgets/controls",
      "model_module_version": "1.5.0",
      "model_name": "DescriptionStyleModel",
      "state": {
       "description_width": ""
      }
     },
     "a3f622757a084415aef4e53913a8cb18": {
      "model_module": "@jupyter-widgets/base",
      "model_module_version": "1.2.0",
      "model_name": "LayoutModel",
      "state": {
       "width": "95px"
      }
     },
     "a3fbb359fea6490d823a7bcf7460e5cf": {
      "model_module": "@jupyter-widgets/controls",
      "model_module_version": "1.5.0",
      "model_name": "HBoxModel",
      "state": {
       "children": [
        "IPY_MODEL_0e86a8bb109e42b59f5d921bb05e5564",
        "IPY_MODEL_0ac70a15aca447c4b9acde6df6a6cf51",
        "IPY_MODEL_5ea67497a85a4b57a764a5085b13b682",
        "IPY_MODEL_f40b6bf9e023461893dbf5551a721b56",
        "IPY_MODEL_38ff899f3867443fbb6ea5d029624f69"
       ],
       "layout": "IPY_MODEL_4dcd743166f14cf7a9a1dc91fa4821b4"
      }
     },
     "a4d0d9527db44dddabe1ed30de3edfc1": {
      "model_module": "@jupyter-widgets/controls",
      "model_module_version": "1.5.0",
      "model_name": "ButtonStyleModel",
      "state": {
       "button_color": "white"
      }
     },
     "a5160cf1e1234a2eb20fc63d75f8aa55": {
      "model_module": "@jupyter-widgets/controls",
      "model_module_version": "1.5.0",
      "model_name": "DescriptionStyleModel",
      "state": {
       "description_width": ""
      }
     },
     "a6f2c29cf29c411f9bb052de67d658b1": {
      "model_module": "@jupyter-widgets/controls",
      "model_module_version": "1.5.0",
      "model_name": "ButtonStyleModel",
      "state": {
       "button_color": "white"
      }
     },
     "a9c53555898e44f2963fef49e550ed5b": {
      "model_module": "@jupyter-widgets/controls",
      "model_module_version": "1.5.0",
      "model_name": "HTMLModel",
      "state": {
       "layout": "IPY_MODEL_f5cc9598543d4c0c92008fe3fb332693",
       "style": "IPY_MODEL_340cd73ba50b4d158d4ca798da04f1e6",
       "value": "5e9ad3fb2a44910018bb276d"
      }
     },
     "af3f624bdc8b4a8fbb1a609935e3d33c": {
      "model_module": "@jupyter-widgets/base",
      "model_module_version": "1.2.0",
      "model_name": "LayoutModel",
      "state": {
       "margin": "0px 5px 0px 0px",
       "width": "32px"
      }
     },
     "b0ed4f0f1ded47ecb81873c8799479e0": {
      "model_module": "@jupyter-widgets/controls",
      "model_module_version": "1.5.0",
      "model_name": "ButtonModel",
      "state": {
       "icon": "close",
       "layout": "IPY_MODEL_8c13e249b5ab476e9e7a4f477064199d",
       "style": "IPY_MODEL_9e8788ac69ab4ccfab963987260c0f07"
      }
     },
     "b2ac413c994649f99160361673474ec1": {
      "model_module": "@jupyter-widgets/controls",
      "model_module_version": "1.5.0",
      "model_name": "HTMLModel",
      "state": {
       "layout": "IPY_MODEL_cb2227c2510349e488c9fb5bfbea73cb",
       "style": "IPY_MODEL_34cd6b9e4ef341bf886c89cbaa74957a",
       "value": "-"
      }
     },
     "b3c7d65382f142ff8c602f2ad4f27eb0": {
      "model_module": "@jupyter-widgets/controls",
      "model_module_version": "1.5.0",
      "model_name": "HTMLModel",
      "state": {
       "layout": "IPY_MODEL_dea6dbb09fa44cf286d454b93fa915e0",
       "style": "IPY_MODEL_5612d3684ea14847b2f06b97310a38c4",
       "value": "<h5>Backend</h5>"
      }
     },
     "b583cf0576e940449d9ea823dd630e69": {
      "model_module": "@jupyter-widgets/base",
      "model_module_version": "1.2.0",
      "model_name": "LayoutModel",
      "state": {
       "margin": "0px 5px 0px 0px",
       "width": "32px"
      }
     },
     "b5fbc00d454a4694bb59bc577c55fcfe": {
      "model_module": "@jupyter-widgets/controls",
      "model_module_version": "1.5.0",
      "model_name": "DescriptionStyleModel",
      "state": {
       "description_width": ""
      }
     },
     "b6066a1b5b0b4a999bcfe331b8f7adbb": {
      "model_module": "@jupyter-widgets/controls",
      "model_module_version": "1.5.0",
      "model_name": "HTMLModel",
      "state": {
       "layout": "IPY_MODEL_dda397fd3ebe441a936aecdff269c53d",
       "style": "IPY_MODEL_deae50c755224db0b79d9433742409b4",
       "value": "<font style='color:#FFB000'>CANCELLED</font>"
      }
     },
     "b637f9a1728a41049442732fd945a8d2": {
      "model_module": "@jupyter-widgets/controls",
      "model_module_version": "1.5.0",
      "model_name": "HTMLModel",
      "state": {
       "layout": "IPY_MODEL_9bac08d4ce7d4ba0bb15a4c0045fb6c3",
       "style": "IPY_MODEL_d79c3c1718ac445ca4db235071c971b7",
       "value": "<h5>Queue</h5>"
      }
     },
     "b6fb2e37496048dd967edce1278599ae": {
      "model_module": "@jupyter-widgets/base",
      "model_module_version": "1.2.0",
      "model_name": "LayoutModel",
      "state": {
       "width": "95px"
      }
     },
     "b72ef6986c364e5599f37fbd6343ee85": {
      "model_module": "@jupyter-widgets/controls",
      "model_module_version": "1.5.0",
      "model_name": "DescriptionStyleModel",
      "state": {
       "description_width": ""
      }
     },
     "b8416cbacde2472b86c6e0c9b6f51ca3": {
      "model_module": "@jupyter-widgets/base",
      "model_module_version": "1.2.0",
      "model_name": "LayoutModel",
      "state": {
       "width": "70px"
      }
     },
     "b8ecd6c6935b4850ab91286365b6b133": {
      "model_module": "@jupyter-widgets/base",
      "model_module_version": "1.2.0",
      "model_name": "LayoutModel",
      "state": {
       "overflow_x": "scroll"
      }
     },
     "b9e15c74c9b3470ab2a0fdbf1786577b": {
      "model_module": "@jupyter-widgets/controls",
      "model_module_version": "1.5.0",
      "model_name": "HTMLModel",
      "state": {
       "layout": "IPY_MODEL_49834b9b82164bd286be6612a24ad7c3",
       "style": "IPY_MODEL_f4c4ce53515a402faa21e9524af37c59",
       "value": "<h5>Status</h5>"
      }
     },
     "bb849279e3b64bc69906b66a189e94ec": {
      "model_module": "@jupyter-widgets/controls",
      "model_module_version": "1.5.0",
      "model_name": "HTMLModel",
      "state": {
       "layout": "IPY_MODEL_13e34702574f43f5a42adb334f05d51c",
       "style": "IPY_MODEL_590f4757123b48ce96609b056f2d0435",
       "value": "job has been cancelled"
      }
     },
     "bfb6cc8b518a4f828e6ba374b129bd03": {
      "model_module": "@jupyter-widgets/controls",
      "model_module_version": "1.5.0",
      "model_name": "HTMLModel",
      "state": {
       "layout": "IPY_MODEL_f539c539da794878b416e2466190be6a",
       "style": "IPY_MODEL_774bcd60228f40ea84c0894b85779035",
       "value": "-"
      }
     },
     "c26a80eb613648188bc54fe80d764a4d": {
      "model_module": "@jupyter-widgets/base",
      "model_module_version": "1.2.0",
      "model_name": "LayoutModel",
      "state": {
       "grid_area": "right",
       "padding": "0px 0px 0px 0px",
       "width": "70px"
      }
     },
     "c5b7f90374254cc09161dc3a065d25d4": {
      "model_module": "@jupyter-widgets/base",
      "model_module_version": "1.2.0",
      "model_name": "LayoutModel",
      "state": {}
     },
     "c67391aae7fa41d4b7bed96888db7be2": {
      "model_module": "@jupyter-widgets/controls",
      "model_module_version": "1.5.0",
      "model_name": "HTMLModel",
      "state": {
       "layout": "IPY_MODEL_e42fdf306cfe412d826559b247212397",
       "style": "IPY_MODEL_33ed284876064f2f92af6742e620e4cc",
       "value": "<font style='color:#FFB000'>CANCELLED</font>"
      }
     },
     "c754ffa0fbfb4cd2a3933a71d40de247": {
      "model_module": "@jupyter-widgets/controls",
      "model_module_version": "1.5.0",
      "model_name": "DescriptionStyleModel",
      "state": {
       "description_width": ""
      }
     },
     "c825e635f235421cb65a78596c3e8a68": {
      "model_module": "@jupyter-widgets/base",
      "model_module_version": "1.2.0",
      "model_name": "LayoutModel",
      "state": {
       "width": "145px"
      }
     },
     "c83f599b52d641468f80bbb667eaacdc": {
      "model_module": "@jupyter-widgets/controls",
      "model_module_version": "1.5.0",
      "model_name": "HTMLModel",
      "state": {
       "layout": "IPY_MODEL_8f735b9687db4ea095581ffa59ec1065",
       "style": "IPY_MODEL_e2cdb4240f7e4b6f86d8808ddea462cf",
       "value": "-"
      }
     },
     "c88ba22ff7f44c149495c1199de5d5e9": {
      "model_module": "@jupyter-widgets/base",
      "model_module_version": "1.2.0",
      "model_name": "LayoutModel",
      "state": {
       "grid_area": "right",
       "padding": "0px 0px 0px 0px",
       "width": "70px"
      }
     },
     "cb2227c2510349e488c9fb5bfbea73cb": {
      "model_module": "@jupyter-widgets/base",
      "model_module_version": "1.2.0",
      "model_name": "LayoutModel",
      "state": {
       "width": "70px"
      }
     },
     "cd7048a4338f4daa9c839f57aa0f4f93": {
      "model_module": "@jupyter-widgets/base",
      "model_module_version": "1.2.0",
      "model_name": "LayoutModel",
      "state": {
       "overflow_x": "scroll"
      }
     },
     "cdf41df70c844eebb36b74f22b021c33": {
      "model_module": "@jupyter-widgets/controls",
      "model_module_version": "1.5.0",
      "model_name": "HTMLModel",
      "state": {
       "layout": "IPY_MODEL_3975ca578a98441988d903a0aca2b162",
       "style": "IPY_MODEL_0ed325dc092f48e0acf8fbee7cfe3116",
       "value": "5e9ada41cf98430018a7502d"
      }
     },
     "d1cd1f8bf3cd494496dd43ccf923b7ed": {
      "model_module": "@jupyter-widgets/base",
      "model_module_version": "1.2.0",
      "model_name": "LayoutModel",
      "state": {
       "overflow_x": "scroll"
      }
     },
     "d5ae5a7be99b43bf85f402996ededb25": {
      "model_module": "@jupyter-widgets/controls",
      "model_module_version": "1.5.0",
      "model_name": "DescriptionStyleModel",
      "state": {
       "description_width": ""
      }
     },
     "d79c3c1718ac445ca4db235071c971b7": {
      "model_module": "@jupyter-widgets/controls",
      "model_module_version": "1.5.0",
      "model_name": "DescriptionStyleModel",
      "state": {
       "description_width": ""
      }
     },
     "d7ddb17ad1334a5b8dcdc78b5e8e92b7": {
      "model_module": "@jupyter-widgets/controls",
      "model_module_version": "1.5.0",
      "model_name": "DescriptionStyleModel",
      "state": {
       "description_width": ""
      }
     },
     "d87b676c5f144752bd35b8072a71e7ca": {
      "model_module": "@jupyter-widgets/controls",
      "model_module_version": "1.5.0",
      "model_name": "DescriptionStyleModel",
      "state": {
       "description_width": ""
      }
     },
     "d9724337e95d4350828e2513e2e3daec": {
      "model_module": "@jupyter-widgets/controls",
      "model_module_version": "1.5.0",
      "model_name": "DescriptionStyleModel",
      "state": {
       "description_width": ""
      }
     },
     "d9bb53e942574ac3910d5c281979d405": {
      "model_module": "@jupyter-widgets/controls",
      "model_module_version": "1.5.0",
      "model_name": "ButtonModel",
      "state": {
       "icon": "close",
       "layout": "IPY_MODEL_b583cf0576e940449d9ea823dd630e69",
       "style": "IPY_MODEL_558f92ee92634dafa7559cd7e8fe544b"
      }
     },
     "db09808fc0de4bbcb24f3808bb4ec418": {
      "model_module": "@jupyter-widgets/base",
      "model_module_version": "1.2.0",
      "model_name": "LayoutModel",
      "state": {
       "grid_template_areas": "\n                                       \". . . . right \"\n                                        ",
       "grid_template_columns": "20% 20% 20% 20% 20%",
       "width": "100%"
      }
     },
     "db3e15f4db524746a416659c68ba33d1": {
      "model_module": "@jupyter-widgets/controls",
      "model_module_version": "1.5.0",
      "model_name": "DescriptionStyleModel",
      "state": {
       "description_width": ""
      }
     },
     "dda397fd3ebe441a936aecdff269c53d": {
      "model_module": "@jupyter-widgets/base",
      "model_module_version": "1.2.0",
      "model_name": "LayoutModel",
      "state": {
       "width": "95px"
      }
     },
     "de14b16f182046c98bde8d558a768ea6": {
      "model_module": "@jupyter-widgets/controls",
      "model_module_version": "1.5.0",
      "model_name": "ButtonModel",
      "state": {
       "icon": "close",
       "layout": "IPY_MODEL_af3f624bdc8b4a8fbb1a609935e3d33c",
       "style": "IPY_MODEL_a4d0d9527db44dddabe1ed30de3edfc1"
      }
     },
     "dea6dbb09fa44cf286d454b93fa915e0": {
      "model_module": "@jupyter-widgets/base",
      "model_module_version": "1.2.0",
      "model_name": "LayoutModel",
      "state": {
       "width": "145px"
      }
     },
     "deae50c755224db0b79d9433742409b4": {
      "model_module": "@jupyter-widgets/controls",
      "model_module_version": "1.5.0",
      "model_name": "DescriptionStyleModel",
      "state": {
       "description_width": ""
      }
     },
     "df4571fe61a7438c87ba16ccd4aae569": {
      "model_module": "@jupyter-widgets/controls",
      "model_module_version": "1.5.0",
      "model_name": "HTMLModel",
      "state": {
       "layout": "IPY_MODEL_0ee7fb887fdc4b3b943bf1b21d412bc6",
       "style": "IPY_MODEL_075c3f8641574639a6c3c5ffe6ea4c05",
       "value": "<h5>Job ID</h5>"
      }
     },
     "df6f72d0714b4b159f14dde730c7732e": {
      "model_module": "@jupyter-widgets/controls",
      "model_module_version": "1.5.0",
      "model_name": "HTMLModel",
      "state": {
       "layout": "IPY_MODEL_0b9c1c2ab8d4413c8cf4ed962899a930",
       "style": "IPY_MODEL_e77bd46759924ccc9777a5225a50344f",
       "value": "<p style='font-family: IBM Plex Sans, Arial, Helvetica, sans-serif; font-size: 22px; font-weight: medium;'>Circuit Details</p>"
      }
     },
     "e1b64b7b3b1042dd8e24a00701bcd4d0": {
      "model_module": "@jupyter-widgets/base",
      "model_module_version": "1.2.0",
      "model_name": "LayoutModel",
      "state": {
       "margin": "0px 0px 10px 0px"
      }
     },
     "e2cdb4240f7e4b6f86d8808ddea462cf": {
      "model_module": "@jupyter-widgets/controls",
      "model_module_version": "1.5.0",
      "model_name": "DescriptionStyleModel",
      "state": {
       "description_width": ""
      }
     },
     "e42fdf306cfe412d826559b247212397": {
      "model_module": "@jupyter-widgets/base",
      "model_module_version": "1.2.0",
      "model_name": "LayoutModel",
      "state": {
       "width": "95px"
      }
     },
     "e70eb538861041c5a65b7ac285db6e8a": {
      "model_module": "@jupyter-widgets/controls",
      "model_module_version": "1.5.0",
      "model_name": "DescriptionStyleModel",
      "state": {
       "description_width": ""
      }
     },
     "e77bd46759924ccc9777a5225a50344f": {
      "model_module": "@jupyter-widgets/controls",
      "model_module_version": "1.5.0",
      "model_name": "DescriptionStyleModel",
      "state": {
       "description_width": ""
      }
     },
     "e7ddc108ac2048789ade2dde64d5a6b2": {
      "model_module": "@jupyter-widgets/base",
      "model_module_version": "1.2.0",
      "model_name": "LayoutModel",
      "state": {
       "margin": "0px 5px 0px 0px",
       "width": "32px"
      }
     },
     "e8e1bca1a7164b18b56eb3a26c011159": {
      "model_module": "@jupyter-widgets/controls",
      "model_module_version": "1.5.0",
      "model_name": "DescriptionStyleModel",
      "state": {
       "description_width": ""
      }
     },
     "eab60a0ad5ef4be5abf6df2b33e171a4": {
      "model_module": "@jupyter-widgets/controls",
      "model_module_version": "1.5.0",
      "model_name": "DescriptionStyleModel",
      "state": {
       "description_width": ""
      }
     },
     "eb77ca8df08b469b8efc1e821594804f": {
      "model_module": "@jupyter-widgets/controls",
      "model_module_version": "1.5.0",
      "model_name": "HTMLModel",
      "state": {
       "layout": "IPY_MODEL_562181cc0f7444d8addaf4e9c76f3f62",
       "style": "IPY_MODEL_6d9d44a249df43daa1359f3ce14b6c78",
       "value": "job has successfully run"
      }
     },
     "f2e1c5653d4a46208fc201b89e31a263": {
      "model_module": "@jupyter-widgets/base",
      "model_module_version": "1.2.0",
      "model_name": "LayoutModel",
      "state": {
       "width": "145px"
      }
     },
     "f345760135e843f5b0df8d2cd2b817d4": {
      "model_module": "@jupyter-widgets/controls",
      "model_module_version": "1.5.0",
      "model_name": "DescriptionStyleModel",
      "state": {
       "description_width": ""
      }
     },
     "f40884658a3e4f4882d482ff3469f7fb": {
      "model_module": "@jupyter-widgets/controls",
      "model_module_version": "1.5.0",
      "model_name": "ButtonModel",
      "state": {
       "icon": "close",
       "layout": "IPY_MODEL_e7ddc108ac2048789ade2dde64d5a6b2",
       "style": "IPY_MODEL_30629ed795154e1a9493b78f41640f35"
      }
     },
     "f40b6bf9e023461893dbf5551a721b56": {
      "model_module": "@jupyter-widgets/controls",
      "model_module_version": "1.5.0",
      "model_name": "HTMLModel",
      "state": {
       "layout": "IPY_MODEL_57aab12456884cb3ba6977c8fc37dc41",
       "style": "IPY_MODEL_42bf27f4d16b4a0c940dbe1fa29ba047",
       "value": "<h5>Queue</h5>"
      }
     },
     "f4ad3a0bc2164344a768854cf15d301c": {
      "model_module": "@jupyter-widgets/controls",
      "model_module_version": "1.5.0",
      "model_name": "HTMLModel",
      "state": {
       "layout": "IPY_MODEL_f2e1c5653d4a46208fc201b89e31a263",
       "style": "IPY_MODEL_02540057133f4374b37321d4af431e87",
       "value": "ibmq_16_melbourne"
      }
     },
     "f4c4ce53515a402faa21e9524af37c59": {
      "model_module": "@jupyter-widgets/controls",
      "model_module_version": "1.5.0",
      "model_name": "DescriptionStyleModel",
      "state": {
       "description_width": ""
      }
     },
     "f539c539da794878b416e2466190be6a": {
      "model_module": "@jupyter-widgets/base",
      "model_module_version": "1.2.0",
      "model_name": "LayoutModel",
      "state": {
       "width": "70px"
      }
     },
     "f5cc9598543d4c0c92008fe3fb332693": {
      "model_module": "@jupyter-widgets/base",
      "model_module_version": "1.2.0",
      "model_name": "LayoutModel",
      "state": {
       "width": "190px"
      }
     },
     "f70d2db5db384630bf70017563f490c9": {
      "model_module": "@jupyter-widgets/base",
      "model_module_version": "1.2.0",
      "model_name": "LayoutModel",
      "state": {
       "width": "70px"
      }
     },
     "f85b1eeb002146f38d69ecbcf282699e": {
      "model_module": "@jupyter-widgets/controls",
      "model_module_version": "1.5.0",
      "model_name": "HTMLModel",
      "state": {
       "layout": "IPY_MODEL_b8416cbacde2472b86c6e0c9b6f51ca3",
       "style": "IPY_MODEL_59bb09543f2f4ca590ab7f1ecbb44467",
       "value": "-"
      }
     },
     "fad98286f8934bea98053afac064c0d8": {
      "model_module": "@jupyter-widgets/controls",
      "model_module_version": "1.5.0",
      "model_name": "DescriptionStyleModel",
      "state": {
       "description_width": ""
      }
     },
     "fb022b9da7194ce78cb8c390cc335785": {
      "model_module": "@jupyter-widgets/controls",
      "model_module_version": "1.5.0",
      "model_name": "HBoxModel",
      "state": {
       "children": [
        "IPY_MODEL_f40884658a3e4f4882d482ff3469f7fb",
        "IPY_MODEL_5ab05c0b31db4911959ea3129b7bb20d",
        "IPY_MODEL_4c3ff66294a74404b7785aefb496920d",
        "IPY_MODEL_b6066a1b5b0b4a999bcfe331b8f7adbb",
        "IPY_MODEL_4d42d53ed42d4c97845cdcf579567104",
        "IPY_MODEL_bb849279e3b64bc69906b66a189e94ec"
       ],
       "layout": "IPY_MODEL_8a270305e08a432a8aceae018d67e154"
      }
     },
     "fc339f6a488b400b80540da5f3c48b5b": {
      "model_module": "@jupyter-widgets/controls",
      "model_module_version": "1.5.0",
      "model_name": "ButtonStyleModel",
      "state": {}
     },
     "fd0233f687e34e7da343250f878a2ba1": {
      "model_module": "@jupyter-widgets/base",
      "model_module_version": "1.2.0",
      "model_name": "LayoutModel",
      "state": {
       "grid_template_areas": "\n                                       \". . . . right \"\n                                        ",
       "grid_template_columns": "20% 20% 20% 20% 20%",
       "width": "100%"
      }
     }
    },
    "version_major": 2,
    "version_minor": 0
   }
  }
 },
 "nbformat": 4,
 "nbformat_minor": 4
}
